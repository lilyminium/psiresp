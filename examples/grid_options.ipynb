{
 "cells": [
  {
   "cell_type": "markdown",
   "id": "ffb31f3f",
   "metadata": {},
   "source": [
    "# Exploring the effect of grid options"
   ]
  },
  {
   "cell_type": "code",
   "execution_count": 50,
   "id": "582df699",
   "metadata": {},
   "outputs": [],
   "source": [
    "import numpy as np\n",
    "import psiresp\n",
    "from psiresp.mixins.grid import GridOptions\n",
    "from psiresp.tests.datafiles import ETHANOL_C1\n",
    "import MDAnalysis as mda\n",
    "import nglview as nv"
   ]
  },
  {
   "cell_type": "code",
   "execution_count": 51,
   "id": "a8ccd752",
   "metadata": {},
   "outputs": [
    {
     "data": {
      "application/vnd.jupyter.widget-view+json": {
       "model_id": "b29302c7222c4c438bac23cf0ac0cd66",
       "version_major": 2,
       "version_minor": 0
      },
      "text/plain": [
       "NGLWidget()"
      ]
     },
     "metadata": {},
     "output_type": "display_data"
    }
   ],
   "source": [
    "u = mda.Universe(ETHANOL_C1)\n",
    "nv.show_mdanalysis(u)"
   ]
  },
  {
   "cell_type": "markdown",
   "id": "626916d6",
   "metadata": {},
   "source": [
    "## Scale factors\n",
    "\n",
    "Scale factors control how far from each atom the grid begins. For example, the default value constructs four shells, from `[1.4, 1.6, 1.8, 2.0]` times the atomic radius. Below I construct and visualize the first shell."
   ]
  },
  {
   "cell_type": "code",
   "execution_count": 4,
   "id": "ced0923e",
   "metadata": {},
   "outputs": [],
   "source": [
    "grid_options_shell_1 = GridOptions(vdw_scale_factors=[1.4])\n",
    "shell_1 = grid_options_shell_1.generate_vdw_grid(u.atoms.elements, u.atoms.positions)"
   ]
  },
  {
   "cell_type": "code",
   "execution_count": 34,
   "id": "8162d679",
   "metadata": {},
   "outputs": [
    {
     "data": {
      "application/vnd.jupyter.widget-view+json": {
       "model_id": "bf3979d9bbc145359c5f84af7f6665fb",
       "version_major": 2,
       "version_minor": 0
      },
      "text/plain": [
       "NGLWidget()"
      ]
     },
     "metadata": {},
     "output_type": "display_data"
    }
   ],
   "source": [
    "def add_points_to_view(view, points, color):\n",
    "    points = list(np.concatenate(points))\n",
    "    radii = [0.1] * len(points)\n",
    "    color = color * (int(len(points) / 3))\n",
    "    view.shape.add_buffer(\"sphere\", position=points,\n",
    "                          radius=radii, color=color)\n",
    "    return view\n",
    "\n",
    "view = nv.show_mdanalysis(u)\n",
    "add_points_to_view(view, shell_1, [0, 0, 1])\n",
    "view"
   ]
  },
  {
   "cell_type": "markdown",
   "id": "ca081999",
   "metadata": {},
   "source": [
    "The larger the scale factor, the further away from the molecule. Below I visualize the scale factor of 1.6 in green, and 1.8 and 2.0 in yellow."
   ]
  },
  {
   "cell_type": "code",
   "execution_count": 37,
   "id": "e8c6e79f",
   "metadata": {},
   "outputs": [
    {
     "data": {
      "application/vnd.jupyter.widget-view+json": {
       "model_id": "95ec791cd3d34d9db075060ac7aeeaec",
       "version_major": 2,
       "version_minor": 0
      },
      "text/plain": [
       "NGLWidget()"
      ]
     },
     "metadata": {},
     "output_type": "display_data"
    }
   ],
   "source": [
    "grid_options_shell_2 = GridOptions(vdw_scale_factors=[1.6])\n",
    "shell_2 = grid_options_shell_2.generate_vdw_grid(u.atoms.elements, u.atoms.positions)\n",
    "grid_options_shell_3_4 = GridOptions(vdw_scale_factors=[1.8, 2.0])\n",
    "shell_3_4 = grid_options_shell_3_4.generate_vdw_grid(u.atoms.elements, u.atoms.positions)\n",
    "\n",
    "view = nv.show_mdanalysis(u)\n",
    "add_points_to_view(view, shell_1, [0, 0, 1])\n",
    "add_points_to_view(view, shell_2, [0, 1, 0])\n",
    "add_points_to_view(view, shell_3_4, [1, 1, 0])\n",
    "view"
   ]
  },
  {
   "cell_type": "markdown",
   "id": "04c38624",
   "metadata": {},
   "source": [
    "## Point density\n",
    "\n",
    "The Resp2 classes have a higher point density than normal Resp, at 2.5. In the **Scale factors** section an example of a shell at 1.0 density was already given. Below we visualize the same shell at 2.5 density."
   ]
  },
  {
   "cell_type": "code",
   "execution_count": 38,
   "id": "f6fd482e",
   "metadata": {},
   "outputs": [
    {
     "data": {
      "application/vnd.jupyter.widget-view+json": {
       "model_id": "fd1bd4ea112f47688d776587e21817f4",
       "version_major": 2,
       "version_minor": 0
      },
      "text/plain": [
       "NGLWidget()"
      ]
     },
     "metadata": {},
     "output_type": "display_data"
    }
   ],
   "source": [
    "grid_shell_1_dense = GridOptions(vdw_scale_factors=[1.4],\n",
    "                                 vdw_point_density=2.5)\n",
    "shell_1_dense = grid_shell_1_dense.generate_vdw_grid(u.atoms.elements,\n",
    "                                                     u.atoms.positions)\n",
    "view = nv.show_mdanalysis(u)\n",
    "add_points_to_view(view, shell_1_dense, [0, 0, 1])\n",
    "view"
   ]
  },
  {
   "cell_type": "markdown",
   "id": "9573c31a",
   "metadata": {},
   "source": [
    "## grid_rmin and grid_rmax\n",
    "\n",
    "``grid_rmin`` and ``grid_rmax`` can be used to bound the grid generated, such that any point must fall between "
   ]
  },
  {
   "cell_type": "code",
   "execution_count": 70,
   "id": "0f4b6406",
   "metadata": {},
   "outputs": [
    {
     "data": {
      "application/vnd.jupyter.widget-view+json": {
       "model_id": "bbfebd41ea23469ea01c05b466d21916",
       "version_major": 2,
       "version_minor": 0
      },
      "text/plain": [
       "NGLWidget()"
      ]
     },
     "metadata": {},
     "output_type": "display_data"
    }
   ],
   "source": [
    "grid_shell_1_bounded = GridOptions(vdw_scale_factors=[1.4, 1.6, 1.8, 2.0],\n",
    "                                   vdw_point_density=2.5, use_radii=\"bondi\",\n",
    "                                   grid_rmin=1.1, grid_rmax=2.3,)\n",
    "shell_1_bounded = grid_shell_1_bounded.generate_vdw_grid(u.atoms.elements,\n",
    "                                                     u.atoms.positions)\n",
    "view = nv.show_mdanalysis(u)\n",
    "add_points_to_view(view, shell_1_bounded, [0, 0, 1])\n",
    "view"
   ]
  },
  {
   "cell_type": "code",
   "execution_count": 40,
   "id": "bd926636",
   "metadata": {},
   "outputs": [
    {
     "data": {
      "text/plain": [
       "(0,)"
      ]
     },
     "execution_count": 40,
     "metadata": {},
     "output_type": "execute_result"
    }
   ],
   "source": [
    "shell_1_bounded.shape"
   ]
  },
  {
   "cell_type": "code",
   "execution_count": null,
   "id": "b6f79418",
   "metadata": {},
   "outputs": [],
   "source": []
  }
 ],
 "metadata": {
  "kernelspec": {
   "display_name": "Python (psiresp)",
   "language": "python",
   "name": "psiresp"
  },
  "language_info": {
   "codemirror_mode": {
    "name": "ipython",
    "version": 3
   },
   "file_extension": ".py",
   "mimetype": "text/x-python",
   "name": "python",
   "nbconvert_exporter": "python",
   "pygments_lexer": "ipython3",
   "version": "3.7.10"
  },
  "toc": {
   "base_numbering": 1,
   "nav_menu": {},
   "number_sections": true,
   "sideBar": true,
   "skip_h1_title": true,
   "title_cell": "Table of Contents",
   "title_sidebar": "Contents",
   "toc_cell": false,
   "toc_position": {},
   "toc_section_display": true,
   "toc_window_display": false
  }
 },
 "nbformat": 4,
 "nbformat_minor": 5
}
