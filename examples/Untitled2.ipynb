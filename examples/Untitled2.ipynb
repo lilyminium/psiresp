{
 "cells": [
  {
   "cell_type": "code",
   "execution_count": 50,
   "id": "c56728e4",
   "metadata": {},
   "outputs": [],
   "source": [
    "from psiresp.tests.datafiles import DMSO, DMSO_O1, DMSO_O2\n",
    "import numpy as np"
   ]
  },
  {
   "cell_type": "code",
   "execution_count": 9,
   "id": "571d3ae4",
   "metadata": {},
   "outputs": [],
   "source": [
    "import psi4\n",
    "import qcelemental as qcel"
   ]
  },
  {
   "cell_type": "code",
   "execution_count": 5,
   "id": "58d566b5",
   "metadata": {},
   "outputs": [],
   "source": [
    "def coordinates_from_xyzfile(file):\n",
    "    return np.loadtxt(file, skiprows=2, usecols=(1, 2, 3), comments='!')\n",
    "\n",
    "\n",
    "def psi4mol_from_xyzfile(file):\n",
    "    with open(file, \"r\") as f:\n",
    "        xyz = f.read()\n",
    "    mol = psi4.core.Molecule.from_string(xyz, dtype=\"xyz\", fix_com=True,\n",
    "                                         fix_orientation=True)\n",
    "    mol.update_geometry()\n",
    "    mol.activate_all_fragments()\n",
    "    return mol"
   ]
  },
  {
   "cell_type": "code",
   "execution_count": 6,
   "id": "f6801b48",
   "metadata": {},
   "outputs": [],
   "source": [
    "mol = psi4mol_from_xyzfile(DMSO)"
   ]
  },
  {
   "cell_type": "code",
   "execution_count": 19,
   "id": "7e1b6156",
   "metadata": {},
   "outputs": [
    {
     "data": {
      "text/plain": [
       "'Angstrom'"
      ]
     },
     "execution_count": 19,
     "metadata": {},
     "output_type": "execute_result"
    }
   ],
   "source": [
    "mol.units()"
   ]
  },
  {
   "cell_type": "code",
   "execution_count": 8,
   "id": "167b6e2f",
   "metadata": {},
   "outputs": [
    {
     "data": {
      "text/plain": [
       "array([[  7.1407494 ,   1.34160357, -15.94150286],\n",
       "       [  7.02969573,   3.27934588, -15.29029187],\n",
       "       [  6.37365911,   0.06141398, -14.54136782],\n",
       "       [  6.08497659,   1.14334413, -17.68106387],\n",
       "       [ 10.36395491,   0.51005289, -16.60560116],\n",
       "       [ 10.38402733,  -2.23374996, -17.19534466],\n",
       "       [ 11.57562648,   0.8389633 , -13.4519955 ],\n",
       "       [ 13.54675945,   0.29763646, -13.49240711],\n",
       "       [ 11.41204109,   2.78266059, -12.83027801],\n",
       "       [ 10.56158809,  -0.41323348, -12.19048092]])"
      ]
     },
     "execution_count": 8,
     "metadata": {},
     "output_type": "execute_result"
    }
   ],
   "source": [
    "np.array(mol.geometry())"
   ]
  },
  {
   "cell_type": "code",
   "execution_count": 10,
   "id": "21b7442f",
   "metadata": {},
   "outputs": [],
   "source": [
    "qcmol = qcel.models.Molecule.from_file(DMSO)"
   ]
  },
  {
   "cell_type": "code",
   "execution_count": 11,
   "id": "8ebab521",
   "metadata": {},
   "outputs": [
    {
     "data": {
      "text/plain": [
       "array([[  7.1407494 ,   1.34160357, -15.94150286],\n",
       "       [  7.02969573,   3.27934588, -15.29029187],\n",
       "       [  6.37365911,   0.06141398, -14.54136782],\n",
       "       [  6.08497659,   1.14334413, -17.68106387],\n",
       "       [ 10.36395491,   0.51005289, -16.60560116],\n",
       "       [ 10.38402733,  -2.23374996, -17.19534466],\n",
       "       [ 11.57562648,   0.8389633 , -13.4519955 ],\n",
       "       [ 13.54675945,   0.29763646, -13.49240711],\n",
       "       [ 11.41204109,   2.78266059, -12.83027801],\n",
       "       [ 10.56158809,  -0.41323348, -12.19048092]])"
      ]
     },
     "execution_count": 11,
     "metadata": {},
     "output_type": "execute_result"
    }
   ],
   "source": [
    "qcmol.geometry"
   ]
  },
  {
   "cell_type": "code",
   "execution_count": 13,
   "id": "d23495d7",
   "metadata": {},
   "outputs": [],
   "source": [
    "from psiresp.grid import GridOptions"
   ]
  },
  {
   "cell_type": "code",
   "execution_count": 41,
   "id": "70df307a",
   "metadata": {},
   "outputs": [],
   "source": [
    "grid = GridOptions()._generate_vdw_grid(qcmol.symbols, qcmol.geometry)# / qcel.constants.conversion_factor(\"angstrom\", \"bohr\"))"
   ]
  },
  {
   "cell_type": "code",
   "execution_count": 42,
   "id": "a3f6a018",
   "metadata": {},
   "outputs": [
    {
     "data": {
      "text/plain": [
       "(1165, 3)"
      ]
     },
     "execution_count": 42,
     "metadata": {},
     "output_type": "execute_result"
    }
   ],
   "source": [
    "grid.shape"
   ]
  },
  {
   "cell_type": "code",
   "execution_count": 26,
   "id": "6209076c",
   "metadata": {},
   "outputs": [
    {
     "data": {
      "text/plain": [
       "1.8897261254578281"
      ]
     },
     "execution_count": 26,
     "metadata": {},
     "output_type": "execute_result"
    }
   ],
   "source": [
    "qcel.constants.conversion_factor(\"angstrom\", \"bohr\")"
   ]
  },
  {
   "cell_type": "code",
   "execution_count": 27,
   "id": "b93f5993",
   "metadata": {},
   "outputs": [
    {
     "name": "stdout",
     "output_type": "stream",
     "text": [
      "Help on method conversion_factor in module qcelemental.physical_constants.context:\n",
      "\n",
      "conversion_factor(base_unit: Union[str, ForwardRef('quantity._Quantity')], conv_unit: Union[str, ForwardRef('quantity._Quantity')]) -> float method of qcelemental.physical_constants.context.PhysicalConstantsContext instance\n",
      "    Provides the conversion factor from one unit to another.\n",
      "    \n",
      "    The conversion factor is based on the current contexts CODATA.\n",
      "    \n",
      "    Parameters\n",
      "    ----------\n",
      "    base_unit\n",
      "        The original units\n",
      "    conv_unit\n",
      "        The units to convert to\n",
      "    \n",
      "    Examples\n",
      "    --------\n",
      "    \n",
      "    >>> conversion_factor(\"meter\", \"picometer\")\n",
      "    1e-12\n",
      "    \n",
      "    >>> conversion_factor(\"feet\", \"meter\")\n",
      "    0.30479999999999996\n",
      "    \n",
      "    >>> conversion_factor(10 * ureg.feet, \"meter\")\n",
      "    3.0479999999999996\n",
      "    \n",
      "    Returns\n",
      "    -------\n",
      "    float\n",
      "        The requested conversion factor\n",
      "\n"
     ]
    }
   ],
   "source": [
    "help(qcel.constants.conversion_factor)"
   ]
  },
  {
   "cell_type": "code",
   "execution_count": 31,
   "id": "e3be60e2",
   "metadata": {},
   "outputs": [],
   "source": [
    "def surface(n):\n",
    "    \"\"\"Computes approximately n points on unit sphere. Code adapted from GAMESS.\n",
    "    Parameters\n",
    "    ----------\n",
    "    n : int\n",
    "        approximate number of requested surface points\n",
    "    Returns\n",
    "    -------\n",
    "    ndarray\n",
    "        numpy array of xyz coordinates of surface points\n",
    "    \"\"\"\n",
    "\n",
    "    u = []\n",
    "    eps = 1e-10\n",
    "    nequat = int(np.sqrt(np.pi*n))\n",
    "    nvert = int(nequat/2)\n",
    "    nu = 0\n",
    "    for i in range(nvert+1):\n",
    "        fi = np.pi*i/nvert\n",
    "        z = np.cos(fi)\n",
    "        xy = np.sin(fi)\n",
    "        nhor = int(nequat*xy+eps)\n",
    "        if nhor < 1:\n",
    "            nhor = 1\n",
    "        for j in range(nhor):\n",
    "            fj = 2*np.pi*j/nhor\n",
    "            x = np.cos(fj)*xy\n",
    "            y = np.sin(fj)*xy\n",
    "            if nu >= n:\n",
    "                return np.array(u)\n",
    "            nu += 1\n",
    "            u.append([x, y, z])\n",
    "    return np.array(u)"
   ]
  },
  {
   "cell_type": "code",
   "execution_count": 28,
   "id": "3fc4a9d7",
   "metadata": {
    "code_folding": [
     0
    ]
   },
   "outputs": [],
   "source": [
    "def vdw_surface(coordinates, elements, scale_factor, density, input_radii):\n",
    "    \"\"\"Computes points outside the van der Waals surface of molecules.\n",
    "    Parameters\n",
    "    ----------\n",
    "    coordinates : ndarray\n",
    "        cartesian coordinates of the nuclei, in units of angstrom\n",
    "    elements : list\n",
    "        The symbols (e.g. C, H) for the atoms\n",
    "    scale_factor : float\n",
    "        The points on the molecular surface are set at a distance of\n",
    "        scale_factor * vdw_radius away from each of the atoms.\n",
    "    density : float\n",
    "        The (approximate) number of points to generate per square angstrom\n",
    "        of surface area. 1.0 is the default recommended by Kollman & Singh.\n",
    "    input_radii : dict\n",
    "        dictionary of user's defined VDW radii\n",
    "    Returns\n",
    "    -------\n",
    "    radii : dict\n",
    "        A dictionary of scaled VDW radii\n",
    "    surface_points : ndarray\n",
    "        array of the coordinates of the points on the surface\n",
    "    \"\"\"\n",
    "    radii = {}\n",
    "    surface_points = []\n",
    "    # scale radii\n",
    "    for i in elements:\n",
    "        if i in radii.keys():\n",
    "            continue\n",
    "        if i in input_radii.keys():\n",
    "            radii[i] = input_radii[i] * scale_factor\n",
    "        elif i in vdw_r.keys():\n",
    "            radii[i] = vdw_r[i] * scale_factor\n",
    "        else:\n",
    "            raise KeyError('%s is not a supported element; ' %i\n",
    "                         + 'use the \"VDW_RADII\" option to add '\n",
    "                         + 'its van der Waals radius.')\n",
    "    # loop over atomic coordinates\n",
    "    for i in range(len(coordinates)):\n",
    "        # calculate approximate number of ESP grid points\n",
    "        n_points = int(density * 4.0 * np.pi* np.power(radii[elements[i]], 2))\n",
    "        # generate an array of n_points in a unit sphere around the atom\n",
    "        dots = surface(n_points)\n",
    "        # scale the unit sphere by the VDW radius and translate\n",
    "        dots = coordinates[i] + radii[elements[i]] * dots\n",
    "        for j in range(len(dots)):\n",
    "            save = True\n",
    "            for k in range(len(coordinates)):\n",
    "                if i == k:\n",
    "                    continue\n",
    "                # exclude points within the scaled VDW radius of other atoms\n",
    "                d = np.linalg.norm(dots[j] - coordinates[k])\n",
    "                if d < radii[elements[k]]:\n",
    "                    save = False\n",
    "                    break\n",
    "            if save:\n",
    "                surface_points.append(dots[j])\n",
    "\n",
    "    return np.array(surface_points), radii"
   ]
  },
  {
   "cell_type": "code",
   "execution_count": 52,
   "id": "77693174",
   "metadata": {},
   "outputs": [],
   "source": [
    "def write(coordfile, gridfile):\n",
    "    qcmol = qcel.models.Molecule.from_file(coordfile)\n",
    "    options = GridOptions()\n",
    "    points = []\n",
    "    radii = options.get_vdwradii_for_elements(qcmol.symbols)\n",
    "    for f in options.vdw_scale_factors:\n",
    "        points.append(\n",
    "            vdw_surface(qcmol.geometry, qcmol.symbols, f, 1.0, options.all_vdw_radii)[0]\n",
    "        )\n",
    "    point_arr = np.concatenate(points)\n",
    "    gridpath = f\"/Users/lily/pydev/psiresp/psiresp/tests/data/surfaces/{gridfile}\"\n",
    "    np.save(gridpath, point_arr)\n"
   ]
  },
  {
   "cell_type": "code",
   "execution_count": 54,
   "id": "7afadadf",
   "metadata": {},
   "outputs": [],
   "source": [
    "write(DMSO_O2, \"dmso_opt_c1_o2_grid.npy\")"
   ]
  },
  {
   "cell_type": "code",
   "execution_count": 44,
   "id": "0604e7f5",
   "metadata": {},
   "outputs": [],
   "source": []
  },
  {
   "cell_type": "code",
   "execution_count": null,
   "id": "eb6ed106",
   "metadata": {},
   "outputs": [],
   "source": []
  }
 ],
 "metadata": {
  "kernelspec": {
   "display_name": "Python (psiresp-3.8)",
   "language": "python",
   "name": "psiresp-3.8"
  },
  "language_info": {
   "codemirror_mode": {
    "name": "ipython",
    "version": 3
   },
   "file_extension": ".py",
   "mimetype": "text/x-python",
   "name": "python",
   "nbconvert_exporter": "python",
   "pygments_lexer": "ipython3",
   "version": "3.8.12"
  },
  "toc": {
   "base_numbering": 1,
   "nav_menu": {},
   "number_sections": true,
   "sideBar": true,
   "skip_h1_title": true,
   "title_cell": "Table of Contents",
   "title_sidebar": "Contents",
   "toc_cell": false,
   "toc_position": {},
   "toc_section_display": true,
   "toc_window_display": false
  }
 },
 "nbformat": 4,
 "nbformat_minor": 5
}
