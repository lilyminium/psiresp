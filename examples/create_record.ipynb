{
 "cells": [
  {
   "cell_type": "code",
   "execution_count": 1,
   "id": "f121b6f4",
   "metadata": {},
   "outputs": [],
   "source": [
    "import glob\n",
    "from qcfractal.interface.models import ResultRecord"
   ]
  },
  {
   "cell_type": "code",
   "execution_count": 14,
   "id": "59fdf845",
   "metadata": {},
   "outputs": [],
   "source": [
    "output_json = glob.glob(\"output/*.json\")"
   ]
  },
  {
   "cell_type": "code",
   "execution_count": 15,
   "id": "8d684d97",
   "metadata": {},
   "outputs": [
    {
     "data": {
      "text/plain": [
       "ResultRecord(id='1', status='COMPLETE')"
      ]
     },
     "execution_count": 15,
     "metadata": {},
     "output_type": "execute_result"
    }
   ],
   "source": [
    "ResultRecord.parse_file(output_json[0])"
   ]
  },
  {
   "cell_type": "code",
   "execution_count": 16,
   "id": "75906c6f",
   "metadata": {},
   "outputs": [
    {
     "name": "stderr",
     "output_type": "stream",
     "text": [
      "INFO:tornado.application:Task statistics unavailable until first tasks return\n",
      "INFO:tornado.application:QueueManager: Served 0 tasks.\n",
      "INFO:tornado.access:200 GET /queue_manager (::1) 12.10ms\n",
      "INFO:tornado.application:Acquired 0 new tasks.\n",
      "INFO:tornado.application:Task statistics unavailable until first tasks return\n",
      "INFO:tornado.application:QueueManager: Served 0 tasks.\n",
      "INFO:tornado.access:200 GET /queue_manager (::1) 12.77ms\n",
      "INFO:tornado.application:Acquired 0 new tasks.\n",
      "INFO:tornado.application:Task statistics unavailable until first tasks return\n",
      "INFO:tornado.application:QueueManager: Served 0 tasks.\n",
      "INFO:tornado.access:200 GET /queue_manager (::1) 13.85ms\n",
      "INFO:tornado.application:Acquired 0 new tasks.\n",
      "INFO:tornado.application:Task statistics unavailable until first tasks return\n",
      "INFO:tornado.application:QueueManager: Served 0 tasks.\n",
      "INFO:tornado.access:200 GET /queue_manager (::1) 12.81ms\n",
      "INFO:tornado.application:Acquired 0 new tasks.\n"
     ]
    }
   ],
   "source": [
    "for file in output_json:\n",
    "    try:\n",
    "        record = ResultRecord.parse_file(file)\n",
    "#         print(file)\n",
    "    except:\n",
    "        print(file)\n",
    "        pass\n",
    "    else:\n",
    "        if record.status == \"ERROR\":\n",
    "            print(\"error, \", file)"
   ]
  },
  {
   "cell_type": "code",
   "execution_count": 7,
   "id": "1c6be2fe",
   "metadata": {},
   "outputs": [
    {
     "name": "stdout",
     "output_type": "stream",
     "text": [
      "['output/ethanol_c2_o1_resp2_gas_energy.json', 'output/nme2ala2_c2_o1_resp2_water_energy.json', 'output/nme2ala2_c1_o2_resp2_gas_energy.json', 'output/nme2ala2_c2_o4_gas_energy.json', 'output/nme2ala2_c2_o1_resp2_gas_energy.json', 'output/nme2ala2_c1_o3_gas_energy.json', 'output/methylammonium_c1_o2_resp2_gas_energy.json', 'output/nme2ala2_c1_o4_gas_energy.json', 'output/nme2ala2_c2_o3_gas_energy.json', 'output/nme2ala2_c2_o3_resp2_gas_energy.json', 'output/nme2ala2_c1_o4_resp2_water_energy.json', 'output/nme2ala2_c2_o2_gas_energy.json', 'output/ethanol_c2_o1_gas_energy.json', 'output/methylammonium_c1_o1_gas_energy.json', 'output/ethanol_c1_o1_resp2_water_energy.json', 'output/nme2ala2_c1_o3_resp2_water_energy.json', 'output/nme2ala2_c1_o4_resp2_gas_energy.json', 'output/ethanol_c1_o1_gas_energy.json', 'output/nme2ala2_c1_o2_gas_energy.json', 'output/nme2ala2_c2_o2_resp2_water_energy.json', 'output/nme2ala2_c1_o3_resp2_gas_energy.json', 'output/nme2ala2_c2_o4_resp2_water_energy.json', 'output/methylammonium_c1_o1_resp2_gas_energy.json', 'output/nme2ala2_c1_o1_resp2_water_energy.json', 'output/nme2ala2_c2_o2_resp2_gas_energy.json', 'output/methylammonium_c1_o1_resp2_water_energy.json', 'output/nme2ala2_c1_o1_resp2_gas_energy.json', 'output/ethanol_c1_o1_resp2_gas_energy.json', 'output/nme2ala2_c2_o3_resp2_water_energy.json', 'output/ethanol_c2_o1_resp2_water_energy.json', 'output/nme2ala2_c1_o2_resp2_water_energy.json', 'output/nme2ala2_c1_o1_gas_energy.json', 'output/methylammonium_c1_o2_resp2_water_energy.json', 'output/nme2ala2_c2_o4_resp2_gas_energy.json', 'output/nme2ala2_c2_o1_gas_energy.json', 'output/methylammonium_c1_o2_gas_energy.json']\n"
     ]
    }
   ],
   "source": [
    "print(output_json)"
   ]
  },
  {
   "cell_type": "code",
   "execution_count": 1,
   "id": "ecea3439",
   "metadata": {},
   "outputs": [],
   "source": [
    "#!/usr/bin/env python\n",
    "\n",
    "\n",
    "import pathlib\n",
    "import time\n",
    "from typing import Optional\n",
    "import tempfile\n",
    "import pathlib\n",
    "import glob\n",
    "import shutil\n",
    "import subprocess\n",
    "import shutil\n",
    "import os\n",
    "\n",
    "from qcfractal.postgres_harness import find_port, FractalConfig, atexit\n",
    "# from qcfractal.postgres_harness import PostgresHarness as QCPostgresHarness\n",
    "# from qcfractal.testing import TemporaryPostgres as QCTemporaryPostgres\n",
    "from psiresp.testing import PostgresHarness, TemporaryPostgres\n",
    "\n",
    "\n",
    "from qcfractal.interface.models import ResultRecord\n",
    "from qcfractal.storage_sockets import storage_socket_factory\n",
    "from qcfractal import FractalSnowflake, FractalSnowflakeHandler\n",
    "import qcfractal.interface as ptl\n",
    "import qcelemental as qcel\n",
    "\n",
    "\n",
    "POSTGRES_SERVER_BACKUP = \"database.psql\"\n",
    "\n",
    "\n",
    "\n",
    "\n"
   ]
  },
  {
   "cell_type": "code",
   "execution_count": 2,
   "id": "9f79804d",
   "metadata": {},
   "outputs": [
    {
     "name": "stdout",
     "output_type": "stream",
     "text": [
      "<psiresp.testing.TemporaryPostgres object at 0x7f95ae1cd310>\n",
      "20\n"
     ]
    }
   ],
   "source": [
    "storage = TemporaryPostgres(database_name=\"test_psiresp\")\n",
    "storage.psql.restore_database(POSTGRES_SERVER_BACKUP)\n",
    "\n",
    "output_json = glob.glob(\"output/*.json\")\n",
    "print(storage)\n",
    "records = []\n",
    "i = 500\n",
    "for file in output_json:\n",
    "    try:\n",
    "        record = ResultRecord.parse_file(file)\n",
    "        \n",
    "    except:\n",
    "        print(file)\n",
    "    else:\n",
    "        dct = record.dict()\n",
    "        KEEP_KEYS = \"version driver program molecule method basis id protocols extras status provenance keywords\"\n",
    "        dct = {k: v for k, v in dct.items() if k in KEEP_KEYS}\n",
    "        record = ResultRecord(**dct)\n",
    "        records.append(record)\n",
    "        i += 1\n",
    "\n",
    "print(len(records))\n",
    "\n"
   ]
  },
  {
   "cell_type": "code",
   "execution_count": 3,
   "id": "f89d835e",
   "metadata": {},
   "outputs": [
    {
     "data": {
      "text/plain": [
       "{'id': '1',\n",
       " 'hash_index': None,\n",
       " 'procedure': 'single',\n",
       " 'program': 'psi4',\n",
       " 'version': 1,\n",
       " 'protocols': {'wavefunction': <WavefunctionProtocolEnum.orbitals_and_eigenvalues: 'orbitals_and_eigenvalues'>},\n",
       " 'extras': {'_qcfractal_tags': {'program': 'psi4', 'keywords': '1'},\n",
       "  'qcvars': {'CURRENT DIPOLE X': 0.6999663317016805,\n",
       "   'CURRENT DIPOLE Y': -0.4683628892897536,\n",
       "   'CURRENT DIPOLE Z': 1.8820251791438678,\n",
       "   'CURRENT ENERGY': -154.0382183256945,\n",
       "   'CURRENT REFERENCE ENERGY': -154.0382183256945,\n",
       "   'DFT FUNCTIONAL TOTAL ENERGY': -154.0382183256945,\n",
       "   'DFT TOTAL ENERGY': -154.0382183256945,\n",
       "   'DFT VV10 ENERGY': 0.0,\n",
       "   'DFT XC ENERGY': -15.031655542876312,\n",
       "   'GRID ELECTRONS ALPHA': 13.000000719021939,\n",
       "   'GRID ELECTRONS BETA': 13.000000719021939,\n",
       "   'GRID ELECTRONS TOTAL': 26.000001438043878,\n",
       "   'NUCLEAR REPULSION ENERGY': 43.43159637276381,\n",
       "   'ONE-ELECTRON ENERGY': -294.70309970532696,\n",
       "   'PCM POLARIZATION ENERGY': 0.0,\n",
       "   'PE ENERGY': 0.0,\n",
       "   'SCF DIPOLE X': 0.6999663317016805,\n",
       "   'SCF DIPOLE Y': -0.4683628892897536,\n",
       "   'SCF DIPOLE Z': 1.8820251791438678,\n",
       "   'SCF ITERATION ENERGY': -154.0382183256945,\n",
       "   'SCF ITERATIONS': 18.0,\n",
       "   'SCF TOTAL ENERGY': -154.0382183256945,\n",
       "   'TWO-ELECTRON ENERGY': 112.26494054974498,\n",
       "   'XC GRID RADIAL POINTS': 75.0,\n",
       "   'XC GRID SPHERICAL POINTS': 302.0,\n",
       "   'XC GRID TOTAL POINTS': 198519.0,\n",
       "   'CURRENT DIPOLE': [0.2753879448439136,\n",
       "    -0.1842681393104968,\n",
       "    0.7404456796785155],\n",
       "   'SCF DIPOLE': [0.2753879448439136,\n",
       "    -0.1842681393104968,\n",
       "    0.7404456796785155]}},\n",
       " 'stdout': None,\n",
       " 'stderr': None,\n",
       " 'error': None,\n",
       " 'manager_name': None,\n",
       " 'status': <RecordStatusEnum.complete: 'COMPLETE'>,\n",
       " 'modified_on': datetime.datetime(2021, 10, 12, 2, 36, 31, 921160),\n",
       " 'created_on': datetime.datetime(2021, 10, 12, 2, 36, 31, 921163),\n",
       " 'provenance': {'creator': 'Psi4',\n",
       "  'version': '1.4',\n",
       "  'routine': 'psi4.schema_runner.run_qcschema',\n",
       "  'wall_time': 17.85416841506958,\n",
       "  'cpu': 'Intel(R) Xeon(R) Gold 6148 CPU @ 2.40GHz',\n",
       "  'nthreads': 1,\n",
       "  'module': 'scf',\n",
       "  'hostname': 'hpc3-15-25',\n",
       "  'memory': 1.0,\n",
       "  'qcengine_version': 'v0.19.0',\n",
       "  'username': 'lilyw7'},\n",
       " 'driver': <DriverEnum.energy: 'energy'>,\n",
       " 'method': 'pw6b95',\n",
       " 'molecule': '1',\n",
       " 'basis': 'cc-pv(d+d)z',\n",
       " 'keywords': '1',\n",
       " 'return_result': None,\n",
       " 'properties': None,\n",
       " 'wavefunction': None,\n",
       " 'wavefunction_data_id': None}"
      ]
     },
     "execution_count": 3,
     "metadata": {},
     "output_type": "execute_result"
    }
   ],
   "source": [
    "records[0].dict()"
   ]
  },
  {
   "cell_type": "code",
   "execution_count": 4,
   "id": "db6c7ad6",
   "metadata": {
    "scrolled": true
   },
   "outputs": [
    {
     "name": "stderr",
     "output_type": "stream",
     "text": [
      "INFO:tornado.application:FractalServer:\n",
      "INFO:tornado.application:    Name:          QCFractal Snowflake Instance\n",
      "INFO:tornado.application:    Version:       v0.15.6\n",
      "INFO:tornado.application:    Address:       http://localhost:58577/\n",
      "INFO:tornado.application:    Database URI:  postgresql://localhost:58564/\n",
      "INFO:tornado.application:    Database Name: test_psiresp\n",
      "INFO:tornado.application:    Query Limit:   1000000\n",
      "\n",
      "INFO:tornado.application:Waiting on queue_manager to build.\n",
      "INFO:tornado.application:FractalServer successfully started.\n",
      "\n"
     ]
    }
   ],
   "source": [
    "tmp_server = FractalSnowflake(\n",
    "    max_workers=1,\n",
    "    storage_project_name=\"test_psiresp\",\n",
    "    storage_uri=storage.psql.database_uri(),\n",
    "    reset_database=False,\n",
    "    start_server=True,\n",
    ")"
   ]
  },
  {
   "cell_type": "code",
   "execution_count": 5,
   "id": "816412ae",
   "metadata": {
    "scrolled": false
   },
   "outputs": [
    {
     "name": "stderr",
     "output_type": "stream",
     "text": [
      "INFO:tornado.application:GET: Information\n",
      "INFO:tornado.access:200 GET /information (::1) 1.25ms\n",
      "INFO:tornado.application:QueueManager:\n",
      "INFO:tornado.application:    Version:         v0.15.6\n",
      "\n",
      "INFO:tornado.application:    Queue Adapter:\n",
      "INFO:tornado.application:        <ExecutorAdapter client=<ProcessPoolExecutor max_workers=1>>\n",
      "\n",
      "INFO:tornado.application:QueueManager: New active manager FractalServer-vcv074104.vpn.uci.edu-aa8b9f13-09c7-476c-80ab-c9b2a99ef9b5 detected.\n",
      "INFO:tornado.access:200 PUT /queue_manager (::1) 13.95ms\n",
      "INFO:tornado.application:QueueManager successfully started.\n",
      "\n",
      "INFO:tornado.application:Task statistics unavailable until first tasks return\n",
      "INFO:tornado.application:QueueManager: Served 0 tasks.\n",
      "INFO:tornado.access:200 GET /queue_manager (::1) 12.64ms\n",
      "INFO:tornado.application:Acquired 0 new tasks.\n",
      "INFO:tornado.access:200 PUT /queue_manager (::1) 9.15ms\n",
      "INFO:tornado.application:Task statistics unavailable until first tasks return\n",
      "INFO:tornado.application:QueueManager: Served 0 tasks.\n",
      "INFO:tornado.access:200 GET /queue_manager (::1) 13.74ms\n",
      "INFO:tornado.application:Acquired 0 new tasks.\n",
      "INFO:tornado.application:Task statistics unavailable until first tasks return\n",
      "INFO:tornado.application:QueueManager: Served 0 tasks.\n",
      "INFO:tornado.access:200 GET /queue_manager (::1) 14.66ms\n",
      "INFO:tornado.application:Acquired 0 new tasks.\n"
     ]
    }
   ],
   "source": [
    "\n",
    "socket = storage_socket_factory(tmp_server._storage_uri,\n",
    "                                project_name=\"test_psiresp\",\n",
    "                                skip_version_check=True,\n",
    "                                )\n"
   ]
  },
  {
   "cell_type": "code",
   "execution_count": 9,
   "id": "e3c39d59",
   "metadata": {},
   "outputs": [
    {
     "data": {
      "text/plain": [
       "{'id': '1',\n",
       " 'hash_index': None,\n",
       " 'procedure': 'single',\n",
       " 'program': 'psi4',\n",
       " 'version': 1,\n",
       " 'protocols': {'wavefunction': <WavefunctionProtocolEnum.orbitals_and_eigenvalues: 'orbitals_and_eigenvalues'>},\n",
       " 'extras': {'_qcfractal_tags': {'program': 'psi4', 'keywords': '1'},\n",
       "  'qcvars': {'CURRENT DIPOLE X': 0.6999663317016805,\n",
       "   'CURRENT DIPOLE Y': -0.4683628892897536,\n",
       "   'CURRENT DIPOLE Z': 1.8820251791438678,\n",
       "   'CURRENT ENERGY': -154.0382183256945,\n",
       "   'CURRENT REFERENCE ENERGY': -154.0382183256945,\n",
       "   'DFT FUNCTIONAL TOTAL ENERGY': -154.0382183256945,\n",
       "   'DFT TOTAL ENERGY': -154.0382183256945,\n",
       "   'DFT VV10 ENERGY': 0.0,\n",
       "   'DFT XC ENERGY': -15.031655542876312,\n",
       "   'GRID ELECTRONS ALPHA': 13.000000719021939,\n",
       "   'GRID ELECTRONS BETA': 13.000000719021939,\n",
       "   'GRID ELECTRONS TOTAL': 26.000001438043878,\n",
       "   'NUCLEAR REPULSION ENERGY': 43.43159637276381,\n",
       "   'ONE-ELECTRON ENERGY': -294.70309970532696,\n",
       "   'PCM POLARIZATION ENERGY': 0.0,\n",
       "   'PE ENERGY': 0.0,\n",
       "   'SCF DIPOLE X': 0.6999663317016805,\n",
       "   'SCF DIPOLE Y': -0.4683628892897536,\n",
       "   'SCF DIPOLE Z': 1.8820251791438678,\n",
       "   'SCF ITERATION ENERGY': -154.0382183256945,\n",
       "   'SCF ITERATIONS': 18.0,\n",
       "   'SCF TOTAL ENERGY': -154.0382183256945,\n",
       "   'TWO-ELECTRON ENERGY': 112.26494054974498,\n",
       "   'XC GRID RADIAL POINTS': 75.0,\n",
       "   'XC GRID SPHERICAL POINTS': 302.0,\n",
       "   'XC GRID TOTAL POINTS': 198519.0,\n",
       "   'CURRENT DIPOLE': [0.2753879448439136,\n",
       "    -0.1842681393104968,\n",
       "    0.7404456796785155],\n",
       "   'SCF DIPOLE': [0.2753879448439136,\n",
       "    -0.1842681393104968,\n",
       "    0.7404456796785155]}},\n",
       " 'stdout': '500',\n",
       " 'stderr': None,\n",
       " 'error': None,\n",
       " 'manager_name': 'FractalServer-hpc3-15-25-5d394bc5-3ae4-491e-9f8d-df08517d12e4',\n",
       " 'status': <RecordStatusEnum.complete: 'COMPLETE'>,\n",
       " 'modified_on': datetime.datetime(2021, 10, 9, 21, 29, 29, 263373),\n",
       " 'created_on': datetime.datetime(2021, 10, 9, 21, 29, 11, 249318),\n",
       " 'provenance': {'creator': 'Psi4',\n",
       "  'version': '1.4',\n",
       "  'routine': 'psi4.schema_runner.run_qcschema',\n",
       "  'module': 'scf',\n",
       "  'nthreads': 1,\n",
       "  'hostname': 'hpc3-15-25',\n",
       "  'qcengine_version': 'v0.19.0',\n",
       "  'wall_time': 17.85416841506958,\n",
       "  'memory': 1.0,\n",
       "  'cpu': 'Intel(R) Xeon(R) Gold 6148 CPU @ 2.40GHz',\n",
       "  'username': 'lilyw7'},\n",
       " 'driver': <DriverEnum.energy: 'energy'>,\n",
       " 'method': 'pw6b95',\n",
       " 'molecule': '1',\n",
       " 'basis': 'cc-pv(d+d)z',\n",
       " 'keywords': '1',\n",
       " 'return_result': -154.0382183256945,\n",
       " 'properties': {'calcinfo_nbasis': 72,\n",
       "  'calcinfo_nmo': 72,\n",
       "  'calcinfo_nalpha': 13,\n",
       "  'calcinfo_nbeta': 13,\n",
       "  'calcinfo_natom': 9,\n",
       "  'nuclear_repulsion_energy': 43.43159637276381,\n",
       "  'return_energy': -154.0382183256945,\n",
       "  'scf_one_electron_energy': -294.70309970532696,\n",
       "  'scf_two_electron_energy': 112.26494054974498,\n",
       "  'scf_xc_energy': -15.031655542876312,\n",
       "  'scf_dipole_moment': [0.2753879448439136,\n",
       "   -0.1842681393104968,\n",
       "   0.7404456796785155],\n",
       "  'scf_total_energy': -154.0382183256945,\n",
       "  'scf_iterations': 18},\n",
       " 'wavefunction': {'available': ['eigenvalues_a',\n",
       "   'scf_eigenvalues_a',\n",
       "   'scf_orbitals_a',\n",
       "   'orbitals_a'],\n",
       "  'restricted': True,\n",
       "  'return_map': {'orbitals_a': 'scf_orbitals_a',\n",
       "   'eigenvalues_a': 'scf_eigenvalues_a'}},\n",
       " 'wavefunction_data_id': '1'}"
      ]
     },
     "execution_count": 9,
     "metadata": {},
     "output_type": "execute_result"
    },
    {
     "name": "stderr",
     "output_type": "stream",
     "text": [
      "INFO:tornado.application:Task statistics unavailable until first tasks return\n",
      "INFO:tornado.application:QueueManager: Served 0 tasks.\n",
      "INFO:tornado.access:200 GET /queue_manager (::1) 12.42ms\n",
      "INFO:tornado.application:Acquired 0 new tasks.\n",
      "INFO:tornado.application:Task statistics unavailable until first tasks return\n",
      "INFO:tornado.application:QueueManager: Served 0 tasks.\n",
      "INFO:tornado.access:200 GET /queue_manager (::1) 15.27ms\n",
      "INFO:tornado.application:Acquired 0 new tasks.\n",
      "INFO:tornado.application:Task statistics unavailable until first tasks return\n",
      "INFO:tornado.application:QueueManager: Served 0 tasks.\n",
      "INFO:tornado.access:200 GET /queue_manager (::1) 14.26ms\n",
      "INFO:tornado.application:Acquired 0 new tasks.\n",
      "INFO:tornado.application:Task statistics unavailable until first tasks return\n",
      "INFO:tornado.application:QueueManager: Served 0 tasks.\n",
      "INFO:tornado.access:200 GET /queue_manager (::1) 13.46ms\n",
      "INFO:tornado.application:Acquired 0 new tasks.\n",
      "INFO:tornado.application:Task statistics unavailable until first tasks return\n",
      "INFO:tornado.application:QueueManager: Served 0 tasks.\n",
      "INFO:tornado.access:200 GET /queue_manager (::1) 14.83ms\n",
      "INFO:tornado.application:Acquired 0 new tasks.\n"
     ]
    }
   ],
   "source": []
  },
  {
   "cell_type": "code",
   "execution_count": 6,
   "id": "d6277d77",
   "metadata": {
    "scrolled": true
   },
   "outputs": [
    {
     "data": {
      "text/plain": [
       "'500'"
      ]
     },
     "execution_count": 6,
     "metadata": {},
     "output_type": "execute_result"
    }
   ],
   "source": [
    "records[0].stdout"
   ]
  },
  {
   "cell_type": "code",
   "execution_count": 7,
   "id": "7d28cf0d",
   "metadata": {},
   "outputs": [
    {
     "data": {
      "text/plain": [
       "['Config',\n",
       " '__abstractmethods__',\n",
       " '__annotations__',\n",
       " '__base_doc__',\n",
       " '__class__',\n",
       " '__class_vars__',\n",
       " '__config__',\n",
       " '__custom_root_type__',\n",
       " '__delattr__',\n",
       " '__dict__',\n",
       " '__dir__',\n",
       " '__doc__',\n",
       " '__eq__',\n",
       " '__fields__',\n",
       " '__fields_set__',\n",
       " '__format__',\n",
       " '__ge__',\n",
       " '__get_validators__',\n",
       " '__getattribute__',\n",
       " '__getstate__',\n",
       " '__gt__',\n",
       " '__hash__',\n",
       " '__init__',\n",
       " '__init_subclass__',\n",
       " '__iter__',\n",
       " '__json_encoder__',\n",
       " '__le__',\n",
       " '__lt__',\n",
       " '__model_autodoc_applied__',\n",
       " '__module__',\n",
       " '__ne__',\n",
       " '__new__',\n",
       " '__post_root_validators__',\n",
       " '__pre_root_validators__',\n",
       " '__pretty__',\n",
       " '__private_attributes__',\n",
       " '__reduce__',\n",
       " '__reduce_ex__',\n",
       " '__repr__',\n",
       " '__repr_args__',\n",
       " '__repr_name__',\n",
       " '__repr_str__',\n",
       " '__schema_cache__',\n",
       " '__setattr__',\n",
       " '__setstate__',\n",
       " '__signature__',\n",
       " '__sizeof__',\n",
       " '__slots__',\n",
       " '__str__',\n",
       " '__subclasshook__',\n",
       " '__validators__',\n",
       " '_abc_impl',\n",
       " '_calculate_keys',\n",
       " '_decompose_class',\n",
       " '_enforce_dict_if_root',\n",
       " '_get_value',\n",
       " '_hash_indices',\n",
       " '_init_private_attributes',\n",
       " '_iter',\n",
       " '_kvstore_getter',\n",
       " 'basis',\n",
       " 'cache',\n",
       " 'check_basis',\n",
       " 'check_client',\n",
       " 'check_method',\n",
       " 'check_program',\n",
       " 'client',\n",
       " 'compare',\n",
       " 'construct',\n",
       " 'copy',\n",
       " 'created_on',\n",
       " 'dict',\n",
       " 'driver',\n",
       " 'error',\n",
       " 'extras',\n",
       " 'from_orm',\n",
       " 'get_error',\n",
       " 'get_hash_fields',\n",
       " 'get_hash_index',\n",
       " 'get_molecule',\n",
       " 'get_stderr',\n",
       " 'get_stdout',\n",
       " 'get_wavefunction',\n",
       " 'hash_index',\n",
       " 'id',\n",
       " 'json',\n",
       " 'keywords',\n",
       " 'manager_name',\n",
       " 'method',\n",
       " 'modified_on',\n",
       " 'molecule',\n",
       " 'parse_file',\n",
       " 'parse_obj',\n",
       " 'parse_raw',\n",
       " 'procedure',\n",
       " 'program',\n",
       " 'properties',\n",
       " 'protocols',\n",
       " 'provenance',\n",
       " 'return_result',\n",
       " 'schema',\n",
       " 'schema_json',\n",
       " 'serialize',\n",
       " 'status',\n",
       " 'stderr',\n",
       " 'stdout',\n",
       " 'update_forward_refs',\n",
       " 'validate',\n",
       " 'version',\n",
       " 'wavefunction',\n",
       " 'wavefunction_data_id']"
      ]
     },
     "execution_count": 7,
     "metadata": {},
     "output_type": "execute_result"
    },
    {
     "name": "stderr",
     "output_type": "stream",
     "text": [
      "INFO:tornado.application:GET: Information\n",
      "INFO:tornado.access:200 GET /information (::1) 2.26ms\n",
      "INFO:tornado.application:QueueManager:\n",
      "INFO:tornado.application:    Version:         v0.15.6\n",
      "\n",
      "INFO:tornado.application:    Queue Adapter:\n",
      "INFO:tornado.application:        <ExecutorAdapter client=<ProcessPoolExecutor max_workers=1>>\n",
      "\n",
      "INFO:tornado.application:QueueManager: New active manager FractalServer-vcv074104.vpn.uci.edu-01c44f21-4e04-4e48-92b6-8b96216eced1 detected.\n",
      "INFO:tornado.access:200 PUT /queue_manager (::1) 15.71ms\n",
      "INFO:tornado.application:QueueManager successfully started.\n",
      "\n",
      "INFO:tornado.application:Task statistics unavailable until first tasks return\n",
      "INFO:tornado.application:QueueManager: Served 0 tasks.\n",
      "INFO:tornado.access:200 GET /queue_manager (::1) 15.42ms\n",
      "INFO:tornado.application:Acquired 0 new tasks.\n",
      "INFO:tornado.access:200 PUT /queue_manager (::1) 9.27ms\n"
     ]
    }
   ],
   "source": [
    "dir(records[0])"
   ]
  },
  {
   "cell_type": "code",
   "execution_count": 6,
   "id": "dc5c0aa6",
   "metadata": {},
   "outputs": [
    {
     "name": "stdout",
     "output_type": "stream",
     "text": [
      "<SQLAlchemySocket: address='postgresql+psycopg2://localhost:58564/test_psiresp`>\n"
     ]
    },
    {
     "name": "stderr",
     "output_type": "stream",
     "text": [
      "INFO:tornado.application:Task statistics unavailable until first tasks return\n"
     ]
    },
    {
     "name": "stdout",
     "output_type": "stream",
     "text": [
      "Saved to database.psql\n"
     ]
    },
    {
     "name": "stderr",
     "output_type": "stream",
     "text": [
      "INFO:tornado.application:QueueManager: Served 0 tasks.\n",
      "INFO:tornado.access:200 GET /queue_manager (::1) 11.62ms\n",
      "INFO:tornado.application:Acquired 0 new tasks.\n",
      "INFO:tornado.application:Task statistics unavailable until first tasks return\n",
      "INFO:tornado.application:QueueManager: Served 0 tasks.\n",
      "INFO:tornado.access:200 GET /queue_manager (::1) 15.67ms\n",
      "INFO:tornado.application:Acquired 0 new tasks.\n",
      "INFO:tornado.application:Task statistics unavailable until first tasks return\n",
      "INFO:tornado.application:QueueManager: Served 0 tasks.\n",
      "INFO:tornado.access:200 GET /queue_manager (::1) 13.06ms\n",
      "INFO:tornado.application:Acquired 0 new tasks.\n",
      "INFO:tornado.application:Task statistics unavailable until first tasks return\n",
      "INFO:tornado.application:QueueManager: Served 0 tasks.\n",
      "INFO:tornado.access:200 GET /queue_manager (::1) 15.40ms\n",
      "INFO:tornado.application:Acquired 0 new tasks.\n",
      "INFO:tornado.application:Task statistics unavailable until first tasks return\n",
      "INFO:tornado.application:QueueManager: Served 0 tasks.\n",
      "INFO:tornado.access:200 GET /queue_manager (::1) 11.37ms\n",
      "INFO:tornado.application:Acquired 0 new tasks.\n",
      "INFO:tornado.application:Task statistics unavailable until first tasks return\n",
      "INFO:tornado.application:QueueManager: Served 0 tasks.\n",
      "INFO:tornado.access:200 GET /queue_manager (::1) 14.46ms\n",
      "INFO:tornado.application:Acquired 0 new tasks.\n"
     ]
    }
   ],
   "source": [
    "socket.add_results(records)\n",
    "print(socket)\n",
    "\n",
    "storage.psql.backup_database(POSTGRES_SERVER_BACKUP)\n",
    "print(f\"Saved to {POSTGRES_SERVER_BACKUP}\")"
   ]
  },
  {
   "cell_type": "code",
   "execution_count": null,
   "id": "cee1a6de",
   "metadata": {},
   "outputs": [],
   "source": []
  }
 ],
 "metadata": {
  "kernelspec": {
   "display_name": "Python (psiresp-3.8)",
   "language": "python",
   "name": "psiresp-3.8"
  },
  "language_info": {
   "codemirror_mode": {
    "name": "ipython",
    "version": 3
   },
   "file_extension": ".py",
   "mimetype": "text/x-python",
   "name": "python",
   "nbconvert_exporter": "python",
   "pygments_lexer": "ipython3",
   "version": "3.8.12"
  },
  "toc": {
   "base_numbering": 1,
   "nav_menu": {},
   "number_sections": true,
   "sideBar": true,
   "skip_h1_title": true,
   "title_cell": "Table of Contents",
   "title_sidebar": "Contents",
   "toc_cell": false,
   "toc_position": {},
   "toc_section_display": true,
   "toc_window_display": false
  }
 },
 "nbformat": 4,
 "nbformat_minor": 5
}
