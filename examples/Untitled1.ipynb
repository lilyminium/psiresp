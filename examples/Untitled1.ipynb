{
 "cells": [
  {
   "cell_type": "code",
   "execution_count": 1,
   "id": "c995477c",
   "metadata": {},
   "outputs": [],
   "source": [
    "from qcfractal import FractalSnowflakeHandler\n",
    "import qcfractal.interface as ptl"
   ]
  },
  {
   "cell_type": "code",
   "execution_count": 2,
   "id": "60fdc8c0",
   "metadata": {},
   "outputs": [
    {
     "data": {
      "text/html": [
       "\n",
       "<h3>FractalSnowflakeHandler</h3>\n",
       "<ul>\n",
       "  <li><b>Server:   &nbsp; </b>db_a726575f_149d_4d27_89a5_00f954724fde</li>\n",
       "  <li><b>Address:  &nbsp; </b>https://localhost:51175</li>\n",
       "</ul>\n"
      ],
      "text/plain": [
       "FractalSnowflakeHandler(name='db_a726575f_149d_4d27_89a5_00f954724fde' uri='https://localhost:51175')"
      ]
     },
     "execution_count": 2,
     "metadata": {},
     "output_type": "execute_result"
    }
   ],
   "source": [
    "server = FractalSnowflakeHandler()\n",
    "server"
   ]
  },
  {
   "cell_type": "code",
   "execution_count": 3,
   "id": "7301c2d0",
   "metadata": {},
   "outputs": [
    {
     "data": {
      "text/html": [
       "\n",
       "<h3>FractalClient</h3>\n",
       "<ul>\n",
       "  <li><b>Server:   &nbsp; </b>FractalSnowFlake_db_a7265</li>\n",
       "  <li><b>Address:  &nbsp; </b>https://localhost:51175/</li>\n",
       "  <li><b>Username: &nbsp; </b>None</li>\n",
       "</ul>\n"
      ],
      "text/plain": [
       "FractalClient(server_name='FractalSnowFlake_db_a7265', address='https://localhost:51175/', username='None')"
      ]
     },
     "execution_count": 3,
     "metadata": {},
     "output_type": "execute_result"
    }
   ],
   "source": [
    "client = server.client()\n",
    "client"
   ]
  },
  {
   "cell_type": "code",
   "execution_count": 4,
   "id": "df13da23",
   "metadata": {},
   "outputs": [
    {
     "data": {
      "application/vnd.jupyter.widget-view+json": {
       "model_id": "30002c28322a42ba9fab22de58f34a64",
       "version_major": 2,
       "version_minor": 0
      },
      "text/plain": []
     },
     "metadata": {},
     "output_type": "display_data"
    },
    {
     "data": {
      "application/vnd.jupyter.widget-view+json": {
       "model_id": "084f20f7c2674acd9d4d5b48a21d45f4",
       "version_major": 2,
       "version_minor": 0
      },
      "text/plain": [
       "NGLWidget()"
      ]
     },
     "metadata": {},
     "output_type": "display_data"
    }
   ],
   "source": [
    "mol = ptl.Molecule.from_data(\"\"\"\n",
    "O 0 0 0\n",
    "H 0 0 2\n",
    "H 0 2 0\n",
    "units bohr\n",
    "\"\"\")\n",
    "mol"
   ]
  },
  {
   "cell_type": "code",
   "execution_count": 5,
   "id": "d67ceee7",
   "metadata": {},
   "outputs": [
    {
     "name": "stdout",
     "output_type": "stream",
     "text": [
      "2.0\n",
      "90.0\n"
     ]
    }
   ],
   "source": [
    "print(mol.measure([0, 1]))\n",
    "print(mol.measure([1, 0, 2]))"
   ]
  },
  {
   "cell_type": "code",
   "execution_count": 6,
   "id": "a68fae32",
   "metadata": {},
   "outputs": [
    {
     "name": "stdout",
     "output_type": "stream",
     "text": [
      "ComputeResponse(nsubmitted=1 nexisting=0)\n",
      "['1']\n"
     ]
    }
   ],
   "source": [
    "\n",
    "# Ask the server to compute a new computation\n",
    "r = client.add_compute(program=\"psi4\", basis=\"6-31g\", method=\"b3lyp\", driver=\"energy\", molecule=mol)\n",
    "print(r)\n",
    "print(r.ids)"
   ]
  },
  {
   "cell_type": "code",
   "execution_count": 7,
   "id": "b649283f",
   "metadata": {},
   "outputs": [
    {
     "name": "stdout",
     "output_type": "stream",
     "text": [
      "ResultRecord(id='1', status='COMPLETE')\n",
      "ResultRecord(id='1', status='COMPLETE')\n",
      "ResultRecord(id='1', status='COMPLETE')\n"
     ]
    },
    {
     "ename": "KeyboardInterrupt",
     "evalue": "",
     "output_type": "error",
     "traceback": [
      "\u001b[0;31m---------------------------------------------------------------------------\u001b[0m",
      "\u001b[0;31mKeyboardInterrupt\u001b[0m                         Traceback (most recent call last)",
      "\u001b[0;32m/var/folders/rv/j6lbln6j0kvb5svxj8wflc400000gn/T/ipykernel_6014/771038778.py\u001b[0m in \u001b[0;36m<module>\u001b[0;34m\u001b[0m\n\u001b[1;32m     10\u001b[0m \u001b[0mproc\u001b[0m \u001b[0;34m=\u001b[0m \u001b[0mclient\u001b[0m\u001b[0;34m.\u001b[0m\u001b[0mquery_results\u001b[0m\u001b[0;34m(\u001b[0m\u001b[0mid\u001b[0m\u001b[0;34m=\u001b[0m\u001b[0mr\u001b[0m\u001b[0;34m.\u001b[0m\u001b[0mids\u001b[0m\u001b[0;34m)\u001b[0m\u001b[0;34m[\u001b[0m\u001b[0;36m0\u001b[0m\u001b[0;34m]\u001b[0m\u001b[0;34m\u001b[0m\u001b[0;34m\u001b[0m\u001b[0m\n\u001b[1;32m     11\u001b[0m \u001b[0mprint\u001b[0m\u001b[0;34m(\u001b[0m\u001b[0mproc\u001b[0m\u001b[0;34m)\u001b[0m\u001b[0;34m\u001b[0m\u001b[0;34m\u001b[0m\u001b[0m\n\u001b[0;32m---> 12\u001b[0;31m \u001b[0mtime\u001b[0m\u001b[0;34m.\u001b[0m\u001b[0msleep\u001b[0m\u001b[0;34m(\u001b[0m\u001b[0;36m20\u001b[0m\u001b[0;34m)\u001b[0m\u001b[0;34m\u001b[0m\u001b[0;34m\u001b[0m\u001b[0m\n\u001b[0m\u001b[1;32m     13\u001b[0m \u001b[0mproc\u001b[0m \u001b[0;34m=\u001b[0m \u001b[0mclient\u001b[0m\u001b[0;34m.\u001b[0m\u001b[0mquery_results\u001b[0m\u001b[0;34m(\u001b[0m\u001b[0mid\u001b[0m\u001b[0;34m=\u001b[0m\u001b[0mr\u001b[0m\u001b[0;34m.\u001b[0m\u001b[0mids\u001b[0m\u001b[0;34m)\u001b[0m\u001b[0;34m[\u001b[0m\u001b[0;36m0\u001b[0m\u001b[0;34m]\u001b[0m\u001b[0;34m\u001b[0m\u001b[0;34m\u001b[0m\u001b[0m\n\u001b[1;32m     14\u001b[0m \u001b[0mprint\u001b[0m\u001b[0;34m(\u001b[0m\u001b[0mproc\u001b[0m\u001b[0;34m)\u001b[0m\u001b[0;34m\u001b[0m\u001b[0;34m\u001b[0m\u001b[0m\n",
      "\u001b[0;31mKeyboardInterrupt\u001b[0m: "
     ]
    }
   ],
   "source": [
    "import time\n",
    "\n",
    "time.sleep(20)\n",
    "proc = client.query_results(id=r.ids)[0]\n",
    "print(proc)\n",
    "time.sleep(20)\n",
    "proc = client.query_results(id=r.ids)[0]\n",
    "print(proc)\n",
    "time.sleep(20)\n",
    "proc = client.query_results(id=r.ids)[0]\n",
    "print(proc)\n",
    "time.sleep(20)\n",
    "proc = client.query_results(id=r.ids)[0]\n",
    "print(proc)\n",
    "time.sleep(20)\n",
    "proc = client.query_results(id=r.ids)[0]\n",
    "print(proc)\n",
    "time.sleep(20)\n",
    "proc = client.query_results(id=r.ids)[0]\n",
    "print(proc)\n",
    "time.sleep(20)\n",
    "proc = client.query_results(id=r.ids)[0]\n",
    "print(proc)\n",
    "time.sleep(20)\n",
    "proc = client.query_results(id=r.ids)[0]\n",
    "print(proc)\n",
    "time.sleep(20)\n",
    "proc = client.query_results(id=r.ids)[0]\n",
    "print(proc)"
   ]
  },
  {
   "cell_type": "code",
   "execution_count": null,
   "id": "97d6a33c",
   "metadata": {},
   "outputs": [],
   "source": []
  }
 ],
 "metadata": {
  "kernelspec": {
   "display_name": "Python (psiresp-3.8)",
   "language": "python",
   "name": "psiresp-3.8"
  },
  "language_info": {
   "codemirror_mode": {
    "name": "ipython",
    "version": 3
   },
   "file_extension": ".py",
   "mimetype": "text/x-python",
   "name": "python",
   "nbconvert_exporter": "python",
   "pygments_lexer": "ipython3",
   "version": "3.8.12"
  },
  "toc": {
   "base_numbering": 1,
   "nav_menu": {},
   "number_sections": true,
   "sideBar": true,
   "skip_h1_title": true,
   "title_cell": "Table of Contents",
   "title_sidebar": "Contents",
   "toc_cell": false,
   "toc_position": {},
   "toc_section_display": true,
   "toc_window_display": false
  }
 },
 "nbformat": 4,
 "nbformat_minor": 5
}
