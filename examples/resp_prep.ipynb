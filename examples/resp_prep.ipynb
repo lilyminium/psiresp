{
 "cells": [
  {
   "cell_type": "code",
   "execution_count": 1,
   "id": "be0d3a27",
   "metadata": {},
   "outputs": [],
   "source": [
    "import qcelemental as qcel\n",
    "from psiresp.molecule import Molecule"
   ]
  },
  {
   "cell_type": "code",
   "execution_count": 3,
   "id": "b88bed8f",
   "metadata": {},
   "outputs": [],
   "source": [
    "from psiresp.tests.datafiles import (DMSO, METHYLAMMONIUM_OPT,\n",
    "                                     NME2ALA2_OPT_C1, NME2ALA2_OPT_C2,\n",
    "                                     ETHANOL_RESP2_C2, ETHANOL_RESP2_C1,\n",
    "                                    )"
   ]
  },
  {
   "cell_type": "code",
   "execution_count": 3,
   "id": "1a53aae1",
   "metadata": {},
   "outputs": [],
   "source": [
    "methylammonium_qcmol = qcel.models.Molecule.from_file(METHYLAMMONIUM_OPT, dtype=\"xyz\")"
   ]
  },
  {
   "cell_type": "code",
   "execution_count": 4,
   "id": "6f0b374c",
   "metadata": {},
   "outputs": [],
   "source": [
    "nme2ala2_c1_opt_qcmol = qcel.models.Molecule.from_file(NME2ALA2_OPT_C1, dtype=\"xyz\")"
   ]
  },
  {
   "cell_type": "code",
   "execution_count": 5,
   "id": "1ab024fe",
   "metadata": {},
   "outputs": [],
   "source": [
    "nme2ala2_c2_opt_qcmol = qcel.models.Molecule.from_file(NME2ALA2_OPT_C2, dtype=\"xyz\")"
   ]
  },
  {
   "cell_type": "code",
   "execution_count": 4,
   "id": "9ab1c441",
   "metadata": {},
   "outputs": [],
   "source": [
    "ethanol_c1_qcmol = qcel.models.Molecule.from_file(ETHANOL_RESP2_C1, dtype=\"xyz\")\n",
    "ethanol_c2_qcmol = qcel.models.Molecule.from_file(ETHANOL_RESP2_C2, dtype=\"xyz\")"
   ]
  },
  {
   "cell_type": "code",
   "execution_count": 17,
   "id": "9b62cd89",
   "metadata": {},
   "outputs": [],
   "source": [
    "methylammonium = Molecule(qcmol=methylammonium_qcmol,\n",
    "                        reorientations=[(0, 4, 6), (6, 4, 0)],\n",
    "                        keep_original_orientation=False,\n",
    "                        charge=1)\n",
    "methylammonium.generate_conformers()\n",
    "methylammonium.generate_orientations()"
   ]
  },
  {
   "cell_type": "code",
   "execution_count": 18,
   "id": "d8cf0c84",
   "metadata": {},
   "outputs": [],
   "source": [
    "for iconf, conf in enumerate(methylammonium.conformers, 1):\n",
    "    for iorient, orient in enumerate(conf.orientations, 1):\n",
    "        filename = f\"methylammonium_c{iconf:d}_o{iorient:d}.json\"\n",
    "        with open(filename, \"w\") as f:\n",
    "            f.write(orient.qcmol.json())"
   ]
  },
  {
   "cell_type": "code",
   "execution_count": 19,
   "id": "151610cf",
   "metadata": {},
   "outputs": [],
   "source": [
    "reorientations = [(4, 17, 18), (18, 17, 4),\n",
    "                  (5, 18, 19), (19, 18, 5)]\n",
    "nme2ala2 = Molecule(qcmol=nme2ala2_c1_opt_qcmol,\n",
    "                    reorientations=reorientations,\n",
    "                    keep_original_orientation=False)\n",
    "# molecule.generate_conformers()\n",
    "nme2ala2.add_conformer_with_coordinates(nme2ala2_c1_opt_qcmol.geometry)\n",
    "nme2ala2.add_conformer_with_coordinates(nme2ala2_c2_opt_qcmol.geometry)\n",
    "nme2ala2.generate_orientations()"
   ]
  },
  {
   "cell_type": "code",
   "execution_count": 20,
   "id": "6185d738",
   "metadata": {},
   "outputs": [],
   "source": [
    "for iconf, conf in enumerate(nme2ala2.conformers, 1):\n",
    "    for iorient, orient in enumerate(conf.orientations, 1):\n",
    "        filename = f\"nme2ala2_c{iconf:d}_o{iorient:d}.json\"\n",
    "        with open(filename, \"w\") as f:\n",
    "            f.write(orient.qcmol.json())"
   ]
  },
  {
   "cell_type": "code",
   "execution_count": 6,
   "id": "cf6ebd14",
   "metadata": {},
   "outputs": [],
   "source": [
    "\n",
    "ethanol = Molecule(qcmol=ethanol_c1_qcmol,\n",
    "                    reorientations=[],\n",
    "                    keep_original_orientation=True)\n",
    "# molecule.generate_conformers()\n",
    "ethanol.add_conformer_with_coordinates(ethanol_c1_qcmol.geometry)\n",
    "ethanol.add_conformer_with_coordinates(ethanol_c2_qcmol.geometry)\n",
    "ethanol.generate_orientations()"
   ]
  },
  {
   "cell_type": "code",
   "execution_count": 8,
   "id": "2d5a134e",
   "metadata": {},
   "outputs": [],
   "source": [
    "for iconf, conf in enumerate(ethanol.conformers, 1):\n",
    "    for iorient, orient in enumerate(conf.orientations, 1):\n",
    "        filename = f\"input/ethanol_c{iconf:d}_o{iorient:d}.json\"\n",
    "        with open(filename, \"w\") as f:\n",
    "            f.write(orient.qcmol.json())"
   ]
  },
  {
   "cell_type": "code",
   "execution_count": null,
   "id": "43500b79",
   "metadata": {},
   "outputs": [],
   "source": []
  }
 ],
 "metadata": {
  "kernelspec": {
   "display_name": "Python (psiresp-3.8)",
   "language": "python",
   "name": "psiresp-3.8"
  },
  "language_info": {
   "codemirror_mode": {
    "name": "ipython",
    "version": 3
   },
   "file_extension": ".py",
   "mimetype": "text/x-python",
   "name": "python",
   "nbconvert_exporter": "python",
   "pygments_lexer": "ipython3",
   "version": "3.8.12"
  },
  "toc": {
   "base_numbering": 1,
   "nav_menu": {},
   "number_sections": true,
   "sideBar": true,
   "skip_h1_title": true,
   "title_cell": "Table of Contents",
   "title_sidebar": "Contents",
   "toc_cell": false,
   "toc_position": {},
   "toc_section_display": true,
   "toc_window_display": false
  }
 },
 "nbformat": 4,
 "nbformat_minor": 5
}
