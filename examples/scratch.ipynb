{
 "cells": [
  {
   "cell_type": "code",
   "execution_count": 2,
   "id": "9a626227",
   "metadata": {},
   "outputs": [],
   "source": [
    "import itertools\n",
    "from typing import List\n",
    "import numpy as np"
   ]
  },
  {
   "cell_type": "code",
   "execution_count": 5,
   "id": "453de86e",
   "metadata": {},
   "outputs": [],
   "source": [
    "def generate_atom_combinations(symbols: List[str]):\n",
    "    \"\"\"Yield combinations of atom indices for transformations\n",
    "\n",
    "    The method first yields combinations of 3 heavy atom indices.\n",
    "    Each combination is followed by its reverse. Once the heavy atoms\n",
    "    are exhausted, the heavy atoms then get combined with the hydrogens.\n",
    "\n",
    "    Parameters\n",
    "    ----------\n",
    "    symbols: list of str\n",
    "        List of atom elements\n",
    "\n",
    "    Examples\n",
    "    --------\n",
    "\n",
    "    ::\n",
    "\n",
    "        >>> symbols = [\"H\", \"C\", \"C\", \"O\", \"N\"]\n",
    "        >>> comb = generate_atom_combinations(symbols)\n",
    "        >>> next(comb)\n",
    "        (1, 2, 3)\n",
    "        >>> next(comb)\n",
    "        (3, 2, 1)\n",
    "        >>> next(comb)\n",
    "        (1, 2, 4)\n",
    "        >>> next(comb)\n",
    "        (4, 2, 1)\n",
    "\n",
    "    \"\"\"\n",
    "    symbols = np.asarray(symbols)\n",
    "    is_H = symbols == \"H\"\n",
    "    h_atoms = list(np.flatnonzero(is_H))\n",
    "    heavy_atoms = list(np.flatnonzero(~is_H))\n",
    "    seen = set()\n",
    "\n",
    "    for comb in itertools.combinations(heavy_atoms, 3):\n",
    "        seen.add(comb)\n",
    "        yield comb\n",
    "        yield comb[::-1]\n",
    "\n",
    "    for comb in itertools.combinations(heavy_atoms + h_atoms, 3):\n",
    "        if comb in seen:\n",
    "            continue\n",
    "        seen.add(comb)\n",
    "        yield comb\n",
    "        yield comb[::-1]"
   ]
  },
  {
   "cell_type": "code",
   "execution_count": 6,
   "id": "4f1e181b",
   "metadata": {},
   "outputs": [
    {
     "data": {
      "text/plain": [
       "[(1, 2, 3),\n",
       " (3, 2, 1),\n",
       " (1, 2, 4),\n",
       " (4, 2, 1),\n",
       " (1, 3, 4),\n",
       " (4, 3, 1),\n",
       " (2, 3, 4),\n",
       " (4, 3, 2),\n",
       " (1, 2, 0),\n",
       " (0, 2, 1),\n",
       " (1, 3, 0),\n",
       " (0, 3, 1),\n",
       " (1, 4, 0),\n",
       " (0, 4, 1),\n",
       " (2, 3, 0),\n",
       " (0, 3, 2),\n",
       " (2, 4, 0),\n",
       " (0, 4, 2),\n",
       " (3, 4, 0),\n",
       " (0, 4, 3)]"
      ]
     },
     "execution_count": 6,
     "metadata": {},
     "output_type": "execute_result"
    }
   ],
   "source": [
    "list(generate_atom_combinations([\"H\", \"C\", \"C\", \"O\", \"N\"]))"
   ]
  },
  {
   "cell_type": "code",
   "execution_count": null,
   "id": "a2fbf4bc",
   "metadata": {},
   "outputs": [],
   "source": []
  }
 ],
 "metadata": {
  "kernelspec": {
   "display_name": "Python (psiresp-3.8)",
   "language": "python",
   "name": "psiresp-3.8"
  },
  "language_info": {
   "codemirror_mode": {
    "name": "ipython",
    "version": 3
   },
   "file_extension": ".py",
   "mimetype": "text/x-python",
   "name": "python",
   "nbconvert_exporter": "python",
   "pygments_lexer": "ipython3",
   "version": "3.8.12"
  },
  "toc": {
   "base_numbering": 1,
   "nav_menu": {},
   "number_sections": true,
   "sideBar": true,
   "skip_h1_title": true,
   "title_cell": "Table of Contents",
   "title_sidebar": "Contents",
   "toc_cell": false,
   "toc_position": {},
   "toc_section_display": true,
   "toc_window_display": false
  }
 },
 "nbformat": 4,
 "nbformat_minor": 5
}
