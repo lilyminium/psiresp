{
 "cells": [
  {
   "cell_type": "code",
   "execution_count": 1,
   "metadata": {},
   "outputs": [],
   "source": [
    "import MDAnalysis as mda"
   ]
  },
  {
   "cell_type": "code",
   "execution_count": 7,
   "metadata": {},
   "outputs": [],
   "source": [
    "u = mda.Universe(*[f\"dmso_opt_c1_o{i}.xyz\" for i in [1, 1, 2, 3, 4]])"
   ]
  },
  {
   "cell_type": "code",
   "execution_count": 9,
   "metadata": {},
   "outputs": [],
   "source": [
    "rdmol = u.atoms.convert_to(\"RDKIT\")"
   ]
  },
  {
   "cell_type": "code",
   "execution_count": 12,
   "metadata": {},
   "outputs": [
    {
     "data": {
      "text/plain": [
       "9"
      ]
     },
     "execution_count": 12,
     "metadata": {},
     "output_type": "execute_result"
    }
   ],
   "source": [
    "rdmol.GetNumBonds()"
   ]
  },
  {
   "cell_type": "code",
   "execution_count": 24,
   "metadata": {},
   "outputs": [],
   "source": [
    "\n",
    "def add_conformer_from_coordinates(rdmol, coordinates):\n",
    "    \"\"\"Add conformer to RDKit from coordinate array\n",
    "\n",
    "    Parameters\n",
    "    ----------\n",
    "    rdmol: rdkit.Chem.Mol\n",
    "        RDKit Molecule\n",
    "    coordinates: numpy.ndarray of floats\n",
    "        Coordinates in angstrom\n",
    "    \"\"\"\n",
    "    from rdkit import Chem\n",
    "    from rdkit import Geometry\n",
    "    n_atoms = rdmol.GetNumAtoms()\n",
    "    if coordinates.shape != (n_atoms, 3):\n",
    "        raise ValueError(\"Shape of coordinates must be (n_atoms, 3)\")\n",
    "    conformer = Chem.Conformer(n_atoms)\n",
    "    for i, xyz in enumerate(coordinates):\n",
    "        x, y, z = map(float, xyz)\n",
    "        conformer.SetAtomPosition(i, Geometry.Point3D(x, y, z))\n",
    "    rdmol.AddConformer(conformer)\n"
   ]
  },
  {
   "cell_type": "code",
   "execution_count": 17,
   "metadata": {},
   "outputs": [
    {
     "data": {
      "image/png": "[encoded data removed]",
      "text/plain": [
       "<rdkit.Chem.rdchem.Mol at 0x7f9409ca0940>"
      ]
     },
     "execution_count": 17,
     "metadata": {},
     "output_type": "execute_result"
    }
   ],
   "source": [
    "rdmol"
   ]
  },
  {
   "cell_type": "code",
   "execution_count": 25,
   "metadata": {},
   "outputs": [],
   "source": [
    "for ts in u.trajectory:\n",
    "    add_conformer_from_coordinates(rdmol, u.atoms.positions)"
   ]
  },
  {
   "cell_type": "code",
   "execution_count": 26,
   "metadata": {},
   "outputs": [
    {
     "data": {
      "text/plain": [
       "4"
      ]
     },
     "execution_count": 26,
     "metadata": {},
     "output_type": "execute_result"
    }
   ],
   "source": [
    "rdmol.GetNumConformers()"
   ]
  },
  {
   "cell_type": "code",
   "execution_count": 27,
   "metadata": {},
   "outputs": [],
   "source": [
    "from rdkit import Chem\n",
    "\n",
    "Chem.MolToTPLFile(rdmol, \"dmso_orientations.tpl\")"
   ]
  },
  {
   "cell_type": "code",
   "execution_count": 28,
   "metadata": {},
   "outputs": [],
   "source": [
    "u.transfer_to_memory()"
   ]
  },
  {
   "cell_type": "code",
   "execution_count": 29,
   "metadata": {},
   "outputs": [
    {
     "data": {
      "text/plain": [
       "['OtherWriter',\n",
       " 'Writer',\n",
       " '_Timestep',\n",
       " '__class__',\n",
       " '__delattr__',\n",
       " '__dict__',\n",
       " '__dir__',\n",
       " '__doc__',\n",
       " '__enter__',\n",
       " '__eq__',\n",
       " '__exit__',\n",
       " '__format__',\n",
       " '__ge__',\n",
       " '__getattribute__',\n",
       " '__getitem__',\n",
       " '__gt__',\n",
       " '__hash__',\n",
       " '__init__',\n",
       " '__init_subclass__',\n",
       " '__iter__',\n",
       " '__le__',\n",
       " '__len__',\n",
       " '__lt__',\n",
       " '__module__',\n",
       " '__ne__',\n",
       " '__new__',\n",
       " '__next__',\n",
       " '__reduce__',\n",
       " '__reduce_ex__',\n",
       " '__repr__',\n",
       " '__setattr__',\n",
       " '__setstate__',\n",
       " '__sizeof__',\n",
       " '__str__',\n",
       " '__subclasshook__',\n",
       " '__weakref__',\n",
       " '_apply_limits',\n",
       " '_apply_transformations',\n",
       " '_auxs',\n",
       " '_check_for_aux',\n",
       " '_format_hint',\n",
       " '_read_frame',\n",
       " '_read_frame_with_aux',\n",
       " '_read_next_timestep',\n",
       " '_reopen',\n",
       " '_sliced_iter',\n",
       " '_transformations',\n",
       " 'add_auxiliary',\n",
       " 'add_transformations',\n",
       " 'aux_list',\n",
       " 'check_slice_indices',\n",
       " 'close',\n",
       " 'convert_forces_from_native',\n",
       " 'convert_forces_to_native',\n",
       " 'convert_pos_from_native',\n",
       " 'convert_pos_to_native',\n",
       " 'convert_time_from_native',\n",
       " 'convert_time_to_native',\n",
       " 'convert_velocities_from_native',\n",
       " 'convert_velocities_to_native',\n",
       " 'coordinate_array',\n",
       " 'copy',\n",
       " 'dimensions_array',\n",
       " 'dt',\n",
       " 'filename',\n",
       " 'force_array',\n",
       " 'format',\n",
       " 'frame',\n",
       " 'get_array',\n",
       " 'get_aux_attribute',\n",
       " 'get_aux_descriptions',\n",
       " 'iter_as_aux',\n",
       " 'iter_auxiliary',\n",
       " 'n_atoms',\n",
       " 'n_frames',\n",
       " 'next',\n",
       " 'next_as_aux',\n",
       " 'parse_n_atoms',\n",
       " 'remove_auxiliary',\n",
       " 'rename_aux',\n",
       " 'rewind',\n",
       " 'set_array',\n",
       " 'set_aux_attribute',\n",
       " 'stored_format',\n",
       " 'stored_order',\n",
       " 'time',\n",
       " 'timeseries',\n",
       " 'totaltime',\n",
       " 'trajectory',\n",
       " 'transformations',\n",
       " 'ts',\n",
       " 'units',\n",
       " 'velocity_array']"
      ]
     },
     "execution_count": 29,
     "metadata": {},
     "output_type": "execute_result"
    }
   ],
   "source": [
    "dir(u.trajectory)"
   ]
  },
  {
   "cell_type": "code",
   "execution_count": 36,
   "metadata": {},
   "outputs": [],
   "source": [
    "import numpy as np\n",
    "np.save(\"dmso_orientations.npy\", u.trajectory.coordinate_array, allow_pickle=False)"
   ]
  },
  {
   "cell_type": "code",
   "execution_count": 37,
   "metadata": {},
   "outputs": [],
   "source": [
    "mol2 = \"\"\"default\n",
    "  Generated by xyz2mol\n",
    "\n",
    " 10  9  0  0  0  0  0  0  0  0999 V2000\n",
    "   -1.4950    0.6153    0.0116 C   0  0  0  0  0\n",
    "   -1.5538    1.6407    0.3562 H   0  0  0  0  0\n",
    "   -1.9010   -0.0621    0.7526 H   0  0  0  0  0\n",
    "   -2.0537    0.5104   -0.9089 H   0  0  0  0  0\n",
    "    0.2106    0.1753   -0.3398 S   0  0  0  0  0\n",
    "    0.2212   -1.2767   -0.6519 O   0  0  0  0  0\n",
    "    0.8518    0.3493    1.3290 C   0  0  0  0  0\n",
    "    1.8949    0.0629    1.3076 H   0  0  0  0  0\n",
    "    0.7652    1.3779    1.6580 H   0  0  0  0  0\n",
    "    0.3152   -0.3133    1.9966 H   0  0  0  0  0\n",
    "  1  2  1  0  0  0\n",
    "  1  3  1  0  0  0\n",
    "  1  4  1  0  0  0\n",
    "  1  5  1  0  0  0\n",
    "  5  6  1  0  0  0\n",
    "  5  7  1  0  0  0\n",
    "  7  8  1  0  0  0\n",
    "  7  9  1  0  0  0\n",
    "  7 10  1  0  0  0\n",
    "M  END\n",
    "\"\"\""
   ]
  },
  {
   "cell_type": "code",
   "execution_count": 39,
   "metadata": {},
   "outputs": [
    {
     "data": {
      "image/png": "[encoded data removed]",
      "text/plain": [
       "<rdkit.Chem.rdchem.Mol at 0x7f940a884210>"
      ]
     },
     "execution_count": 39,
     "metadata": {},
     "output_type": "execute_result"
    }
   ],
   "source": [
    "Chem.MolFromMolBlock(mol2)"
   ]
  },
  {
   "cell_type": "code",
   "execution_count": 43,
   "metadata": {},
   "outputs": [],
   "source": [
    "u = mda.Universe(\"dmso_opt_c1.xyz\")"
   ]
  },
  {
   "cell_type": "code",
   "execution_count": 44,
   "metadata": {},
   "outputs": [],
   "source": [
    "u.atoms.write(\"dmso_opt_c1.pdb\")"
   ]
  },
  {
   "cell_type": "code",
   "execution_count": 45,
   "metadata": {},
   "outputs": [],
   "source": [
    "u.atoms.write(\"dmso_opt_c1.gro\")"
   ]
  },
  {
   "cell_type": "code",
   "execution_count": null,
   "metadata": {},
   "outputs": [],
   "source": [
    "u.atoms.write(\"dmso_c1.pdb\")"
   ]
  }
 ],
 "metadata": {
  "kernelspec": {
   "display_name": "Python (mda-dev)",
   "language": "python",
   "name": "mda-dev"
  },
  "language_info": {
   "codemirror_mode": {
    "name": "ipython",
    "version": 3
   },
   "file_extension": ".py",
   "mimetype": "text/x-python",
   "name": "python",
   "nbconvert_exporter": "python",
   "pygments_lexer": "ipython3",
   "version": "3.7.6"
  },
  "toc": {
   "base_numbering": 1,
   "nav_menu": {},
   "number_sections": true,
   "sideBar": true,
   "skip_h1_title": true,
   "title_cell": "Table of Contents",
   "title_sidebar": "Contents",
   "toc_cell": false,
   "toc_position": {},
   "toc_section_display": true,
   "toc_window_display": false
  }
 },
 "nbformat": 4,
 "nbformat_minor": 4
}
