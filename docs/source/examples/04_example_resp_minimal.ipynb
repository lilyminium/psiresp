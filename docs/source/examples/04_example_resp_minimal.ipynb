{
 "cells": [
  {
   "cell_type": "markdown",
   "id": "c9ecc8df",
   "metadata": {},
   "source": [
    "# Calculating RESP charges with pre-computed ESPs\n",
    "\n",
    "In some cases you may already have computed grids and electrostatic potentials for a known molecule geometry, either using PsiRESP or another library. In this case, you can use a minimal installation of PsiRESP without RDKit, QCFractal, or Psi4 to calculate charges using various methods.\n",
    "\n",
    "\n",
    "This tutorial presumes that you are already familiar with the basic concepts of RESP charges and using PsiRESP. If not, please see the related notebooks:\n",
    "\n",
    "* [Calculating charges of one molecule with a temporary server](01_examples_resp_single_server.ipynb)\n",
    "* [Calculating charges of multiple molecules with a temporary server](02_examples_resp_multi_server.ipynb)\n",
    "\n",
    "If you have not pre-computed ESPs but you still do not want to use a QCFractal, please see:\n",
    "\n",
    "* [Calculating RESP charges without a server](03_example_resp_no_server.ipynb)\n",
    "\n",
    "This tutorial uses the same molecules as [Calculating charges of multiple molecules with a temporary server](02_examples_resp_multi_server.ipynb).\n",
    "\n",
    "**Pandas** is an optional library used for organising and plotting the data at the end."
   ]
  },
  {
   "cell_type": "code",
   "execution_count": 1,
   "id": "2191b7ff",
   "metadata": {},
   "outputs": [],
   "source": [
    "import psiresp\n",
    "import qcelemental as qcel\n",
    "import numpy as np\n",
    "import pandas as pd\n",
    "\n",
    "%matplotlib inline"
   ]
  },
  {
   "cell_type": "markdown",
   "id": "ea651043",
   "metadata": {},
   "source": [
    "## Creating the molecules\n",
    "\n",
    "We load in two molecules from XYZ files. For demonstration purposes, this file is from the PsiRESP testing files."
   ]
  },
  {
   "cell_type": "code",
   "execution_count": 3,
   "id": "598eb546",
   "metadata": {},
   "outputs": [],
   "source": [
    "from psiresp.tests.datafiles import (\n",
    "    NME2ALA2_OPT_C1,\n",
    "    METHYLAMMONIUM_OPT\n",
    ")"
   ]
  },
  {
   "cell_type": "markdown",
   "id": "f4262e03",
   "metadata": {},
   "source": [
    "We create QCElemental molecules and then PsiRESP molecules, step-by-step. `nme2ala2` will be a simple molecule with only one conformer and one orientation. `methylammonium` will be a slightly more complex molecule with one conformer, and two orientations per conformer, to demonstrate full capability. \n",
    "\n",
    "Please see [the documentation on Orientations](https://psiresp.readthedocs.io/en/latest/molecule.html#orientations) for an explanation of why we use multiple orientations for a molecule, and which orientations can be specified or automatically generated."
   ]
  },
  {
   "cell_type": "code",
   "execution_count": 4,
   "id": "ada57c07",
   "metadata": {},
   "outputs": [],
   "source": [
    "nme2ala2_c1 = qcel.models.Molecule.from_file(\n",
    "    NME2ALA2_OPT_C1,\n",
    "    dtype=\"xyz\",\n",
    ")\n",
    "menh3 = qcel.models.Molecule.from_file(\n",
    "    METHYLAMMONIUM_OPT,\n",
    "    dtype=\"xyz\",\n",
    "    molecular_charge=1,\n",
    ")"
   ]
  },
  {
   "cell_type": "markdown",
   "id": "acd11800",
   "metadata": {},
   "source": [
    "It is highly recommended to create PsiRESP molecules by adding Conformers one-by-one, as validation checks are run for each new conformer. You can add a conformer both with `add_conformer` if you are using a QCElemental molecule, or with `add_conformer_with_coordinates` if you only have coordinates. `add_conformer_with_coordinates` allows a `units` keyword for conversion."
   ]
  },
  {
   "cell_type": "code",
   "execution_count": 5,
   "id": "d9b25f7d",
   "metadata": {},
   "outputs": [],
   "source": [
    "nme2ala2 = psiresp.Molecule(qcmol=nme2ala2_c1)\n",
    "nme2ala2.add_conformer_with_coordinates(nme2ala2_c1.geometry, units=\"bohr\")"
   ]
  },
  {
   "cell_type": "markdown",
   "id": "e227bd7a",
   "metadata": {},
   "source": [
    "Alternatively, if you are only using one conformer, you do not need to directly add a conformer at all."
   ]
  },
  {
   "cell_type": "code",
   "execution_count": 6,
   "id": "ef0750bf",
   "metadata": {},
   "outputs": [
    {
     "data": {
      "text/plain": [
       "[(0, 4, 1), (1, 4, 0)]"
      ]
     },
     "execution_count": 6,
     "metadata": {},
     "output_type": "execute_result"
    }
   ],
   "source": [
    "methylammonium = psiresp.Molecule(qcmol=menh3, charge=1)\n",
    "methylammonium.generate_transformations(n_reorientations=2)\n",
    "methylammonium.reorientations\n",
    "\n",
    "# alternatively, you can specify:\n",
    "# methylammonium = psiresp.Molecule(\n",
    "#     qcmol=menh3,\n",
    "#     reorientations=[(0, 4, 1), (1, 4, 0)],\n",
    "#     charge=1,\n",
    "# )"
   ]
  },
  {
   "cell_type": "markdown",
   "id": "ce393eda",
   "metadata": {},
   "source": [
    "## Adding the grid and ESP values\n",
    "\n",
    "The grids and ESP values are properties of `psiresp.Orientation` objects. These can be added manually using `Conformer.add_orientation_with_coordinates()`, analogous to `Molecule.add_conformer_with_coordinates()` above. However, if we are not specifying multiple orientations, we can simply use the geometries we passed in initially. This occurs automatically when we call `Molecule.generate_orientations()`."
   ]
  },
  {
   "cell_type": "code",
   "execution_count": 7,
   "id": "bb11c062",
   "metadata": {},
   "outputs": [],
   "source": [
    "nme2ala2.generate_orientations()\n",
    "methylammonium.generate_orientations()"
   ]
  },
  {
   "cell_type": "markdown",
   "id": "bc108269",
   "metadata": {},
   "source": [
    "With Orientations generated, we can add the grid and ESP directly to the `Orientation.grid` and `Orientation.esp` properties. Again, we load this from the PsiRESP test data files"
   ]
  },
  {
   "cell_type": "code",
   "execution_count": 8,
   "id": "fd5b79fc",
   "metadata": {},
   "outputs": [],
   "source": [
    "import numpy as np\n",
    "from psiresp.tests.datafiles import (\n",
    "    NME2ALA2_OPT_C1_GRID,\n",
    "    NME2ALA2_OPT_C1_ESP,\n",
    "    METHYLAMMONIUM_O1_GRID,\n",
    "    METHYLAMMONIUM_O1_ESP,\n",
    "    METHYLAMMONIUM_O2_GRID,\n",
    "    METHYLAMMONIUM_O2_ESP,\n",
    ")\n",
    "\n",
    "nme2ala2.conformers[0].orientations[0].grid = np.loadtxt(NME2ALA2_OPT_C1_GRID)\n",
    "nme2ala2.conformers[0].orientations[0].esp = np.loadtxt(NME2ALA2_OPT_C1_ESP)\n",
    "methylammonium.conformers[0].orientations[0].grid = np.loadtxt(METHYLAMMONIUM_O1_GRID)\n",
    "methylammonium.conformers[0].orientations[0].esp = np.loadtxt(METHYLAMMONIUM_O1_ESP)\n",
    "methylammonium.conformers[0].orientations[1].grid = np.loadtxt(METHYLAMMONIUM_O2_GRID)\n",
    "methylammonium.conformers[0].orientations[1].esp = np.loadtxt(METHYLAMMONIUM_O2_ESP)"
   ]
  },
  {
   "cell_type": "markdown",
   "id": "12273633",
   "metadata": {},
   "source": [
    "## Generating charge constraints\n",
    "\n",
    "Below, we generate an inter-molecular charge constraint. Without RDKit, we need to specify the constraint with atom indices instead of SMILES or SMARTS. We are able to do this because we specified the geometry ourselves from the XYZ file, so we can use a visualisation program such as `nglview` or VMD to pick out the correct atoms. The below constraint sums the methyl group from `methylammonium` and the acetyl group from `nme2ala2` to equal 0. "
   ]
  },
  {
   "cell_type": "code",
   "execution_count": 9,
   "id": "e2952183",
   "metadata": {},
   "outputs": [],
   "source": [
    "constraints = psiresp.ChargeConstraintOptions()\n",
    "methyl_atoms = methylammonium.get_atoms(indices=[0, 2, 3, 4])\n",
    "ace_atoms = nme2ala2.get_atoms(indices=[0, 1, 2, 3, 11, 12, 13, 14])\n",
    "constraint_atoms = methyl_atoms + ace_atoms\n",
    "constraints.add_charge_sum_constraint(charge=0, atoms=constraint_atoms)"
   ]
  },
  {
   "cell_type": "markdown",
   "id": "ff7f6e6b",
   "metadata": {},
   "source": [
    "## Running the job\n",
    "\n",
    "As previously, we can create a typical psiresp.Job and calculate charges. Instead of calling `Job.run()`, we need to use `Job.compute_charges` -- `Job.run()` will always try to re-compute ESPs, to ensure that they match up to the given grid."
   ]
  },
  {
   "cell_type": "code",
   "execution_count": 10,
   "id": "1c9adccf",
   "metadata": {},
   "outputs": [
    {
     "data": {
      "text/plain": [
       "[array([-0.3479946526284455,  0.0947455215646185,  0.0947455215646185,\n",
       "         0.0947455215646184,  0.7867893485647182, -0.5839738350665387,\n",
       "        -0.6944927712231437,  0.3442376495266471,  0.2608201018834638,\n",
       "         0.3357773566071751, -0.0806738394616683, -0.0806738394616684,\n",
       "        -0.0806738394616686, -1.2940908358803895,  0.3662001565578509,\n",
       "         0.3662001565578512,  0.3662001565578511,  0.6748251608445328,\n",
       "        -0.5559612286597867, -0.5100631453864023,  0.3016945866012605,\n",
       "        -0.1972274084181829,  0.1129480524175629,  0.1129480524175629,\n",
       "         0.1129480524175629]),\n",
       " array([ 2.4385815262909025, -0.4054676074142619, -0.405467607414262 ,\n",
       "        -0.4054676074142622, -0.4746498652819122,  0.0544943887160196,\n",
       "         0.0989882067931542,  0.0989885657246218])]"
      ]
     },
     "execution_count": 10,
     "metadata": {},
     "output_type": "execute_result"
    }
   ],
   "source": [
    "job = psiresp.Job(molecules=[nme2ala2, methylammonium], charge_constraints=constraints)\n",
    "normal_charges = job.compute_charges()\n",
    "normal_charges"
   ]
  },
  {
   "cell_type": "markdown",
   "id": "261f414f",
   "metadata": {},
   "source": [
    " The charges above are computed with 2-stage RESP with a hyperbolic restraint, and typical coefficients used in the restraint (`restraint_slope=0.1`, `restraint_height_stage_1=0.0005`, `restraint_height_stage_2=0.001`)"
   ]
  },
  {
   "cell_type": "code",
   "execution_count": 11,
   "id": "c04992eb",
   "metadata": {
    "scrolled": true
   },
   "outputs": [
    {
     "data": {
      "text/plain": [
       "RespOptions(restraint_slope=0.1, restrained_fit=True, exclude_hydrogens=True, convergence_tolerance=1e-06, max_iter=500, restraint_height_stage_1=0.0005, restraint_height_stage_2=0.001, stage_2=True)"
      ]
     },
     "execution_count": 11,
     "metadata": {},
     "output_type": "execute_result"
    }
   ],
   "source": [
    "job.resp_options"
   ]
  },
  {
   "cell_type": "markdown",
   "id": "989f1a06",
   "metadata": {},
   "source": [
    "One reason to use PsiRESP, even if you already have pre-computed geometries, grids, and electrostatic potentials, is being able to easily fit charges to different options. For example, changing the restraint slope:"
   ]
  },
  {
   "cell_type": "code",
   "execution_count": 12,
   "id": "6ed4085b",
   "metadata": {},
   "outputs": [
    {
     "data": {
      "text/plain": [
       "[array([-0.4545908255000874,  0.1207242780390815,  0.1207242780390815,\n",
       "         0.1207242780390817,  0.8778592164258321, -0.6057686634879043,\n",
       "        -0.8459350984200689,  0.381823108747242 ,  0.3771341049247636,\n",
       "         0.3416614212413097, -0.0904680402945985, -0.0904680402945986,\n",
       "        -0.0904680402945988, -1.2034314715179415,  0.3327264233352316,\n",
       "         0.3327264233352314,  0.3327264233352314,  0.6979337100609917,\n",
       "        -0.5734125251129846, -0.5413040869769363,  0.325712154393496 ,\n",
       "        -0.267247534312278 ,  0.1335395020984744,  0.1335395020984745,\n",
       "         0.1335395020984745]),\n",
       " array([ 2.4750043684883614, -0.4143512615178306, -0.4143512615178305,\n",
       "        -0.4143512615178303, -0.5022427252979501,  0.0602535036503358,\n",
       "         0.1050191406545201,  0.105019497058224 ])]"
      ]
     },
     "execution_count": 12,
     "metadata": {},
     "output_type": "execute_result"
    }
   ],
   "source": [
    "job.resp_options.restraint_slope = 1\n",
    "slope_1 = job.compute_charges()\n",
    "slope_1"
   ]
  },
  {
   "cell_type": "markdown",
   "id": "c13f2182",
   "metadata": {},
   "source": [
    "We might also change the restraint height:"
   ]
  },
  {
   "cell_type": "code",
   "execution_count": 13,
   "id": "e62f3c47",
   "metadata": {},
   "outputs": [
    {
     "data": {
      "text/plain": [
       "[array([-0.0247748721379307,  0.052922211872479 ,  0.052922211872479 ,\n",
       "         0.0529222118724789, -0.0207917828185526, -0.0977226352361417,\n",
       "        -0.0078511052684009,  0.170124202725129 , -0.0121162862918905,\n",
       "        -0.0390820673420221,  0.0735757457230962,  0.0735757457230962,\n",
       "         0.0735757457230963, -1.205388670315887 ,  0.3207989618176216,\n",
       "         0.3207989618176214,  0.3207989618176218, -0.0439126788205824,\n",
       "        -0.0951905340534581, -0.0230484017145005,  0.078675143363542 ,\n",
       "        -0.3664773104777325,  0.1152220800496126,  0.1152220800496127,\n",
       "         0.1152220800496128]),\n",
       " array([ 0.2929154736940858,  0.1617760533253261,  0.1617760533253263,\n",
       "         0.1617760533253263, -0.0130211267721713,  0.0591071102863873,\n",
       "         0.0878350394224338,  0.0878353433932856])]"
      ]
     },
     "execution_count": 13,
     "metadata": {},
     "output_type": "execute_result"
    }
   ],
   "source": [
    "job.resp_options.restraint_height_stage_1 = 1\n",
    "height_1 = job.compute_charges()\n",
    "height_1"
   ]
  },
  {
   "cell_type": "markdown",
   "id": "b41fed24",
   "metadata": {},
   "source": [
    "Or turn off charge constraints:"
   ]
  },
  {
   "cell_type": "code",
   "execution_count": 14,
   "id": "b44f61b1",
   "metadata": {},
   "outputs": [
    {
     "data": {
      "text/plain": [
       "[array([ 0.0327256134724813,  0.0387696031046107,  0.0387696031046106,\n",
       "         0.0387696031046106, -0.0275298364658156, -0.0942734144329204,\n",
       "        -0.0112955162349269,  0.150869444329444 , -0.0226591029864556,\n",
       "         0.3020894839251422, -0.0171308284066392, -0.0171308284066387,\n",
       "        -0.0171308284066394, -1.2715435478386679,  0.3351008219680786,\n",
       "         0.3351008219680786,  0.3351008219680786, -0.0537400123476083,\n",
       "        -0.1082393076648274, -0.0271429788597239,  0.0564909980988714,\n",
       "        -0.2623954556389083,  0.0888082808819215,  0.0888082808819216,\n",
       "         0.0888082808819217]),\n",
       " array([0.3310875592349877, 0.1505760400696083, 0.1505760400696086,\n",
       "        0.1505760400696083, 0.0050471750518216, 0.0355065337828089,\n",
       "        0.0883151243218629, 0.0883154873996936])]"
      ]
     },
     "execution_count": 14,
     "metadata": {},
     "output_type": "execute_result"
    }
   ],
   "source": [
    "job.charge_constraints.charge_sum_constraints = []\n",
    "no_constraints = job.compute_charges()\n",
    "no_constraints"
   ]
  },
  {
   "cell_type": "markdown",
   "id": "5c9a39c2",
   "metadata": {},
   "source": [
    "To get an idea for how these changes have affected the output charges, we can organize the methylammonium charges into a [Pandas DataFrame](https://pandas.pydata.org/docs/reference/api/pandas.DataFrame.html) and plot them."
   ]
  },
  {
   "cell_type": "code",
   "execution_count": 15,
   "id": "fcdca8c5",
   "metadata": {},
   "outputs": [
    {
     "data": {
      "image/png": "[encoded data removed]",
      "text/plain": [
       "<Figure size 432x288 with 1 Axes>"
      ]
     },
     "metadata": {
      "needs_background": "light"
     },
     "output_type": "display_data"
    }
   ],
   "source": [
    "atom_names = [f\"{x}{i}\" for i, x in enumerate(methylammonium.qcmol.symbols, 1)]\n",
    "\n",
    "df = pd.DataFrame({\n",
    "    \"Atom names\": atom_names,\n",
    "    \"RESP\": normal_charges[1],\n",
    "    \"restraint_slope=1\": slope_1[1],\n",
    "    \"restraint_height_stage_1=1\": height_1[1],\n",
    "    \"no constraints\": no_constraints[1]\n",
    "})\n",
    "\n",
    "df.set_index(\"Atom names\", inplace=True)\n",
    "\n",
    "df.plot(ylabel=\"Charge\", title=\"Methylammonium charges with different settings\", kind=\"bar\");"
   ]
  },
  {
   "cell_type": "markdown",
   "id": "b2d83ead",
   "metadata": {},
   "source": [
    "Using Pandas is quite useful; DataFrames can be saved to CSV files, for example, with `df.to_csv()`. They can also simply be viewed as a table in a Jupyter notebook."
   ]
  },
  {
   "cell_type": "code",
   "execution_count": 16,
   "id": "d993d564",
   "metadata": {},
   "outputs": [
    {
     "data": {
      "text/html": [
       "<div>\n",
       "<style scoped>\n",
       "    .dataframe tbody tr th:only-of-type {\n",
       "        vertical-align: middle;\n",
       "    }\n",
       "\n",
       "    .dataframe tbody tr th {\n",
       "        vertical-align: top;\n",
       "    }\n",
       "\n",
       "    .dataframe thead th {\n",
       "        text-align: right;\n",
       "    }\n",
       "</style>\n",
       "<table border=\"1\" class=\"dataframe\">\n",
       "  <thead>\n",
       "    <tr style=\"text-align: right;\">\n",
       "      <th></th>\n",
       "      <th>RESP</th>\n",
       "      <th>restraint_slope=1</th>\n",
       "      <th>restraint_height_stage_1=1</th>\n",
       "      <th>no constraints</th>\n",
       "    </tr>\n",
       "    <tr>\n",
       "      <th>Atom names</th>\n",
       "      <th></th>\n",
       "      <th></th>\n",
       "      <th></th>\n",
       "      <th></th>\n",
       "    </tr>\n",
       "  </thead>\n",
       "  <tbody>\n",
       "    <tr>\n",
       "      <th>C1</th>\n",
       "      <td>2.438582</td>\n",
       "      <td>2.475004</td>\n",
       "      <td>0.292915</td>\n",
       "      <td>0.331088</td>\n",
       "    </tr>\n",
       "    <tr>\n",
       "      <th>H2</th>\n",
       "      <td>-0.405468</td>\n",
       "      <td>-0.414351</td>\n",
       "      <td>0.161776</td>\n",
       "      <td>0.150576</td>\n",
       "    </tr>\n",
       "    <tr>\n",
       "      <th>H3</th>\n",
       "      <td>-0.405468</td>\n",
       "      <td>-0.414351</td>\n",
       "      <td>0.161776</td>\n",
       "      <td>0.150576</td>\n",
       "    </tr>\n",
       "    <tr>\n",
       "      <th>H4</th>\n",
       "      <td>-0.405468</td>\n",
       "      <td>-0.414351</td>\n",
       "      <td>0.161776</td>\n",
       "      <td>0.150576</td>\n",
       "    </tr>\n",
       "    <tr>\n",
       "      <th>N5</th>\n",
       "      <td>-0.474650</td>\n",
       "      <td>-0.502243</td>\n",
       "      <td>-0.013021</td>\n",
       "      <td>0.005047</td>\n",
       "    </tr>\n",
       "    <tr>\n",
       "      <th>H6</th>\n",
       "      <td>0.054494</td>\n",
       "      <td>0.060254</td>\n",
       "      <td>0.059107</td>\n",
       "      <td>0.035507</td>\n",
       "    </tr>\n",
       "    <tr>\n",
       "      <th>H7</th>\n",
       "      <td>0.098988</td>\n",
       "      <td>0.105019</td>\n",
       "      <td>0.087835</td>\n",
       "      <td>0.088315</td>\n",
       "    </tr>\n",
       "    <tr>\n",
       "      <th>H8</th>\n",
       "      <td>0.098989</td>\n",
       "      <td>0.105019</td>\n",
       "      <td>0.087835</td>\n",
       "      <td>0.088315</td>\n",
       "    </tr>\n",
       "  </tbody>\n",
       "</table>\n",
       "</div>"
      ],
      "text/plain": [
       "                RESP  restraint_slope=1  restraint_height_stage_1=1  \\\n",
       "Atom names                                                            \n",
       "C1          2.438582           2.475004                    0.292915   \n",
       "H2         -0.405468          -0.414351                    0.161776   \n",
       "H3         -0.405468          -0.414351                    0.161776   \n",
       "H4         -0.405468          -0.414351                    0.161776   \n",
       "N5         -0.474650          -0.502243                   -0.013021   \n",
       "H6          0.054494           0.060254                    0.059107   \n",
       "H7          0.098988           0.105019                    0.087835   \n",
       "H8          0.098989           0.105019                    0.087835   \n",
       "\n",
       "            no constraints  \n",
       "Atom names                  \n",
       "C1                0.331088  \n",
       "H2                0.150576  \n",
       "H3                0.150576  \n",
       "H4                0.150576  \n",
       "N5                0.005047  \n",
       "H6                0.035507  \n",
       "H7                0.088315  \n",
       "H8                0.088315  "
      ]
     },
     "execution_count": 16,
     "metadata": {},
     "output_type": "execute_result"
    }
   ],
   "source": [
    "df"
   ]
  },
  {
   "cell_type": "code",
   "execution_count": null,
   "id": "9b7cc9a0",
   "metadata": {},
   "outputs": [],
   "source": []
  }
 ],
 "metadata": {
  "kernelspec": {
   "display_name": "Python 3 (ipykernel)",
   "language": "python",
   "name": "python3"
  },
  "language_info": {
   "codemirror_mode": {
    "name": "ipython",
    "version": 3
   },
   "file_extension": ".py",
   "mimetype": "text/x-python",
   "name": "python",
   "nbconvert_exporter": "python",
   "pygments_lexer": "ipython3",
   "version": "3.8.12"
  },
  "toc": {
   "base_numbering": 1,
   "nav_menu": {},
   "number_sections": true,
   "sideBar": true,
   "skip_h1_title": true,
   "title_cell": "Table of Contents",
   "title_sidebar": "Contents",
   "toc_cell": false,
   "toc_position": {},
   "toc_section_display": true,
   "toc_window_display": true
  }
 },
 "nbformat": 4,
 "nbformat_minor": 5
}
