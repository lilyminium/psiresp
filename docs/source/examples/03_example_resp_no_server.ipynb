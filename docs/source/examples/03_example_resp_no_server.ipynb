{
 "cells": [
  {
   "cell_type": "markdown",
   "id": "c9ecc8df",
   "metadata": {},
   "source": [
    "# Calculating RESP charges without a server\n",
    "\n",
    "This tutorial demonstrates the two-part process of calculating charges without a QCFractal server, e.g. on a shared cluster. It presumes that you are already familiar with the basic steps of using PsiRESP, such as creating a molecule or the ways that a job can be customized. If not, please see the related notebooks:\n",
    "\n",
    "* [Calculating charges of one molecule with a temporary server](01_examples_resp_single_server.ipynb)\n",
    "* [Calculating charges of multiple molecules with a temporary server](02_examples_resp_multi_server.ipynb)\n",
    "\n",
    "<div class=\"alert alert-info\">\n",
    "    <b>Note:</b> you will need to have Psi4 installed in the environment that you used open the notebook, to run the jobs. If the below command fails, you either need to install Psi4, or switch to the correct environment and re-open the notebook.\n",
    "</div>\n",
    "\n",
    "If you want to calculate charges without Psi4 or a QCFractal (i.e. you have already pre-computed grids and electrostatic potentials), please see [Calculating RESP charges with pre-computed ESPs](04_example_resp_minimal.ipynb)."
   ]
  },
  {
   "cell_type": "code",
   "execution_count": 1,
   "id": "b33ae18e",
   "metadata": {},
   "outputs": [
    {
     "name": "stdout",
     "output_type": "stream",
     "text": [
      "1.5\n"
     ]
    }
   ],
   "source": [
    "%%bash\n",
    "\n",
    "psi4 --version"
   ]
  },
  {
   "cell_type": "code",
   "execution_count": 2,
   "id": "2191b7ff",
   "metadata": {},
   "outputs": [],
   "source": [
    "import psiresp"
   ]
  },
  {
   "cell_type": "markdown",
   "id": "ea651043",
   "metadata": {},
   "source": [
    "## Creating the molecule\n",
    "\n",
    "We choose molecule with multiple potential conformers, and geometry optimization is turned on to demonstrate both the geometry optimization and ESP computation steps."
   ]
  },
  {
   "cell_type": "code",
   "execution_count": 3,
   "id": "598eb546",
   "metadata": {},
   "outputs": [],
   "source": [
    "butanol = psiresp.Molecule.from_smiles(\n",
    "    \"CCCCO\",\n",
    "    optimize_geometry=True,\n",
    "    conformer_generation_options=dict(n_max_conformers=3,\n",
    "                                      keep_original_conformer=False),\n",
    ")"
   ]
  },
  {
   "cell_type": "markdown",
   "id": "ff7f6e6b",
   "metadata": {},
   "source": [
    "## Running the job\n",
    "\n",
    "As previously, we create a typical psiresp.Job."
   ]
  },
  {
   "cell_type": "code",
   "execution_count": 4,
   "id": "cb1fb71a",
   "metadata": {},
   "outputs": [],
   "source": [
    "job = psiresp.Job(molecules=[butanol],\n",
    "                  working_directory=\"no_server_working_directory\")"
   ]
  },
  {
   "cell_type": "markdown",
   "id": "6ceaf094",
   "metadata": {},
   "source": [
    "Below we will remove any files from previous runs of this example for demonstration purposes."
   ]
  },
  {
   "cell_type": "code",
   "execution_count": 5,
   "id": "94280b20",
   "metadata": {},
   "outputs": [],
   "source": [
    "%%bash\n",
    "\n",
    "rm -rf no_server_working_directory"
   ]
  },
  {
   "cell_type": "markdown",
   "id": "6f7eaefc",
   "metadata": {},
   "source": [
    "### Geometry optimization"
   ]
  },
  {
   "cell_type": "markdown",
   "id": "a6a7b3e1",
   "metadata": {},
   "source": [
    "Firstly, we simply call `job.run()`. This is expected to write Psi4 execution files for geometry optimization, and then exit Python with an error message that tells us of a script we can use to run Psi4. Note that if you are running this notebook in Jupyter, the Python exit will not occur but will only print a warning message about how to properly exit IPython, which is quite nice for demonstration purposes."
   ]
  },
  {
   "cell_type": "code",
   "execution_count": 6,
   "id": "7304077c",
   "metadata": {},
   "outputs": [
    {
     "name": "stderr",
     "output_type": "stream",
     "text": [
      "generate-conformers: 100%|████████████████████████| 1/1 [00:06<00:00,  6.22s/it]\n"
     ]
    },
    {
     "ename": "SystemExit",
     "evalue": "Exiting to allow running QM computations; commands are in no_server_working_directory/optimization/run_optimization.sh",
     "output_type": "error",
     "traceback": [
      "An exception has occurred, use %tb to see the full traceback.\n",
      "\u001b[0;31mSystemExit\u001b[0m\u001b[0;31m:\u001b[0m Exiting to allow running QM computations; commands are in no_server_working_directory/optimization/run_optimization.sh\n"
     ]
    },
    {
     "name": "stderr",
     "output_type": "stream",
     "text": [
      "/Users/lily/anaconda3/envs/tmpenv3.9/lib/python3.9/site-packages/IPython/core/interactiveshell.py:3377: UserWarning: To exit: use 'exit', 'quit', or Ctrl-D.\n",
      "  warn(\"To exit: use 'exit', 'quit', or Ctrl-D.\", stacklevel=1)\n"
     ]
    }
   ],
   "source": [
    "job.run()"
   ]
  },
  {
   "cell_type": "markdown",
   "id": "50c99435",
   "metadata": {},
   "source": [
    "If we have a look at what is in the directory, an `optimization` subdirectory has been created, and three Psi4 job files (ending in `.msgpack`) have been generated. These are named with the molecular name or formula, followed by the hash of the conformer coordinates, followed by the hash of the optimization options. This allows the Psi4 files to persist between jobs, and be re-used in others."
   ]
  },
  {
   "cell_type": "code",
   "execution_count": 7,
   "id": "6e4e9375",
   "metadata": {},
   "outputs": [
    {
     "name": "stdout",
     "output_type": "stream",
     "text": [
      "no_server_working_directory\n",
      "└── optimization\n",
      "    ├── C4H10O_221cf2ccc9bf1573c95ba89dfa5458cf47a49339_c9ce731306cb83b137c5cfd5f69a120483b61005.msgpack\n",
      "    ├── C4H10O_683183ed77833f6861a934f55156ef4013feb14b_c9ce731306cb83b137c5cfd5f69a120483b61005.msgpack\n",
      "    ├── C4H10O_d53a466202b42f8f92a53755db4017420d14aa65_c9ce731306cb83b137c5cfd5f69a120483b61005.msgpack\n",
      "    └── run_optimization.sh\n",
      "\n",
      "1 directory, 4 files\n"
     ]
    }
   ],
   "source": [
    "%%bash\n",
    "\n",
    "tree no_server_working_directory"
   ]
  },
  {
   "cell_type": "markdown",
   "id": "0c1abc73",
   "metadata": {},
   "source": [
    "As directed by the SystemExit error, we can run the `run_optimization.sh` file. The commands are quite simple:"
   ]
  },
  {
   "cell_type": "code",
   "execution_count": 8,
   "id": "21f03a76",
   "metadata": {},
   "outputs": [
    {
     "name": "stdout",
     "output_type": "stream",
     "text": [
      "#!/usr/bin/env bash\n",
      "psi4 --qcschema C4H10O_683183ed77833f6861a934f55156ef4013feb14b_c9ce731306cb83b137c5cfd5f69a120483b61005.msgpack\n",
      "psi4 --qcschema C4H10O_221cf2ccc9bf1573c95ba89dfa5458cf47a49339_c9ce731306cb83b137c5cfd5f69a120483b61005.msgpack\n",
      "psi4 --qcschema C4H10O_d53a466202b42f8f92a53755db4017420d14aa65_c9ce731306cb83b137c5cfd5f69a120483b61005.msgpack"
     ]
    }
   ],
   "source": [
    "%%bash\n",
    "\n",
    "cat no_server_working_directory/optimization/run_optimization.sh"
   ]
  },
  {
   "cell_type": "code",
   "execution_count": 9,
   "id": "fb7065d6",
   "metadata": {},
   "outputs": [],
   "source": [
    "%%bash\n",
    "\n",
    "cd no_server_working_directory/optimization && bash run_optimization.sh"
   ]
  },
  {
   "cell_type": "markdown",
   "id": "5ecc0e16",
   "metadata": {},
   "source": [
    "Psi4 actually writes the output back into the same `.msgpack` file, so not much has changed if we look at the directory structure."
   ]
  },
  {
   "cell_type": "code",
   "execution_count": 10,
   "id": "95bac797",
   "metadata": {},
   "outputs": [
    {
     "name": "stdout",
     "output_type": "stream",
     "text": [
      "no_server_working_directory\n",
      "└── optimization\n",
      "    ├── C4H10O_221cf2ccc9bf1573c95ba89dfa5458cf47a49339_c9ce731306cb83b137c5cfd5f69a120483b61005.msgpack\n",
      "    ├── C4H10O_683183ed77833f6861a934f55156ef4013feb14b_c9ce731306cb83b137c5cfd5f69a120483b61005.msgpack\n",
      "    ├── C4H10O_d53a466202b42f8f92a53755db4017420d14aa65_c9ce731306cb83b137c5cfd5f69a120483b61005.msgpack\n",
      "    ├── run_optimization.sh\n",
      "    └── timer.dat\n",
      "\n",
      "1 directory, 5 files\n"
     ]
    }
   ],
   "source": [
    "%%bash\n",
    "\n",
    "tree no_server_working_directory"
   ]
  },
  {
   "cell_type": "markdown",
   "id": "fd3359b1",
   "metadata": {},
   "source": [
    "### Calculating ESP"
   ]
  },
  {
   "cell_type": "markdown",
   "id": "5e05db28",
   "metadata": {},
   "source": [
    "However, if we create a new job and run it again, PsiRESP checks the `.msgpack` files and finds the optimized coordinates. That allows the Job to progress to the single point stage for calculating the electrostatic potential."
   ]
  },
  {
   "cell_type": "code",
   "execution_count": 11,
   "id": "36d05d73",
   "metadata": {},
   "outputs": [
    {
     "name": "stderr",
     "output_type": "stream",
     "text": [
      "generate-conformers: 100%|██████████████████████| 1/1 [00:00<00:00, 9279.43it/s]\n"
     ]
    },
    {
     "ename": "SystemExit",
     "evalue": "Exiting to allow running QM computations; commands are in no_server_working_directory/single_point/run_single_point.sh",
     "output_type": "error",
     "traceback": [
      "An exception has occurred, use %tb to see the full traceback.\n",
      "\u001b[0;31mSystemExit\u001b[0m\u001b[0;31m:\u001b[0m Exiting to allow running QM computations; commands are in no_server_working_directory/single_point/run_single_point.sh\n"
     ]
    },
    {
     "name": "stderr",
     "output_type": "stream",
     "text": [
      "/Users/lily/anaconda3/envs/tmpenv3.9/lib/python3.9/site-packages/IPython/core/interactiveshell.py:3377: UserWarning: To exit: use 'exit', 'quit', or Ctrl-D.\n",
      "  warn(\"To exit: use 'exit', 'quit', or Ctrl-D.\", stacklevel=1)\n"
     ]
    }
   ],
   "source": [
    "job = psiresp.Job(molecules=[butanol],\n",
    "                  working_directory=\"no_server_working_directory\")\n",
    "job.run()"
   ]
  },
  {
   "cell_type": "markdown",
   "id": "09ad1e51",
   "metadata": {},
   "source": [
    "This is in a new subdirectory."
   ]
  },
  {
   "cell_type": "code",
   "execution_count": 12,
   "id": "008b75c1",
   "metadata": {},
   "outputs": [
    {
     "name": "stdout",
     "output_type": "stream",
     "text": [
      "no_server_working_directory\n",
      "├── optimization\n",
      "│   ├── C4H10O_221cf2ccc9bf1573c95ba89dfa5458cf47a49339_c9ce731306cb83b137c5cfd5f69a120483b61005.msgpack\n",
      "│   ├── C4H10O_683183ed77833f6861a934f55156ef4013feb14b_c9ce731306cb83b137c5cfd5f69a120483b61005.msgpack\n",
      "│   ├── C4H10O_d53a466202b42f8f92a53755db4017420d14aa65_c9ce731306cb83b137c5cfd5f69a120483b61005.msgpack\n",
      "│   ├── run_optimization.sh\n",
      "│   └── timer.dat\n",
      "└── single_point\n",
      "    ├── C4H10O_1c5e35d36810e33e916c6644f1838761efd45846_e746222796fc2c4c5a1f896fa1cc1cefffe7044c.msgpack\n",
      "    ├── C4H10O_6b12cd9fa9bd56c0692fcd6384bbc05af96c1c1e_e746222796fc2c4c5a1f896fa1cc1cefffe7044c.msgpack\n",
      "    ├── C4H10O_8f405ba6ddee36ab6dcc30af38dfc4fea14c5a86_e746222796fc2c4c5a1f896fa1cc1cefffe7044c.msgpack\n",
      "    └── run_single_point.sh\n",
      "\n",
      "2 directories, 9 files\n"
     ]
    }
   ],
   "source": [
    "%%bash\n",
    "\n",
    "tree no_server_working_directory"
   ]
  },
  {
   "cell_type": "markdown",
   "id": "6b69ce7b",
   "metadata": {},
   "source": [
    "PsiRESP can also respond to jobs that have been partially completed. To demonstrate this, we only run two of the three required single points."
   ]
  },
  {
   "cell_type": "code",
   "execution_count": 13,
   "id": "f1de9baf",
   "metadata": {},
   "outputs": [
    {
     "name": "stdout",
     "output_type": "stream",
     "text": [
      "#!/usr/bin/env bash\n",
      "psi4 --qcschema C4H10O_1c5e35d36810e33e916c6644f1838761efd45846_e746222796fc2c4c5a1f896fa1cc1cefffe7044c.msgpack\n",
      "psi4 --qcschema C4H10O_6b12cd9fa9bd56c0692fcd6384bbc05af96c1c1e_e746222796fc2c4c5a1f896fa1cc1cefffe7044c.msgpack\n",
      "psi4 --qcschema C4H10O_8f405ba6ddee36ab6dcc30af38dfc4fea14c5a86_e746222796fc2c4c5a1f896fa1cc1cefffe7044c.msgpack"
     ]
    }
   ],
   "source": [
    "%%bash\n",
    "\n",
    "cat no_server_working_directory/single_point/run_single_point.sh"
   ]
  },
  {
   "cell_type": "code",
   "execution_count": 14,
   "id": "4edb30b7",
   "metadata": {
    "scrolled": false
   },
   "outputs": [
    {
     "name": "stdout",
     "output_type": "stream",
     "text": [
      "executing C4H10O_6b12cd9fa9bd56c0692fcd6384bbc05af96c1c1e_e746222796fc2c4c5a1f896fa1cc1cefffe7044c.msgpack\n",
      "executing C4H10O_8f405ba6ddee36ab6dcc30af38dfc4fea14c5a86_e746222796fc2c4c5a1f896fa1cc1cefffe7044c.msgpack\n"
     ]
    }
   ],
   "source": [
    "%%bash\n",
    "\n",
    "cd no_server_working_directory/single_point\n",
    "\n",
    "# this loop is in case the molecule optimizes to different coordinates\n",
    "# on different runs, which will alter the filename hash accordingly\n",
    "for msgpack in $( ls *.msgpack | tail -n 2 ) ; do\n",
    "    echo \"executing $msgpack\"\n",
    "    psi4 --qcschema $msgpack\n",
    "done"
   ]
  },
  {
   "cell_type": "markdown",
   "id": "2c2b2b54",
   "metadata": {},
   "source": [
    "Now if we run the job again, it still exits."
   ]
  },
  {
   "cell_type": "code",
   "execution_count": 15,
   "id": "123f4894",
   "metadata": {},
   "outputs": [
    {
     "name": "stderr",
     "output_type": "stream",
     "text": [
      "generate-conformers: 100%|██████████████████████| 1/1 [00:00<00:00, 6061.13it/s]\n"
     ]
    },
    {
     "ename": "SystemExit",
     "evalue": "Exiting to allow running QM computations; commands are in no_server_working_directory/single_point/run_single_point.sh",
     "output_type": "error",
     "traceback": [
      "An exception has occurred, use %tb to see the full traceback.\n",
      "\u001b[0;31mSystemExit\u001b[0m\u001b[0;31m:\u001b[0m Exiting to allow running QM computations; commands are in no_server_working_directory/single_point/run_single_point.sh\n"
     ]
    },
    {
     "name": "stderr",
     "output_type": "stream",
     "text": [
      "/Users/lily/anaconda3/envs/tmpenv3.9/lib/python3.9/site-packages/IPython/core/interactiveshell.py:3377: UserWarning: To exit: use 'exit', 'quit', or Ctrl-D.\n",
      "  warn(\"To exit: use 'exit', 'quit', or Ctrl-D.\", stacklevel=1)\n"
     ]
    }
   ],
   "source": [
    "job.run()"
   ]
  },
  {
   "cell_type": "markdown",
   "id": "8e428918",
   "metadata": {},
   "source": [
    "However, checking the script that PsiRESP generates, only the remaining, uncomputed calculation is listed."
   ]
  },
  {
   "cell_type": "code",
   "execution_count": 16,
   "id": "581d9f34",
   "metadata": {},
   "outputs": [
    {
     "name": "stdout",
     "output_type": "stream",
     "text": [
      "#!/usr/bin/env bash\n",
      "psi4 --qcschema C4H10O_1c5e35d36810e33e916c6644f1838761efd45846_e746222796fc2c4c5a1f896fa1cc1cefffe7044c.msgpack"
     ]
    }
   ],
   "source": [
    "%%bash\n",
    "\n",
    "cat no_server_working_directory/single_point/run_single_point.sh"
   ]
  },
  {
   "cell_type": "code",
   "execution_count": 17,
   "id": "e11498d4",
   "metadata": {},
   "outputs": [],
   "source": [
    "%%bash\n",
    "\n",
    "cd no_server_working_directory/single_point && bash run_single_point.sh"
   ]
  },
  {
   "cell_type": "markdown",
   "id": "4250b78f",
   "metadata": {},
   "source": [
    "### Final run"
   ]
  },
  {
   "cell_type": "markdown",
   "id": "7048b404",
   "metadata": {},
   "source": [
    "Now, if we run the job a final time, the ESP files will be read, and the charges will be computed."
   ]
  },
  {
   "cell_type": "code",
   "execution_count": 18,
   "id": "4cb5f651",
   "metadata": {},
   "outputs": [
    {
     "name": "stderr",
     "output_type": "stream",
     "text": [
      "generate-conformers: 100%|██████████████████████| 1/1 [00:00<00:00, 6797.90it/s]\n",
      "compute-esp: 100%|████████████████████████████████| 3/3 [00:00<00:00, 19.14it/s]\n"
     ]
    }
   ],
   "source": [
    "charges = job.run()"
   ]
  },
  {
   "cell_type": "code",
   "execution_count": 19,
   "id": "d2bf19a6",
   "metadata": {},
   "outputs": [
    {
     "data": {
      "text/plain": [
       "[array([-0.0629820947554362,  0.1148235481698403,  0.0295351606653119,\n",
       "         0.1564346120814787, -0.5986354026115893,  0.0071470774475118,\n",
       "         0.0071470774475118,  0.0071470774475118, -0.0285110420516355,\n",
       "        -0.0285110420516355, -0.002700823115586 , -0.002700823115586 ,\n",
       "         0.0032398644142937,  0.0032398644142937,  0.3953269456137151])]"
      ]
     },
     "execution_count": 19,
     "metadata": {},
     "output_type": "execute_result"
    }
   ],
   "source": [
    "charges"
   ]
  },
  {
   "cell_type": "code",
   "execution_count": null,
   "id": "2ed0a2b5",
   "metadata": {},
   "outputs": [],
   "source": []
  }
 ],
 "metadata": {
  "kernelspec": {
   "display_name": "Python 3 (ipykernel)",
   "language": "python",
   "name": "python3"
  },
  "language_info": {
   "codemirror_mode": {
    "name": "ipython",
    "version": 3
   },
   "file_extension": ".py",
   "mimetype": "text/x-python",
   "name": "python",
   "nbconvert_exporter": "python",
   "pygments_lexer": "ipython3",
   "version": "3.9.12"
  },
  "toc": {
   "base_numbering": 1,
   "nav_menu": {},
   "number_sections": true,
   "sideBar": true,
   "skip_h1_title": true,
   "title_cell": "Table of Contents",
   "title_sidebar": "Contents",
   "toc_cell": false,
   "toc_position": {},
   "toc_section_display": true,
   "toc_window_display": true
  }
 },
 "nbformat": 4,
 "nbformat_minor": 5
}
