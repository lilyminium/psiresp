{
 "cells": [
  {
   "cell_type": "markdown",
   "id": "bc6a72e2",
   "metadata": {},
   "source": [
    "# Calculating charges of multiple molecules with a temporary server\n",
    "\n",
    "\n",
    "In this tutorial, we calculate the RESP charges of two molecules with a temporary server, incorporating intra-molecular and inter-molecular charge constraints. This is particularly handy for setting charge constraints between molecules, e.g. constraining groups of atoms in both molecules to sum to 0.\n",
    "\n",
    "It is highly recommended to go over [\"Calculating charges of one molecule with a temporary server\"](resp_single.ipynb) first, as it explores some basic concepts of RESP more deeply."
   ]
  },
  {
   "cell_type": "code",
   "execution_count": 1,
   "id": "6877c02e",
   "metadata": {},
   "outputs": [],
   "source": [
    "import psiresp"
   ]
  },
  {
   "cell_type": "markdown",
   "id": "9a3b7381",
   "metadata": {},
   "source": [
    "## Creating the molecule\n",
    "\n",
    "When we set up these molecules, let’s turn off geometry optimization to save some time."
   ]
  },
  {
   "cell_type": "code",
   "execution_count": 2,
   "id": "c9e93946",
   "metadata": {},
   "outputs": [
    {
     "data": {
      "application/vnd.jupyter.widget-view+json": {
       "model_id": "1be5ea1795ff464cb565c469b9f5b7cc",
       "version_major": 2,
       "version_minor": 0
      },
      "text/plain": []
     },
     "metadata": {},
     "output_type": "display_data"
    },
    {
     "data": {
      "application/vnd.jupyter.widget-view+json": {
       "model_id": "d2b7fdc93ee9403b8e8505a5c74f4185",
       "version_major": 2,
       "version_minor": 0
      },
      "text/plain": [
       "NGLWidget()"
      ]
     },
     "metadata": {},
     "output_type": "display_data"
    }
   ],
   "source": [
    "nme2ala2 = psiresp.Molecule.from_smiles(\"CC(=O)NC(C)(C)C(NC)=O\",\n",
    "                                        optimize_geometry=False)\n",
    "nme2ala2.qcmol"
   ]
  },
  {
   "cell_type": "code",
   "execution_count": 3,
   "id": "198ce1f1",
   "metadata": {},
   "outputs": [
    {
     "data": {
      "application/vnd.jupyter.widget-view+json": {
       "model_id": "d8b1c98b3f214f80abf5c60065bacdd2",
       "version_major": 2,
       "version_minor": 0
      },
      "text/plain": [
       "NGLWidget()"
      ]
     },
     "metadata": {},
     "output_type": "display_data"
    }
   ],
   "source": [
    "methylammonium = psiresp.Molecule.from_smiles(\"C[NH3+]\",\n",
    "                                              optimize_geometry=False)\n",
    "methylammonium.qcmol"
   ]
  },
  {
   "cell_type": "markdown",
   "id": "ed7e1bea",
   "metadata": {},
   "source": [
    "Let's set up some charge constraints. We can do this with SMILES strings as well, to minimise confusion with indices. SMILES matches can be created either with mapped atoms (with numbers), or without. When only some atoms are mapped, only the numbered atoms are returned from the match, and in order of the numbers.\n",
    "\n",
    "We will create constraints to match the scheme displayed below.\n",
    "\n",
    "<img src=\"images/multiresp_figure.png\" alt=\"Reaction image\" width=\"600\">\n",
    "\n",
    "For example, the below code selects the orange group -NH-CH3."
   ]
  },
  {
   "cell_type": "code",
   "execution_count": 4,
   "id": "8f1568ee",
   "metadata": {
    "scrolled": true
   },
   "outputs": [
    {
     "name": "stdout",
     "output_type": "stream",
     "text": [
      "[(8, 21, 9, 22, 23, 24)]\n"
     ]
    }
   ],
   "source": [
    "constraints = psiresp.ChargeConstraintOptions()\n",
    "nme_smiles = \"CC(=O)NC(C)(C)C([N:1]([H:2])[C:3]([H:4])([H:5])([H:6]))=O\"\n",
    "nme_indices = nme2ala2.get_smarts_matches(nme_smiles)\n",
    "print(nme_indices)"
   ]
  },
  {
   "cell_type": "markdown",
   "id": "6765931c",
   "metadata": {},
   "source": [
    "Below we use these indices to add a `ChargeSumConstraint`; the charges of all these atoms must sum to 0."
   ]
  },
  {
   "cell_type": "code",
   "execution_count": 5,
   "id": "65b23dbc",
   "metadata": {},
   "outputs": [
    {
     "name": "stdout",
     "output_type": "stream",
     "text": [
      "[ChargeSumConstraint(atoms={Atom(index=22, molecule=Molecule(name=C7H14N2O2, charge=0) with 0 conformers), Atom(index=9, molecule=Molecule(name=C7H14N2O2, charge=0) with 0 conformers), Atom(index=24, molecule=Molecule(name=C7H14N2O2, charge=0) with 0 conformers), Atom(index=8, molecule=Molecule(name=C7H14N2O2, charge=0) with 0 conformers), Atom(index=21, molecule=Molecule(name=C7H14N2O2, charge=0) with 0 conformers), Atom(index=23, molecule=Molecule(name=C7H14N2O2, charge=0) with 0 conformers)}, charge=0.0)]\n"
     ]
    }
   ],
   "source": [
    "constraints.add_charge_sum_constraint_for_molecule(nme2ala2,\n",
    "                                                   charge=0,\n",
    "                                                   indices=nme_indices[0])\n",
    "print(constraints.charge_sum_constraints)"
   ]
  },
  {
   "cell_type": "markdown",
   "id": "388818df",
   "metadata": {},
   "source": [
    "When no atoms are given map numbers, the whole match is returned. This constraint specified is the blue group shown in the image above."
   ]
  },
  {
   "cell_type": "code",
   "execution_count": 6,
   "id": "7cc39165",
   "metadata": {},
   "outputs": [
    {
     "data": {
      "text/plain": [
       "ChargeSumConstraint(atoms={Atom(index=3, molecule=Molecule(name=C7H14N2O2, charge=0) with 0 conformers), Atom(index=12, molecule=Molecule(name=C7H14N2O2, charge=0) with 0 conformers), Atom(index=4, molecule=Molecule(name=CH6N, charge=1) with 0 conformers), Atom(index=2, molecule=Molecule(name=C7H14N2O2, charge=0) with 0 conformers), Atom(index=3, molecule=Molecule(name=CH6N, charge=1) with 0 conformers), Atom(index=11, molecule=Molecule(name=C7H14N2O2, charge=0) with 0 conformers), Atom(index=0, molecule=Molecule(name=CH6N, charge=1) with 0 conformers), Atom(index=1, molecule=Molecule(name=C7H14N2O2, charge=0) with 0 conformers), Atom(index=14, molecule=Molecule(name=C7H14N2O2, charge=0) with 0 conformers), Atom(index=0, molecule=Molecule(name=C7H14N2O2, charge=0) with 0 conformers), Atom(index=13, molecule=Molecule(name=C7H14N2O2, charge=0) with 0 conformers), Atom(index=2, molecule=Molecule(name=CH6N, charge=1) with 0 conformers)}, charge=0.0)"
      ]
     },
     "execution_count": 6,
     "metadata": {},
     "output_type": "execute_result"
    }
   ],
   "source": [
    "methyl_atoms = methylammonium.get_atoms_from_smarts(\"C([H])([H])([H])\")\n",
    "ace_atoms = nme2ala2.get_atoms_from_smarts(\"C([H])([H])([H])C(=O)N([H])\")\n",
    "constraint_atoms = methyl_atoms[0] + ace_atoms[0]\n",
    "constraints.add_charge_sum_constraint(charge=0, atoms=constraint_atoms)\n",
    "constraints.charge_sum_constraints[-1]"
   ]
  },
  {
   "cell_type": "markdown",
   "id": "7bfb8408",
   "metadata": {},
   "source": [
    "We can also constrain atoms to have equivalent charges. For example, the below constrains the hydrogens of the two middle methyls to all have the same charge."
   ]
  },
  {
   "cell_type": "code",
   "execution_count": 7,
   "id": "d77e8d93",
   "metadata": {},
   "outputs": [
    {
     "name": "stdout",
     "output_type": "stream",
     "text": [
      "atoms={Atom(index=16, molecule=Molecule(name=C7H14N2O2, charge=0) with 0 conformers), Atom(index=15, molecule=Molecule(name=C7H14N2O2, charge=0) with 0 conformers), Atom(index=18, molecule=Molecule(name=C7H14N2O2, charge=0) with 0 conformers), Atom(index=17, molecule=Molecule(name=C7H14N2O2, charge=0) with 0 conformers), Atom(index=20, molecule=Molecule(name=C7H14N2O2, charge=0) with 0 conformers), Atom(index=19, molecule=Molecule(name=C7H14N2O2, charge=0) with 0 conformers)}\n"
     ]
    }
   ],
   "source": [
    "h_smiles = \"C(C([H:2])([H:2])([H:2]))(C([H:2])([H:2])([H:2]))\"\n",
    "h_atoms = nme2ala2.get_atoms_from_smarts(h_smiles)[0]\n",
    "constraints.add_charge_equivalence_constraint(atoms=h_atoms)\n",
    "print(constraints.charge_equivalence_constraints[-1])"
   ]
  },
  {
   "cell_type": "markdown",
   "id": "1158bd01",
   "metadata": {},
   "source": [
    "## Setting up a server\n",
    "\n",
    "Again, we will use QCFractal's `FractalSnowflakeHandler` as a server."
   ]
  },
  {
   "cell_type": "code",
   "execution_count": 8,
   "id": "f5120129",
   "metadata": {},
   "outputs": [
    {
     "name": "stdout",
     "output_type": "stream",
     "text": [
      "FractalSnowflakeHandler(name='db_caf859ff_7803_4bef_b986_3086b22cc865' uri='https://localhost:55263')\n"
     ]
    }
   ],
   "source": [
    "from qcfractal import FractalSnowflakeHandler\n",
    "\n",
    "server = FractalSnowflakeHandler()\n",
    "print(server)"
   ]
  },
  {
   "cell_type": "code",
   "execution_count": 9,
   "id": "1035d930",
   "metadata": {},
   "outputs": [
    {
     "name": "stdout",
     "output_type": "stream",
     "text": [
      "FractalClient(server_name='FractalSnowFlake_db_caf85', address='https://localhost:55263/', username='None')\n"
     ]
    }
   ],
   "source": [
    "client = server.client()\n",
    "print(client)"
   ]
  },
  {
   "cell_type": "markdown",
   "id": "02443922",
   "metadata": {},
   "source": [
    "## Running the job"
   ]
  },
  {
   "cell_type": "markdown",
   "id": "6dca782c",
   "metadata": {},
   "source": [
    "The typical method and basis set for QM computation are \"hg/6-31g*\", but we go with \"b3lyp/sto-3g\" here to save time."
   ]
  },
  {
   "cell_type": "code",
   "execution_count": 10,
   "id": "a050f0f4",
   "metadata": {},
   "outputs": [],
   "source": [
    "geometry_options = psiresp.QMGeometryOptimizationOptions(\n",
    "    method=\"b3lyp\", basis=\"sto-3g\")\n",
    "esp_options = psiresp.QMEnergyOptions(\n",
    "    method=\"b3lyp\", basis=\"sto-3g\",\n",
    ")"
   ]
  },
  {
   "cell_type": "markdown",
   "id": "ed1b083c",
   "metadata": {},
   "source": [
    "To set up the job, we need to pass in the molecules (in any order), charge constraints, and QM options."
   ]
  },
  {
   "cell_type": "code",
   "execution_count": 11,
   "id": "d3177fbb",
   "metadata": {},
   "outputs": [],
   "source": [
    "job_multi = psiresp.Job(molecules=[methylammonium, nme2ala2],\n",
    "                        charge_constraints=constraints,\n",
    "                        qm_optimization_options=geometry_options,\n",
    "                        qm_esp_options=esp_options,)"
   ]
  },
  {
   "cell_type": "markdown",
   "id": "c40d45de",
   "metadata": {},
   "source": [
    "Now we can run with the client."
   ]
  },
  {
   "cell_type": "code",
   "execution_count": 12,
   "id": "d3ff5e2f",
   "metadata": {
    "scrolled": true
   },
   "outputs": [
    {
     "name": "stderr",
     "output_type": "stream",
     "text": [
      "generate-conformers: 100%|████████████████████████████████████████████████████████████████████████████████████████| 2/2 [00:00<00:00, 177.09it/s]\n",
      "compute-esp: 100%|█████████████████████████████████████████████████████████████████████████████████████████████████| 2/2 [00:00<00:00, 10.83it/s]\n"
     ]
    },
    {
     "data": {
      "text/plain": [
       "[array([-0.1467648457182283, -0.0735202657457412,  0.1196505170703342,\n",
       "         0.1196505170703342,  0.1196505170703342,  0.2868916370108453,\n",
       "         0.2874443476006645,  0.2869975756414569]),\n",
       " array([-0.2774379875879986,  0.449171254142842 , -0.3582897679346354,\n",
       "        -0.4879486568171876,  0.2498749830260423, -0.214333659946615 ,\n",
       "        -0.2111860805383453,  0.4065468062382359, -0.3658225841269276,\n",
       "        -0.2730302565730673, -0.3238946958042974,  0.0766343778467062,\n",
       "         0.0766343778467063,  0.0766343778467063,  0.2324153191640865,\n",
       "         0.0508632254196257,  0.0508632254196257,  0.0508632254196256,\n",
       "         0.0508632254196254,  0.0508632254196257,  0.0508632254196257,\n",
       "         0.2996953599909778,  0.1130524935696724,  0.1130524935696724,\n",
       "         0.1130524935696723])]"
      ]
     },
     "execution_count": 12,
     "metadata": {},
     "output_type": "execute_result"
    }
   ],
   "source": [
    "job_multi.run(client=client)"
   ]
  },
  {
   "cell_type": "markdown",
   "id": "9d5346ec",
   "metadata": {},
   "source": [
    "The charges are simply given as a list of charges, in the order of the molecules:"
   ]
  },
  {
   "cell_type": "code",
   "execution_count": 13,
   "id": "20ac2ee7",
   "metadata": {},
   "outputs": [
    {
     "name": "stdout",
     "output_type": "stream",
     "text": [
      "[-0.1467648457182283 -0.0735202657457412  0.1196505170703342\n",
      "  0.1196505170703342  0.1196505170703342  0.2868916370108453\n",
      "  0.2874443476006645  0.2869975756414569]\n",
      "[C:1](-[N+:2](-[H:6])(-[H:7])-[H:8])(-[H:3])(-[H:4])-[H:5]\n",
      "[-0.2774379875879986  0.449171254142842  -0.3582897679346354\n",
      " -0.4879486568171876  0.2498749830260423 -0.214333659946615\n",
      " -0.2111860805383453  0.4065468062382359 -0.3658225841269276\n",
      " -0.2730302565730673 -0.3238946958042974  0.0766343778467062\n",
      "  0.0766343778467063  0.0766343778467063  0.2324153191640865\n",
      "  0.0508632254196257  0.0508632254196257  0.0508632254196256\n",
      "  0.0508632254196254  0.0508632254196257  0.0508632254196257\n",
      "  0.2996953599909778  0.1130524935696724  0.1130524935696724\n",
      "  0.1130524935696723]\n",
      "[C:1](-[C:2](=[O:3])-[N:4](-[C:5](-[C:6](-[H:16])(-[H:17])-[H:18])(-[C:7](-[H:19])(-[H:20])-[H:21])-[C:8](-[N:9](-[C:10](-[H:23])(-[H:24])-[H:25])-[H:22])=[O:11])-[H:15])(-[H:12])(-[H:13])-[H:14]\n"
     ]
    }
   ],
   "source": [
    "print(job_multi.charges[0])\n",
    "print(job_multi.molecules[0].to_smiles())\n",
    "print(job_multi.charges[1])\n",
    "print(job_multi.molecules[1].to_smiles())"
   ]
  },
  {
   "cell_type": "markdown",
   "id": "2e4fc922",
   "metadata": {},
   "source": [
    "Alternatively, you can inspect the actual charge attributes of each molecule. This can be useful for looking at the stage 1 vs stage 2, or restrained vs unrestrained, results."
   ]
  },
  {
   "cell_type": "code",
   "execution_count": 14,
   "id": "879a1a98",
   "metadata": {},
   "outputs": [
    {
     "name": "stdout",
     "output_type": "stream",
     "text": [
      "[-0.1467648457182283 -0.0735202657457412  0.1196505170703342\n",
      "  0.1196505170703342  0.1196505170703342  0.2868916370108453\n",
      "  0.2874443476006645  0.2869975756414569]\n"
     ]
    }
   ],
   "source": [
    "print(job_multi.molecules[0].stage_2_restrained_charges)"
   ]
  }
 ],
 "metadata": {
  "kernelspec": {
   "display_name": "Python (psiresp-3.8)",
   "language": "python",
   "name": "psiresp-3.8"
  },
  "language_info": {
   "codemirror_mode": {
    "name": "ipython",
    "version": 3
   },
   "file_extension": ".py",
   "mimetype": "text/x-python",
   "name": "python",
   "nbconvert_exporter": "python",
   "pygments_lexer": "ipython3",
   "version": "3.8.12"
  },
  "toc": {
   "base_numbering": 1,
   "nav_menu": {},
   "number_sections": true,
   "sideBar": true,
   "skip_h1_title": true,
   "title_cell": "Table of Contents",
   "title_sidebar": "Contents",
   "toc_cell": false,
   "toc_position": {},
   "toc_section_display": true,
   "toc_window_display": true
  },
  "widgets": {
   "application/vnd.jupyter.widget-state+json": {
    "state": {
     "0072344ec2d6452c8bcb97d7d85aad1e": {
      "model_module": "@jupyter-widgets/base",
      "model_module_version": "1.2.0",
      "model_name": "LayoutModel",
      "state": {}
     },
     "00ada35462e548dbb9edfdafff3edaba": {
      "model_module": "nglview-js-widgets",
      "model_module_version": "3.0.1",
      "model_name": "ColormakerRegistryModel",
      "state": {
       "_msg_ar": [],
       "_msg_q": [],
       "_ready": true,
       "layout": "IPY_MODEL_f7e96a3bc3a64915836370855665441d"
      }
     },
     "01b07e73e4434318be368f99f59b7dfc": {
      "model_module": "@jupyter-widgets/base",
      "model_module_version": "1.2.0",
      "model_name": "LayoutModel",
      "state": {}
     },
     "01ffaa0ad0f0487c87ba750a5e5fb4bd": {
      "model_module": "@jupyter-widgets/base",
      "model_module_version": "1.2.0",
      "model_name": "LayoutModel",
      "state": {}
     },
     "041b310eae1e409aa32576380f5d0be9": {
      "model_module": "@jupyter-widgets/controls",
      "model_module_version": "1.5.0",
      "model_name": "LinkModel",
      "state": {
       "source": [
        "IPY_MODEL_87f052b2db134f62aabc8f68536e5b16",
        "max"
       ],
       "target": [
        "IPY_MODEL_c5208967f46e494eb275024beffc6a51",
        "max_frame"
       ]
      }
     },
     "04c7629fd60a44ab80a5c1926537ed3f": {
      "model_module": "@jupyter-widgets/controls",
      "model_module_version": "1.5.0",
      "model_name": "PlayModel",
      "state": {
       "layout": "IPY_MODEL_13489cb61cb54d6b9047869ed24a23b9",
       "max": 0,
       "style": "IPY_MODEL_61813e930a414e71b0e43333fcf50396"
      }
     },
     "0593f816aeae483e8ca13439260fb6b7": {
      "model_module": "@jupyter-widgets/controls",
      "model_module_version": "1.5.0",
      "model_name": "PlayModel",
      "state": {
       "layout": "IPY_MODEL_0e136264213349d9ac45872d81a08f41",
       "max": 0,
       "style": "IPY_MODEL_4d11bdc2bdb44e94961a767fdcb17c9b"
      }
     },
     "05b3857c9e564340958d138929c563cb": {
      "model_module": "nglview-js-widgets",
      "model_module_version": "3.0.1",
      "model_name": "ColormakerRegistryModel",
      "state": {
       "_msg_ar": [],
       "_msg_q": [],
       "_ready": true,
       "layout": "IPY_MODEL_d8ef8685a7b843b0979e005cb4b68bbd"
      }
     },
     "05c0e769fca144289fa9b1cf2c314541": {
      "model_module": "@jupyter-widgets/controls",
      "model_module_version": "1.5.0",
      "model_name": "LinkModel",
      "state": {
       "source": [
        "IPY_MODEL_68e3d0e93f144b26b0a028bc83043173",
        "value"
       ],
       "target": [
        "IPY_MODEL_bfd665279a284bbab157769d2677909e",
        "value"
       ]
      }
     },
     "062050859ba649f080f75a305acf70da": {
      "model_module": "@jupyter-widgets/controls",
      "model_module_version": "1.5.0",
      "model_name": "DescriptionStyleModel",
      "state": {
       "description_width": ""
      }
     },
     "06db38fb8aa04444962b2458698a2922": {
      "model_module": "@jupyter-widgets/controls",
      "model_module_version": "1.5.0",
      "model_name": "HBoxModel",
      "state": {
       "children": [
        "IPY_MODEL_692b2ed437314a68a32e2adf86fa4eeb",
        "IPY_MODEL_bba0a467cdf94282a74845bb86b8334c"
       ],
       "layout": "IPY_MODEL_0ff8ef0785aa412ebbba29c1c465b190"
      }
     },
     "06dd5b6037e141f8bc85761aa9633962": {
      "model_module": "@jupyter-widgets/base",
      "model_module_version": "1.2.0",
      "model_name": "LayoutModel",
      "state": {
       "width": "34px"
      }
     },
     "07935c97ebaa48a890edf5ae73784e4a": {
      "model_module": "@jupyter-widgets/controls",
      "model_module_version": "1.5.0",
      "model_name": "LinkModel",
      "state": {
       "source": [
        "IPY_MODEL_68e3d0e93f144b26b0a028bc83043173",
        "max"
       ],
       "target": [
        "IPY_MODEL_703a429f8f0d4574a88d65a873fdad78",
        "max_frame"
       ]
      }
     },
     "08d7f890433b49e8b8d044327d1cb408": {
      "model_module": "@jupyter-widgets/base",
      "model_module_version": "1.2.0",
      "model_name": "LayoutModel",
      "state": {}
     },
     "09736c3d2355407d837f7e50b00e48d7": {
      "model_module": "@jupyter-widgets/controls",
      "model_module_version": "1.5.0",
      "model_name": "HBoxModel",
      "state": {
       "children": [
        "IPY_MODEL_2796716f23934e6cb519df39e0101c58",
        "IPY_MODEL_1357c2563061432ab36b0e04cfa9456e"
       ],
       "layout": "IPY_MODEL_be5de0fe416545e99c90a8d6b02b72ce"
      }
     },
     "09e9350d75ba468db9715cd4a9cbc74b": {
      "model_module": "nglview-js-widgets",
      "model_module_version": "3.0.1",
      "model_name": "ColormakerRegistryModel",
      "state": {
       "_msg_ar": [],
       "_msg_q": [],
       "_ready": true,
       "layout": "IPY_MODEL_e36a78d5b9104857b6502a296f8a6603"
      }
     },
     "0c3918f639694d53aa756994b3bd87f4": {
      "model_module": "nglview-js-widgets",
      "model_module_version": "3.0.1",
      "model_name": "ColormakerRegistryModel",
      "state": {
       "_msg_ar": [],
       "_msg_q": [],
       "_ready": true,
       "layout": "IPY_MODEL_0cfff655000f47a2aa973a6819abd598"
      }
     },
     "0cfff655000f47a2aa973a6819abd598": {
      "model_module": "@jupyter-widgets/base",
      "model_module_version": "1.2.0",
      "model_name": "LayoutModel",
      "state": {}
     },
     "0e136264213349d9ac45872d81a08f41": {
      "model_module": "@jupyter-widgets/base",
      "model_module_version": "1.2.0",
      "model_name": "LayoutModel",
      "state": {}
     },
     "0e336ea60cf947a3890a401970e94a13": {
      "model_module": "@jupyter-widgets/base",
      "model_module_version": "1.2.0",
      "model_name": "LayoutModel",
      "state": {}
     },
     "0e9313b910144c9b8926b3155a9ef2d4": {
      "model_module": "@jupyter-widgets/base",
      "model_module_version": "1.2.0",
      "model_name": "LayoutModel",
      "state": {}
     },
     "0f3596820f5141e4ae85a2ac2f22f35f": {
      "model_module": "@jupyter-widgets/controls",
      "model_module_version": "1.5.0",
      "model_name": "HBoxModel",
      "state": {
       "children": [
        "IPY_MODEL_459e7494ee104be7ace23b2faab8ea22",
        "IPY_MODEL_9b2bcc44939e4f82957c07030409b3b3"
       ],
       "layout": "IPY_MODEL_96590fdf1c604f7b851f10977bde4800"
      }
     },
     "0ff8ef0785aa412ebbba29c1c465b190": {
      "model_module": "@jupyter-widgets/base",
      "model_module_version": "1.2.0",
      "model_name": "LayoutModel",
      "state": {}
     },
     "103744e51d6943d9bb9d9f501238c1c5": {
      "model_module": "@jupyter-widgets/base",
      "model_module_version": "1.2.0",
      "model_name": "LayoutModel",
      "state": {}
     },
     "105438553f3a4839ad495d6ec75dfcc4": {
      "model_module": "@jupyter-widgets/controls",
      "model_module_version": "1.5.0",
      "model_name": "PlayModel",
      "state": {
       "layout": "IPY_MODEL_cb9d4452392d4fdda551f8c4e60719a8",
       "max": 0,
       "style": "IPY_MODEL_84ff19bd5ea24a3ca37758ee0ead507f"
      }
     },
     "109e1e197e134996a155968d015a8442": {
      "model_module": "@jupyter-widgets/controls",
      "model_module_version": "1.5.0",
      "model_name": "ButtonStyleModel",
      "state": {}
     },
     "1116382117754112a7254f08fe31a86e": {
      "model_module": "@jupyter-widgets/controls",
      "model_module_version": "1.5.0",
      "model_name": "ButtonStyleModel",
      "state": {}
     },
     "11c64d3bc9e942d39f433da1301df66d": {
      "model_module": "@jupyter-widgets/controls",
      "model_module_version": "1.5.0",
      "model_name": "DescriptionStyleModel",
      "state": {
       "description_width": ""
      }
     },
     "11e225f6faae434db5c4a2ff84670217": {
      "model_module": "@jupyter-widgets/controls",
      "model_module_version": "1.5.0",
      "model_name": "PlayModel",
      "state": {
       "layout": "IPY_MODEL_8294dfae5bf0468fb57430ea3ad7d0a3",
       "max": 0,
       "style": "IPY_MODEL_ac865a5a8a2948259fc383aa297532d5"
      }
     },
     "12ab66ea2a8c4cfe96c78f798116e3ab": {
      "model_module": "@jupyter-widgets/controls",
      "model_module_version": "1.5.0",
      "model_name": "LinkModel",
      "state": {
       "source": [
        "IPY_MODEL_87f052b2db134f62aabc8f68536e5b16",
        "value"
       ],
       "target": [
        "IPY_MODEL_c5208967f46e494eb275024beffc6a51",
        "frame"
       ]
      }
     },
     "12e3fef2f1304f7394c53adf3baf7f1d": {
      "model_module": "@jupyter-widgets/controls",
      "model_module_version": "1.5.0",
      "model_name": "SliderStyleModel",
      "state": {
       "description_width": ""
      }
     },
     "1341e56cda3d4c87b111d504da539484": {
      "model_module": "@jupyter-widgets/controls",
      "model_module_version": "1.5.0",
      "model_name": "SliderStyleModel",
      "state": {
       "description_width": ""
      }
     },
     "13489cb61cb54d6b9047869ed24a23b9": {
      "model_module": "@jupyter-widgets/base",
      "model_module_version": "1.2.0",
      "model_name": "LayoutModel",
      "state": {}
     },
     "1357c2563061432ab36b0e04cfa9456e": {
      "model_module": "@jupyter-widgets/controls",
      "model_module_version": "1.5.0",
      "model_name": "IntSliderModel",
      "state": {
       "layout": "IPY_MODEL_427f44ac7c324ef495d79f3b03ae051a",
       "max": 0,
       "style": "IPY_MODEL_cacec08dad7d4d5a8fd5de028ccdfce6"
      }
     },
     "1604bf9e849147439d647456ad64100b": {
      "model_module": "@jupyter-widgets/controls",
      "model_module_version": "1.5.0",
      "model_name": "ButtonModel",
      "state": {
       "icon": "compress",
       "layout": "IPY_MODEL_27ea6ef3670c4c458aa9b98c14d6c3c4",
       "style": "IPY_MODEL_74a92a81bea7455d9f736568af2d5e17"
      }
     },
     "163b75b79e394439bf35dcbd9d01cebb": {
      "model_module": "@jupyter-widgets/base",
      "model_module_version": "1.2.0",
      "model_name": "LayoutModel",
      "state": {
       "width": "34px"
      }
     },
     "16d3edcbfa51488eac0d4bd54bea9be2": {
      "model_module": "nglview-js-widgets",
      "model_module_version": "3.0.1",
      "model_name": "ColormakerRegistryModel",
      "state": {
       "_msg_ar": [],
       "_msg_q": [],
       "_ready": true,
       "layout": "IPY_MODEL_8973a21c05704ebebc1cfecc73d87f82"
      }
     },
     "171ce05cca5a4075b17948165192edfd": {
      "model_module": "nglview-js-widgets",
      "model_module_version": "3.0.1",
      "model_name": "NGLModel",
      "state": {
       "_camera_orientation": [
        10.676509350377648,
        8.229746699013218,
        -11.594817917136488,
        0,
        -10.805889319030932,
        14.12033719313318,
        0.0722408972997941,
        0,
        9.241281798880578,
        7.0031230170881935,
        13.480035752600122,
        0,
        -0.523949921131134,
        -0.6855000257492065,
        -0.3106500208377838,
        1
       ],
       "_camera_str": "orthographic",
       "_gui_theme": null,
       "_ibtn_fullscreen": "IPY_MODEL_49de5186dc624682af71e2c57de0354a",
       "_igui": null,
       "_iplayer": "IPY_MODEL_c96967451e454b658fc8c87465ad0a6e",
       "_ngl_color_dict": {},
       "_ngl_coordinate_resource": {},
       "_ngl_full_stage_parameters": {
        "ambientColor": 14540253,
        "ambientIntensity": 0.2,
        "backgroundColor": "white",
        "cameraEyeSep": 0.3,
        "cameraFov": 40,
        "cameraType": "perspective",
        "clipDist": 10,
        "clipFar": 100,
        "clipNear": 0,
        "fogFar": 100,
        "fogNear": 50,
        "hoverTimeout": 0,
        "impostor": true,
        "lightColor": 14540253,
        "lightIntensity": 1,
        "mousePreset": "default",
        "panSpeed": 1,
        "quality": "medium",
        "rotateSpeed": 2,
        "sampleLevel": 0,
        "tooltip": true,
        "workerDefault": true,
        "zoomSpeed": 1.2
       },
       "_ngl_msg_archive": [
        {
         "args": [
          {
           "binary": false,
           "data": "\nQCElemental\n\n 10  9  0  0  0  0  0  0  0  0  0\n   -0.4962    1.5207   -0.1762  C  0  0     0  0  0  0  0  0\n    1.4043    1.1937    0.0843  S  0  0     0  0  0  0  0  0\n    1.8193    2.0074    1.4273  O  0  0     0  0  0  0  0  0\n    1.0993   -0.6450    0.6430  C  0  0     0  0  0  0  0  0\n   -0.6142    2.5566   -0.5225  H  0  0     0  0  0  0  0  0\n   -0.8777    0.8248   -0.9363  H  0  0     0  0  0  0  0  0\n   -1.0305    1.3829    0.7742  H  0  0     0  0  0  0  0  0\n    0.5897   -1.1856   -0.1666  H  0  0     0  0  0  0  0  0\n    2.0784   -1.1022    0.8418  H  0  0     0  0  0  0  0  0\n    0.4900   -0.6583    1.5576  H  0  0     0  0  0  0  0  0\n  1  2  1  0  0  0  0\n  1  5  1  0  0  0  0\n  1  6  1  0  0  0  0\n  1  7  1  0  0  0  0\n  2  3  2  0  0  0  0\n  2  4  1  0  0  0  0\n  4  8  1  0  0  0  0\n  4  9  1  0  0  0  0\n  4 10  1  0  0  0  0\n",
           "type": "blob"
          }
         ],
         "kwargs": {
          "defaultRepresentation": true,
          "ext": "sdf"
         },
         "methodName": "loadFile",
         "reconstruc_color_scheme": false,
         "target": "Stage",
         "type": "call_method"
        }
       ],
       "_ngl_original_stage_parameters": {
        "ambientColor": 14540253,
        "ambientIntensity": 0.2,
        "backgroundColor": "white",
        "cameraEyeSep": 0.3,
        "cameraFov": 40,
        "cameraType": "perspective",
        "clipDist": 10,
        "clipFar": 100,
        "clipNear": 0,
        "fogFar": 100,
        "fogNear": 50,
        "hoverTimeout": 0,
        "impostor": true,
        "lightColor": 14540253,
        "lightIntensity": 1,
        "mousePreset": "default",
        "panSpeed": 1,
        "quality": "medium",
        "rotateSpeed": 2,
        "sampleLevel": 0,
        "tooltip": true,
        "workerDefault": true,
        "zoomSpeed": 1.2
       },
       "_ngl_repr_dict": {
        "0": {
         "0": {
          "params": {
           "aspectRatio": 1.5,
           "assembly": "default",
           "bondScale": 0.3,
           "bondSpacing": 0.75,
           "clipCenter": {
            "x": 0,
            "y": 0,
            "z": 0
           },
           "clipNear": 0,
           "clipRadius": 0,
           "colorMode": "hcl",
           "colorReverse": false,
           "colorScale": "",
           "colorScheme": "element",
           "colorValue": 9474192,
           "cylinderOnly": false,
           "defaultAssembly": "",
           "depthWrite": true,
           "diffuse": 16777215,
           "diffuseInterior": false,
           "disableImpostor": false,
           "disablePicking": false,
           "flatShaded": false,
           "interiorColor": 2236962,
           "interiorDarkening": 0,
           "lazy": false,
           "lineOnly": false,
           "linewidth": 2,
           "matrix": {
            "elements": [
             1,
             0,
             0,
             0,
             0,
             1,
             0,
             0,
             0,
             0,
             1,
             0,
             0,
             0,
             0,
             1
            ]
           },
           "metalness": 0,
           "multipleBond": "off",
           "opacity": 1,
           "openEnded": true,
           "quality": "high",
           "radialSegments": 20,
           "radiusData": {},
           "radiusScale": 2,
           "radiusSize": 0.15,
           "radiusType": "size",
           "roughness": 0.4,
           "sele": "",
           "side": "double",
           "sphereDetail": 2,
           "useInteriorColor": true,
           "visible": true,
           "wireframe": false
          },
          "type": "ball+stick"
         }
        }
       },
       "_ngl_serialize": false,
       "_ngl_version": "2.0.0-dev.36",
       "_ngl_view_id": [
        "15C09E59-3938-49F4-B2EF-D0CDD530C2D4"
       ],
       "_player_dict": {},
       "_scene_position": {},
       "_scene_rotation": {},
       "_synced_model_ids": [],
       "_synced_repr_model_ids": [],
       "_view_height": "",
       "_view_width": "",
       "background": "white",
       "frame": 0,
       "gui_style": null,
       "layout": "IPY_MODEL_a676be50a4244723885d6686b848c6d9",
       "max_frame": 0,
       "n_components": 1,
       "picked": {}
      }
     },
     "17368cfa77e44ab58ba88a9274cba7c4": {
      "model_module": "@jupyter-widgets/controls",
      "model_module_version": "1.5.0",
      "model_name": "LinkModel",
      "state": {
       "source": [
        "IPY_MODEL_9df1c8bff6a84afd899197179863f1d8",
        "max"
       ],
       "target": [
        "IPY_MODEL_48d4c8cac3d042f79c00bf73fc9f488a",
        "max_frame"
       ]
      }
     },
     "17d06cfabb174f66b95b9e25da1ec717": {
      "model_module": "@jupyter-widgets/controls",
      "model_module_version": "1.5.0",
      "model_name": "LinkModel",
      "state": {
       "source": [
        "IPY_MODEL_68e3d0e93f144b26b0a028bc83043173",
        "value"
       ],
       "target": [
        "IPY_MODEL_703a429f8f0d4574a88d65a873fdad78",
        "frame"
       ]
      }
     },
     "1844db5c3831460facfc7ddf0c0faba6": {
      "model_module": "@jupyter-widgets/base",
      "model_module_version": "1.2.0",
      "model_name": "LayoutModel",
      "state": {}
     },
     "18c1c46397d14136b57b0b0b90399c9e": {
      "model_module": "@jupyter-widgets/controls",
      "model_module_version": "1.5.0",
      "model_name": "LinkModel",
      "state": {
       "source": [
        "IPY_MODEL_4e7ed2b6c98a4575a0e2fa90410e815b",
        "value"
       ],
       "target": [
        "IPY_MODEL_48d4c8cac3d042f79c00bf73fc9f488a",
        "frame"
       ]
      }
     },
     "1950d01c13a7493c800d6ddef2efa53f": {
      "model_module": "@jupyter-widgets/controls",
      "model_module_version": "1.5.0",
      "model_name": "SliderStyleModel",
      "state": {
       "description_width": ""
      }
     },
     "1a3cff841408448394395b1a9275823c": {
      "model_module": "@jupyter-widgets/controls",
      "model_module_version": "1.5.0",
      "model_name": "ImageModel",
      "state": {
       "layout": "IPY_MODEL_ea3e672a76a84de3aba9909b8510cf12",
       "width": "900.0"
      }
     },
     "1be5ea1795ff464cb565c469b9f5b7cc": {
      "model_module": "nglview-js-widgets",
      "model_module_version": "3.0.1",
      "model_name": "ColormakerRegistryModel",
      "state": {
       "_msg_ar": [],
       "_msg_q": [],
       "_ready": true,
       "layout": "IPY_MODEL_e07b9df2a22c470795541d6755c84edf"
      }
     },
     "1d356d763fa44fe4a691bf6e4faa8975": {
      "model_module": "@jupyter-widgets/controls",
      "model_module_version": "1.5.0",
      "model_name": "ImageModel",
      "state": {
       "layout": "IPY_MODEL_64af9d39a3fb4da1951842031c1e4510",
       "width": "900.0"
      }
     },
     "208cdf538a5846e7a11fa3aae647a813": {
      "model_module": "@jupyter-widgets/controls",
      "model_module_version": "1.5.0",
      "model_name": "HBoxModel",
      "state": {
       "children": [
        "IPY_MODEL_cce2e4454d2a41fca4aeb03515c504e4",
        "IPY_MODEL_adc606bd524748e8b19c33dbde458fc1"
       ],
       "layout": "IPY_MODEL_99a7baadbf80450eb5f1c9db05c39205"
      }
     },
     "241fe61e2235495d92b8ebd950a6d8ed": {
      "model_module": "@jupyter-widgets/controls",
      "model_module_version": "1.5.0",
      "model_name": "ImageModel",
      "state": {
       "layout": "IPY_MODEL_79dad1adabd24e198f97c340f1dc18fc",
       "width": "900.0"
      }
     },
     "26f34993af0a48c3bcc11d570aae36b9": {
      "model_module": "@jupyter-widgets/controls",
      "model_module_version": "1.5.0",
      "model_name": "LinkModel",
      "state": {
       "source": [
        "IPY_MODEL_585d006768eb4fa596ca6715940e6fe8",
        "max"
       ],
       "target": [
        "IPY_MODEL_78d64a3c0e7d4278a94bb4c8d1a6c046",
        "max_frame"
       ]
      }
     },
     "2750c434305d43bfa4dee1f7332b5545": {
      "model_module": "@jupyter-widgets/base",
      "model_module_version": "1.2.0",
      "model_name": "LayoutModel",
      "state": {
       "width": "34px"
      }
     },
     "2796716f23934e6cb519df39e0101c58": {
      "model_module": "@jupyter-widgets/controls",
      "model_module_version": "1.5.0",
      "model_name": "PlayModel",
      "state": {
       "layout": "IPY_MODEL_08d7f890433b49e8b8d044327d1cb408",
       "max": 0,
       "style": "IPY_MODEL_2e74a2cd8fd74440bdcb3661778984e8"
      }
     },
     "27ea6ef3670c4c458aa9b98c14d6c3c4": {
      "model_module": "@jupyter-widgets/base",
      "model_module_version": "1.2.0",
      "model_name": "LayoutModel",
      "state": {
       "width": "34px"
      }
     },
     "29dd73fd69d34eb5aa980fe8eea6c9ef": {
      "model_module": "@jupyter-widgets/base",
      "model_module_version": "1.2.0",
      "model_name": "LayoutModel",
      "state": {
       "width": "34px"
      }
     },
     "2a92ee71f93b4aa0ad0ceb6fd33c7b99": {
      "model_module": "@jupyter-widgets/base",
      "model_module_version": "1.2.0",
      "model_name": "LayoutModel",
      "state": {
       "width": "34px"
      }
     },
     "2aefafc63da54bf4b19d8e56c046224e": {
      "model_module": "@jupyter-widgets/base",
      "model_module_version": "1.2.0",
      "model_name": "LayoutModel",
      "state": {}
     },
     "2b1fcfd0a7bf46cc927eae6886f58616": {
      "model_module": "@jupyter-widgets/controls",
      "model_module_version": "1.5.0",
      "model_name": "LinkModel",
      "state": {
       "source": [
        "IPY_MODEL_fa89328f2c5548939dbd9cfed4c65d00",
        "max"
       ],
       "target": [
        "IPY_MODEL_c5208967f46e494eb275024beffc6a51",
        "max_frame"
       ]
      }
     },
     "2beb3bd34b9a478e99a34506fcf952f8": {
      "model_module": "@jupyter-widgets/controls",
      "model_module_version": "1.5.0",
      "model_name": "LinkModel",
      "state": {
       "source": [
        "IPY_MODEL_4a4fe232988c485daf2a31924f68fd19",
        "max"
       ],
       "target": [
        "IPY_MODEL_171ce05cca5a4075b17948165192edfd",
        "max_frame"
       ]
      }
     },
     "2e09e852d6ee46d196612904ce80f5e0": {
      "model_module": "@jupyter-widgets/controls",
      "model_module_version": "1.5.0",
      "model_name": "SliderStyleModel",
      "state": {
       "description_width": ""
      }
     },
     "2e2116ef8e6b43bdb88cc047ef5917e8": {
      "model_module": "@jupyter-widgets/controls",
      "model_module_version": "1.5.0",
      "model_name": "ButtonStyleModel",
      "state": {}
     },
     "2e74a2cd8fd74440bdcb3661778984e8": {
      "model_module": "@jupyter-widgets/controls",
      "model_module_version": "1.5.0",
      "model_name": "DescriptionStyleModel",
      "state": {
       "description_width": ""
      }
     },
     "2eaccf13358940cf9bef640fc53858ae": {
      "model_module": "@jupyter-widgets/base",
      "model_module_version": "1.2.0",
      "model_name": "LayoutModel",
      "state": {}
     },
     "2efe4ca8c17746dd893360fe75fc91cb": {
      "model_module": "@jupyter-widgets/controls",
      "model_module_version": "1.5.0",
      "model_name": "ImageModel",
      "state": {
       "layout": "IPY_MODEL_f63b05db68dc4234ae6ba063888fa6fb",
       "width": "900.0"
      }
     },
     "2f2c4df567e44d579afc309cd1e410dc": {
      "model_module": "@jupyter-widgets/controls",
      "model_module_version": "1.5.0",
      "model_name": "DescriptionStyleModel",
      "state": {
       "description_width": ""
      }
     },
     "30b6635b760549f9b82bf74a346a7f94": {
      "model_module": "nglview-js-widgets",
      "model_module_version": "3.0.1",
      "model_name": "NGLModel",
      "state": {
       "_camera_orientation": [
        18.435485762718002,
        0,
        0,
        0,
        0,
        18.435485762718002,
        0,
        0,
        0,
        0,
        18.435485762718002,
        0,
        -0.2803500294685364,
        -0.9233499765396118,
        -1.6167999431490898,
        1
       ],
       "_camera_str": "orthographic",
       "_gui_theme": null,
       "_ibtn_fullscreen": "IPY_MODEL_f5d5584c39204688a182b22b958e9e10",
       "_igui": null,
       "_iplayer": "IPY_MODEL_97e8f3f59a8a49ecb6adc8ff7508c8af",
       "_ngl_color_dict": {},
       "_ngl_coordinate_resource": {},
       "_ngl_full_stage_parameters": {
        "ambientColor": 14540253,
        "ambientIntensity": 0.2,
        "backgroundColor": "white",
        "cameraEyeSep": 0.3,
        "cameraFov": 40,
        "cameraType": "perspective",
        "clipDist": 10,
        "clipFar": 100,
        "clipNear": 0,
        "fogFar": 100,
        "fogNear": 50,
        "hoverTimeout": 0,
        "impostor": true,
        "lightColor": 14540253,
        "lightIntensity": 1,
        "mousePreset": "default",
        "panSpeed": 1,
        "quality": "medium",
        "rotateSpeed": 2,
        "sampleLevel": 0,
        "tooltip": true,
        "workerDefault": true,
        "zoomSpeed": 1.2
       },
       "_ngl_msg_archive": [
        {
         "args": [
          {
           "binary": false,
           "data": "\nQCElemental\n\n 10  9  0  0  0  0  0  0  0  0  0\n   -0.4899    1.7877    0.9210  C  0  0     0  0  0  0  0  0\n    0.8697    1.1810    1.9128  S  0  0     0  0  0  0  0  0\n    0.6876    1.5886    3.3621  O  0  0     0  0  0  0  0  0\n    1.0190   -0.6024    1.7322  C  0  0     0  0  0  0  0  0\n   -0.5376    2.8864    0.9644  H  0  0     0  0  0  0  0  0\n   -0.3234    1.5047   -0.1285  H  0  0     0  0  0  0  0  0\n   -1.4181    1.2954    1.2491  H  0  0     0  0  0  0  0  0\n    0.1487   -1.0397    1.1829  H  0  0     0  0  0  0  0  0\n    1.9788   -0.8261    1.2081  H  0  0     0  0  0  0  0  0\n    1.0525   -1.0377    2.7612  H  0  0     0  0  0  0  0  0\n  1  2  1  0  0  0  0\n  1  5  1  0  0  0  0\n  1  6  1  0  0  0  0\n  1  7  1  0  0  0  0\n  2  3  2  0  0  0  0\n  2  4  1  0  0  0  0\n  4  8  1  0  0  0  0\n  4  9  1  0  0  0  0\n  4 10  1  0  0  0  0\n",
           "type": "blob"
          }
         ],
         "kwargs": {
          "defaultRepresentation": true,
          "ext": "sdf"
         },
         "methodName": "loadFile",
         "reconstruc_color_scheme": false,
         "target": "Stage",
         "type": "call_method"
        }
       ],
       "_ngl_original_stage_parameters": {
        "ambientColor": 14540253,
        "ambientIntensity": 0.2,
        "backgroundColor": "white",
        "cameraEyeSep": 0.3,
        "cameraFov": 40,
        "cameraType": "perspective",
        "clipDist": 10,
        "clipFar": 100,
        "clipNear": 0,
        "fogFar": 100,
        "fogNear": 50,
        "hoverTimeout": 0,
        "impostor": true,
        "lightColor": 14540253,
        "lightIntensity": 1,
        "mousePreset": "default",
        "panSpeed": 1,
        "quality": "medium",
        "rotateSpeed": 2,
        "sampleLevel": 0,
        "tooltip": true,
        "workerDefault": true,
        "zoomSpeed": 1.2
       },
       "_ngl_repr_dict": {
        "0": {
         "0": {
          "params": {
           "aspectRatio": 1.5,
           "assembly": "default",
           "bondScale": 0.3,
           "bondSpacing": 0.75,
           "clipCenter": {
            "x": 0,
            "y": 0,
            "z": 0
           },
           "clipNear": 0,
           "clipRadius": 0,
           "colorMode": "hcl",
           "colorReverse": false,
           "colorScale": "",
           "colorScheme": "element",
           "colorValue": 9474192,
           "cylinderOnly": false,
           "defaultAssembly": "",
           "depthWrite": true,
           "diffuse": 16777215,
           "diffuseInterior": false,
           "disableImpostor": false,
           "disablePicking": false,
           "flatShaded": false,
           "interiorColor": 2236962,
           "interiorDarkening": 0,
           "lazy": false,
           "lineOnly": false,
           "linewidth": 2,
           "matrix": {
            "elements": [
             1,
             0,
             0,
             0,
             0,
             1,
             0,
             0,
             0,
             0,
             1,
             0,
             0,
             0,
             0,
             1
            ]
           },
           "metalness": 0,
           "multipleBond": "off",
           "opacity": 1,
           "openEnded": true,
           "quality": "high",
           "radialSegments": 20,
           "radiusData": {},
           "radiusScale": 2,
           "radiusSize": 0.15,
           "radiusType": "size",
           "roughness": 0.4,
           "sele": "",
           "side": "double",
           "sphereDetail": 2,
           "useInteriorColor": true,
           "visible": true,
           "wireframe": false
          },
          "type": "ball+stick"
         }
        }
       },
       "_ngl_serialize": false,
       "_ngl_version": "2.0.0-dev.36",
       "_ngl_view_id": [
        "ADDC30F1-D2D5-468E-8292-EB2CDBD9BF8D"
       ],
       "_player_dict": {},
       "_scene_position": {},
       "_scene_rotation": {},
       "_synced_model_ids": [],
       "_synced_repr_model_ids": [],
       "_view_height": "",
       "_view_width": "",
       "background": "white",
       "frame": 0,
       "gui_style": null,
       "layout": "IPY_MODEL_01ffaa0ad0f0487c87ba750a5e5fb4bd",
       "max_frame": 0,
       "n_components": 1,
       "picked": {}
      }
     },
     "314de7f7ed6141fd9c70621443fa0535": {
      "model_module": "@jupyter-widgets/base",
      "model_module_version": "1.2.0",
      "model_name": "LayoutModel",
      "state": {}
     },
     "31f77add9a624a08808c805a6dc6fff5": {
      "model_module": "@jupyter-widgets/base",
      "model_module_version": "1.2.0",
      "model_name": "LayoutModel",
      "state": {}
     },
     "327fbadf853343e9a23afcef9496fab0": {
      "model_module": "@jupyter-widgets/controls",
      "model_module_version": "1.5.0",
      "model_name": "DescriptionStyleModel",
      "state": {
       "description_width": ""
      }
     },
     "32ab39e1c7b94120abb30dbb91a915d5": {
      "model_module": "@jupyter-widgets/controls",
      "model_module_version": "1.5.0",
      "model_name": "LinkModel",
      "state": {
       "source": [
        "IPY_MODEL_04c7629fd60a44ab80a5c1926537ed3f",
        "value"
       ],
       "target": [
        "IPY_MODEL_e940bc48be674a218d878af7ee74a380",
        "value"
       ]
      }
     },
     "335658c9a6db4e54b5fc29be9709ab35": {
      "model_module": "@jupyter-widgets/base",
      "model_module_version": "1.2.0",
      "model_name": "LayoutModel",
      "state": {}
     },
     "338141785c074e7bac3c47a883e63386": {
      "model_module": "@jupyter-widgets/controls",
      "model_module_version": "1.5.0",
      "model_name": "LinkModel",
      "state": {
       "source": [
        "IPY_MODEL_4e7ed2b6c98a4575a0e2fa90410e815b",
        "max"
       ],
       "target": [
        "IPY_MODEL_48d4c8cac3d042f79c00bf73fc9f488a",
        "max_frame"
       ]
      }
     },
     "33c09b0b353f4852b935c1598357778e": {
      "model_module": "@jupyter-widgets/base",
      "model_module_version": "1.2.0",
      "model_name": "LayoutModel",
      "state": {}
     },
     "373f40b141294eb5bde2fef2d8674548": {
      "model_module": "@jupyter-widgets/base",
      "model_module_version": "1.2.0",
      "model_name": "LayoutModel",
      "state": {}
     },
     "39002f4273c743e6aa7482754bbbf48c": {
      "model_module": "@jupyter-widgets/base",
      "model_module_version": "1.2.0",
      "model_name": "LayoutModel",
      "state": {}
     },
     "3aa3d374ff7b4da8bf73d05ee98315e7": {
      "model_module": "nglview-js-widgets",
      "model_module_version": "3.0.1",
      "model_name": "ColormakerRegistryModel",
      "state": {
       "_msg_ar": [],
       "_msg_q": [],
       "_ready": true,
       "layout": "IPY_MODEL_95efde23e94545d0b5d616f0ff3eb22a"
      }
     },
     "3b69b2a2a4594246a9457ef8da561fe6": {
      "model_module": "@jupyter-widgets/controls",
      "model_module_version": "1.5.0",
      "model_name": "ButtonStyleModel",
      "state": {}
     },
     "3ba955f57c6e418dbd6266c1fdcaca0b": {
      "model_module": "@jupyter-widgets/base",
      "model_module_version": "1.2.0",
      "model_name": "LayoutModel",
      "state": {
       "width": "34px"
      }
     },
     "3bec2c87547b4f2ca5f352b79ff4cfa0": {
      "model_module": "@jupyter-widgets/controls",
      "model_module_version": "1.5.0",
      "model_name": "ImageModel",
      "state": {
       "layout": "IPY_MODEL_c4f9e69e6ec84c2d9be211846cdfde1d",
       "width": "900.0"
      }
     },
     "3d8076383bbf4ce4add8137f717f7d0d": {
      "model_module": "@jupyter-widgets/base",
      "model_module_version": "1.2.0",
      "model_name": "LayoutModel",
      "state": {}
     },
     "404546d47e1f4be4bc7167139e29f5f0": {
      "model_module": "@jupyter-widgets/controls",
      "model_module_version": "1.5.0",
      "model_name": "LinkModel",
      "state": {
       "source": [
        "IPY_MODEL_0593f816aeae483e8ca13439260fb6b7",
        "value"
       ],
       "target": [
        "IPY_MODEL_d8b1c98b3f214f80abf5c60065bacdd2",
        "frame"
       ]
      }
     },
     "404ae5d639f9409fbbda3f6d52d4d4fa": {
      "model_module": "@jupyter-widgets/controls",
      "model_module_version": "1.5.0",
      "model_name": "LinkModel",
      "state": {
       "source": [
        "IPY_MODEL_459e7494ee104be7ace23b2faab8ea22",
        "value"
       ],
       "target": [
        "IPY_MODEL_9b2bcc44939e4f82957c07030409b3b3",
        "value"
       ]
      }
     },
     "40c29e0fc60847afbc5fe1b56cfd0748": {
      "model_module": "@jupyter-widgets/base",
      "model_module_version": "1.2.0",
      "model_name": "LayoutModel",
      "state": {}
     },
     "40fd866e0df1451b8d3279915ed07cad": {
      "model_module": "@jupyter-widgets/controls",
      "model_module_version": "1.5.0",
      "model_name": "DescriptionStyleModel",
      "state": {
       "description_width": ""
      }
     },
     "4222e1c4cb50455db6358934dcda2c18": {
      "model_module": "@jupyter-widgets/controls",
      "model_module_version": "1.5.0",
      "model_name": "SliderStyleModel",
      "state": {
       "description_width": ""
      }
     },
     "427f44ac7c324ef495d79f3b03ae051a": {
      "model_module": "@jupyter-widgets/base",
      "model_module_version": "1.2.0",
      "model_name": "LayoutModel",
      "state": {}
     },
     "459e7494ee104be7ace23b2faab8ea22": {
      "model_module": "@jupyter-widgets/controls",
      "model_module_version": "1.5.0",
      "model_name": "PlayModel",
      "state": {
       "layout": "IPY_MODEL_e2b2d575e733420ba296a911cf96d11d",
       "max": 0,
       "style": "IPY_MODEL_e6659315b3844a16834247fa9beec3c8"
      }
     },
     "4634c283aaec407b848b85a2a3c37c57": {
      "model_module": "@jupyter-widgets/controls",
      "model_module_version": "1.5.0",
      "model_name": "LinkModel",
      "state": {
       "source": [
        "IPY_MODEL_2796716f23934e6cb519df39e0101c58",
        "value"
       ],
       "target": [
        "IPY_MODEL_82803d82c78041e299feaac782591e9e",
        "frame"
       ]
      }
     },
     "4730e3eb238240b982b0fceb4b1ebb85": {
      "model_module": "@jupyter-widgets/controls",
      "model_module_version": "1.5.0",
      "model_name": "ImageModel",
      "state": {
       "layout": "IPY_MODEL_f9929ebb68eb42299516b52bae0976b4",
       "width": "900.0"
      }
     },
     "48d2ae31d3c94ad485369a7b9a3417e9": {
      "model_module": "@jupyter-widgets/base",
      "model_module_version": "1.2.0",
      "model_name": "LayoutModel",
      "state": {
       "width": "34px"
      }
     },
     "48d4c8cac3d042f79c00bf73fc9f488a": {
      "model_module": "nglview-js-widgets",
      "model_module_version": "3.0.1",
      "model_name": "NGLModel",
      "state": {
       "_camera_orientation": [
        -2.1556350011309764,
        2.4789443810263174,
        17.47468047398424,
        0,
        8.710297611972623,
        -15.16193495281705,
        3.225341713304445,
        0,
        15.350581045124482,
        8.951365728898315,
        0.6237774721335838,
        0,
        -0.523949921131134,
        -0.6855000257492065,
        -0.3106500208377838,
        1
       ],
       "_camera_str": "orthographic",
       "_gui_theme": null,
       "_ibtn_fullscreen": "IPY_MODEL_b9f91752dcd745fdad21a46c1e0a4442",
       "_igui": null,
       "_iplayer": "IPY_MODEL_7ac07e9b5d30466babb728aac3886242",
       "_ngl_color_dict": {},
       "_ngl_coordinate_resource": {},
       "_ngl_full_stage_parameters": {
        "ambientColor": 14540253,
        "ambientIntensity": 0.2,
        "backgroundColor": "white",
        "cameraEyeSep": 0.3,
        "cameraFov": 40,
        "cameraType": "perspective",
        "clipDist": 10,
        "clipFar": 100,
        "clipNear": 0,
        "fogFar": 100,
        "fogNear": 50,
        "hoverTimeout": 0,
        "impostor": true,
        "lightColor": 14540253,
        "lightIntensity": 1,
        "mousePreset": "default",
        "panSpeed": 1,
        "quality": "medium",
        "rotateSpeed": 2,
        "sampleLevel": 0,
        "tooltip": true,
        "workerDefault": true,
        "zoomSpeed": 1.2
       },
       "_ngl_msg_archive": [
        {
         "args": [
          {
           "binary": false,
           "data": "\nQCElemental\n\n 10  9  0  0  0  0  0  0  0  0  0\n   -0.4962    1.5207   -0.1762  C  0  0     0  0  0  0  0  0\n    1.4043    1.1937    0.0843  S  0  0     0  0  0  0  0  0\n    1.8193    2.0074    1.4273  O  0  0     0  0  0  0  0  0\n    1.0993   -0.6450    0.6430  C  0  0     0  0  0  0  0  0\n   -0.6142    2.5566   -0.5225  H  0  0     0  0  0  0  0  0\n   -0.8777    0.8248   -0.9363  H  0  0     0  0  0  0  0  0\n   -1.0305    1.3829    0.7742  H  0  0     0  0  0  0  0  0\n    0.5897   -1.1856   -0.1666  H  0  0     0  0  0  0  0  0\n    2.0784   -1.1022    0.8418  H  0  0     0  0  0  0  0  0\n    0.4900   -0.6583    1.5576  H  0  0     0  0  0  0  0  0\n  1  2  1  0  0  0  0\n  1  5  1  0  0  0  0\n  1  6  1  0  0  0  0\n  1  7  1  0  0  0  0\n  2  3  2  0  0  0  0\n  2  4  1  0  0  0  0\n  4  8  1  0  0  0  0\n  4  9  1  0  0  0  0\n  4 10  1  0  0  0  0\n",
           "type": "blob"
          }
         ],
         "kwargs": {
          "defaultRepresentation": true,
          "ext": "sdf"
         },
         "methodName": "loadFile",
         "reconstruc_color_scheme": false,
         "target": "Stage",
         "type": "call_method"
        }
       ],
       "_ngl_original_stage_parameters": {
        "ambientColor": 14540253,
        "ambientIntensity": 0.2,
        "backgroundColor": "white",
        "cameraEyeSep": 0.3,
        "cameraFov": 40,
        "cameraType": "perspective",
        "clipDist": 10,
        "clipFar": 100,
        "clipNear": 0,
        "fogFar": 100,
        "fogNear": 50,
        "hoverTimeout": 0,
        "impostor": true,
        "lightColor": 14540253,
        "lightIntensity": 1,
        "mousePreset": "default",
        "panSpeed": 1,
        "quality": "medium",
        "rotateSpeed": 2,
        "sampleLevel": 0,
        "tooltip": true,
        "workerDefault": true,
        "zoomSpeed": 1.2
       },
       "_ngl_repr_dict": {
        "0": {
         "0": {
          "params": {
           "aspectRatio": 1.5,
           "assembly": "default",
           "bondScale": 0.3,
           "bondSpacing": 0.75,
           "clipCenter": {
            "x": 0,
            "y": 0,
            "z": 0
           },
           "clipNear": 0,
           "clipRadius": 0,
           "colorMode": "hcl",
           "colorReverse": false,
           "colorScale": "",
           "colorScheme": "element",
           "colorValue": 9474192,
           "cylinderOnly": false,
           "defaultAssembly": "",
           "depthWrite": true,
           "diffuse": 16777215,
           "diffuseInterior": false,
           "disableImpostor": false,
           "disablePicking": false,
           "flatShaded": false,
           "interiorColor": 2236962,
           "interiorDarkening": 0,
           "lazy": false,
           "lineOnly": false,
           "linewidth": 2,
           "matrix": {
            "elements": [
             1,
             0,
             0,
             0,
             0,
             1,
             0,
             0,
             0,
             0,
             1,
             0,
             0,
             0,
             0,
             1
            ]
           },
           "metalness": 0,
           "multipleBond": "off",
           "opacity": 1,
           "openEnded": true,
           "quality": "high",
           "radialSegments": 20,
           "radiusData": {},
           "radiusScale": 2,
           "radiusSize": 0.15,
           "radiusType": "size",
           "roughness": 0.4,
           "sele": "",
           "side": "double",
           "sphereDetail": 2,
           "useInteriorColor": true,
           "visible": true,
           "wireframe": false
          },
          "type": "ball+stick"
         }
        }
       },
       "_ngl_serialize": false,
       "_ngl_version": "2.0.0-dev.36",
       "_ngl_view_id": [
        "A1421FA6-6232-4623-BEA0-E6A9A26E2813"
       ],
       "_player_dict": {},
       "_scene_position": {},
       "_scene_rotation": {},
       "_synced_model_ids": [],
       "_synced_repr_model_ids": [],
       "_view_height": "",
       "_view_width": "",
       "background": "white",
       "frame": 0,
       "gui_style": null,
       "layout": "IPY_MODEL_a53e7b235de2424ebbdec5aacebe1dde",
       "max_frame": 0,
       "n_components": 1,
       "picked": {}
      }
     },
     "48e0516daa884a2b8ac6aab2b3781a2e": {
      "model_module": "@jupyter-widgets/base",
      "model_module_version": "1.2.0",
      "model_name": "LayoutModel",
      "state": {}
     },
     "4972a6274f7e47b0aa01e291a5726c21": {
      "model_module": "@jupyter-widgets/base",
      "model_module_version": "1.2.0",
      "model_name": "LayoutModel",
      "state": {}
     },
     "49cb7d052a8e4f0585273e5d2dfcda4c": {
      "model_module": "@jupyter-widgets/controls",
      "model_module_version": "1.5.0",
      "model_name": "ImageModel",
      "state": {
       "layout": "IPY_MODEL_773d96bcd5e44d048f2cd22f2d721696",
       "width": "900.0"
      }
     },
     "49de5186dc624682af71e2c57de0354a": {
      "model_module": "@jupyter-widgets/controls",
      "model_module_version": "1.5.0",
      "model_name": "ButtonModel",
      "state": {
       "icon": "compress",
       "layout": "IPY_MODEL_4a0be618e3544bc2b58254a692276a78",
       "style": "IPY_MODEL_1116382117754112a7254f08fe31a86e"
      }
     },
     "4a0be618e3544bc2b58254a692276a78": {
      "model_module": "@jupyter-widgets/base",
      "model_module_version": "1.2.0",
      "model_name": "LayoutModel",
      "state": {
       "width": "34px"
      }
     },
     "4a2122d9417f4e8facf5d803cff8bfbf": {
      "model_module": "@jupyter-widgets/controls",
      "model_module_version": "1.5.0",
      "model_name": "IntSliderModel",
      "state": {
       "layout": "IPY_MODEL_48e0516daa884a2b8ac6aab2b3781a2e",
       "max": 0,
       "style": "IPY_MODEL_9510c1afde5a4f5f885f95ad31550f02"
      }
     },
     "4a4fe232988c485daf2a31924f68fd19": {
      "model_module": "@jupyter-widgets/controls",
      "model_module_version": "1.5.0",
      "model_name": "IntSliderModel",
      "state": {
       "layout": "IPY_MODEL_95df7e4bc4c14fcea9eb60f6b4e62815",
       "max": 0,
       "style": "IPY_MODEL_bb2067aa3cbf4d48b9728b59c9f814eb"
      }
     },
     "4a6a33f1190642439a01a126427bfc78": {
      "model_module": "@jupyter-widgets/controls",
      "model_module_version": "1.5.0",
      "model_name": "LinkModel",
      "state": {
       "source": [
        "IPY_MODEL_aeb2f66844c945e9ad51e107160e4d47",
        "value"
       ],
       "target": [
        "IPY_MODEL_80c6f17cce444b00b390f592efb242e3",
        "frame"
       ]
      }
     },
     "4abef43ae0e34082a27c76e8cd982335": {
      "model_module": "@jupyter-widgets/base",
      "model_module_version": "1.2.0",
      "model_name": "LayoutModel",
      "state": {
       "width": "34px"
      }
     },
     "4ade8f1e1ab949a8a28e4ddce6e0f577": {
      "model_module": "@jupyter-widgets/controls",
      "model_module_version": "1.5.0",
      "model_name": "ImageModel",
      "state": {
       "layout": "IPY_MODEL_9e7bc42b81784ccb97206bdee2e87189",
       "width": "900.0"
      }
     },
     "4af633a5c14147a58c72a5ad87d01c1c": {
      "model_module": "@jupyter-widgets/controls",
      "model_module_version": "1.5.0",
      "model_name": "LinkModel",
      "state": {
       "source": [
        "IPY_MODEL_2796716f23934e6cb519df39e0101c58",
        "value"
       ],
       "target": [
        "IPY_MODEL_1357c2563061432ab36b0e04cfa9456e",
        "value"
       ]
      }
     },
     "4b26e92a0b1e415abcafe7b0a8f073ce": {
      "model_module": "@jupyter-widgets/controls",
      "model_module_version": "1.5.0",
      "model_name": "LinkModel",
      "state": {
       "source": [
        "IPY_MODEL_105438553f3a4839ad495d6ec75dfcc4",
        "value"
       ],
       "target": [
        "IPY_MODEL_5761b749d00943bbb829ba2541884b28",
        "value"
       ]
      }
     },
     "4b38dfba3dc6468385f242a8c46ca204": {
      "model_module": "@jupyter-widgets/controls",
      "model_module_version": "1.5.0",
      "model_name": "ButtonStyleModel",
      "state": {}
     },
     "4b8e0c01c88e43179be3879723ab2cff": {
      "model_module": "@jupyter-widgets/controls",
      "model_module_version": "1.5.0",
      "model_name": "LinkModel",
      "state": {
       "source": [
        "IPY_MODEL_692b2ed437314a68a32e2adf86fa4eeb",
        "value"
       ],
       "target": [
        "IPY_MODEL_bba0a467cdf94282a74845bb86b8334c",
        "value"
       ]
      }
     },
     "4c40e8cf0a454ac48eda7a11bc1333fe": {
      "model_module": "@jupyter-widgets/controls",
      "model_module_version": "1.5.0",
      "model_name": "SliderStyleModel",
      "state": {
       "description_width": ""
      }
     },
     "4d11bdc2bdb44e94961a767fdcb17c9b": {
      "model_module": "@jupyter-widgets/controls",
      "model_module_version": "1.5.0",
      "model_name": "DescriptionStyleModel",
      "state": {
       "description_width": ""
      }
     },
     "4d22c45efb1c489699ee0a814dab7326": {
      "model_module": "nglview-js-widgets",
      "model_module_version": "3.0.1",
      "model_name": "ColormakerRegistryModel",
      "state": {
       "_msg_ar": [],
       "_msg_q": [],
       "_ready": true,
       "layout": "IPY_MODEL_1844db5c3831460facfc7ddf0c0faba6"
      }
     },
     "4d8a4eb3b32d4fb59be346b999931d5f": {
      "model_module": "@jupyter-widgets/base",
      "model_module_version": "1.2.0",
      "model_name": "LayoutModel",
      "state": {}
     },
     "4e7ed2b6c98a4575a0e2fa90410e815b": {
      "model_module": "@jupyter-widgets/controls",
      "model_module_version": "1.5.0",
      "model_name": "PlayModel",
      "state": {
       "layout": "IPY_MODEL_da94aaae2ce447f08298cc12934715d9",
       "max": 0,
       "style": "IPY_MODEL_2f2c4df567e44d579afc309cd1e410dc"
      }
     },
     "5012c516733b443fa10b8822adcc0611": {
      "model_module": "@jupyter-widgets/controls",
      "model_module_version": "1.5.0",
      "model_name": "SliderStyleModel",
      "state": {
       "description_width": ""
      }
     },
     "51396080bac949a19d71c8c6b90d24cf": {
      "model_module": "nglview-js-widgets",
      "model_module_version": "3.0.1",
      "model_name": "NGLModel",
      "state": {
       "_camera_orientation": [
        25.365924190270157,
        0,
        0,
        0,
        0,
        25.365924190270157,
        0,
        0,
        0,
        0,
        25.365924190270157,
        0,
        -0.09125018119812012,
        -0.08335000276565552,
        0.526699960231781,
        1
       ],
       "_camera_str": "orthographic",
       "_gui_theme": null,
       "_ibtn_fullscreen": "IPY_MODEL_79f0dd51e3024a0eabe0020b70952f88",
       "_igui": null,
       "_iplayer": "IPY_MODEL_06db38fb8aa04444962b2458698a2922",
       "_ngl_color_dict": {},
       "_ngl_coordinate_resource": {},
       "_ngl_full_stage_parameters": {
        "ambientColor": 14540253,
        "ambientIntensity": 0.2,
        "backgroundColor": "white",
        "cameraEyeSep": 0.3,
        "cameraFov": 40,
        "cameraType": "perspective",
        "clipDist": 10,
        "clipFar": 100,
        "clipNear": 0,
        "fogFar": 100,
        "fogNear": 50,
        "hoverTimeout": 0,
        "impostor": true,
        "lightColor": 14540253,
        "lightIntensity": 1,
        "mousePreset": "default",
        "panSpeed": 1,
        "quality": "medium",
        "rotateSpeed": 2,
        "sampleLevel": 0,
        "tooltip": true,
        "workerDefault": true,
        "zoomSpeed": 1.2
       },
       "_ngl_msg_archive": [
        {
         "args": [
          {
           "binary": false,
           "data": "\nQCElemental\n\n 25 24  0  0  0  0  0  0  0  0  0\n   -3.1262   -0.3645   -2.3242  C  0  0     0  0  0  0  0  0\n   -2.2633   -0.1115   -1.1441  C  0  0     0  0  0  0  0  0\n   -2.7669    0.3471   -0.1060  O  0  0     0  0  0  0  0  0\n   -0.8677   -0.3675   -1.1302  N  0  0     0  0  0  0  0  0\n   -0.0784   -0.1102    0.0233  C  0  0     0  0  0  0  0  0\n   -0.0983    1.3383    0.4594  C  0  0     0  0  0  0  0  0\n   -0.6062   -0.9189    1.1865  C  0  0     0  0  0  0  0  0\n    1.3359   -0.4351   -0.2792  C  0  0     0  0  0  0  0  0\n    2.3768   -0.2817    0.6811  N  0  0     0  0  0  0  0  0\n    3.7206   -0.6321    0.2680  C  0  0     0  0  0  0  0  0\n    1.6130   -0.8606   -1.4290  O  0  0     0  0  0  0  0  0\n   -4.1740   -0.5557   -2.0311  H  0  0     0  0  0  0  0  0\n   -3.0622    0.5193   -2.9975  H  0  0     0  0  0  0  0  0\n   -2.7917   -1.2329   -2.9234  H  0  0     0  0  0  0  0  0\n   -0.4361   -0.7491   -1.9875  H  0  0     0  0  0  0  0  0\n    0.6829    1.4408    1.2414  H  0  0     0  0  0  0  0  0\n   -1.0677    1.5647    0.9661  H  0  0     0  0  0  0  0  0\n    0.1521    2.0406   -0.3417  H  0  0     0  0  0  0  0  0\n    0.2125   -1.0189    1.9441  H  0  0     0  0  0  0  0  0\n   -1.3940   -0.3072    1.6677  H  0  0     0  0  0  0  0  0\n   -1.0463   -1.8739    0.8952  H  0  0     0  0  0  0  0  0\n    2.1536    0.0661    1.6224  H  0  0     0  0  0  0  0  0\n    3.7095   -1.5129   -0.3874  H  0  0     0  0  0  0  0  0\n    4.1233    0.2161   -0.3497  H  0  0     0  0  0  0  0  0\n    4.3565   -0.7589    1.1630  H  0  0     0  0  0  0  0  0\n  1  2  1  0  0  0  0\n  1 12  1  0  0  0  0\n  1 13  1  0  0  0  0\n  1 14  1  0  0  0  0\n  2  3  2  0  0  0  0\n  2  4  1  0  0  0  0\n  4  5  1  0  0  0  0\n  4 15  1  0  0  0  0\n  5  6  1  0  0  0  0\n  5  7  1  0  0  0  0\n  5  8  1  0  0  0  0\n  6 16  1  0  0  0  0\n  6 17  1  0  0  0  0\n  6 18  1  0  0  0  0\n  7 19  1  0  0  0  0\n  7 20  1  0  0  0  0\n  7 21  1  0  0  0  0\n  8  9  1  0  0  0  0\n  8 11  2  0  0  0  0\n  9 10  1  0  0  0  0\n  9 22  1  0  0  0  0\n 10 23  1  0  0  0  0\n 10 24  1  0  0  0  0\n 10 25  1  0  0  0  0\n",
           "type": "blob"
          }
         ],
         "kwargs": {
          "defaultRepresentation": true,
          "ext": "sdf"
         },
         "methodName": "loadFile",
         "reconstruc_color_scheme": false,
         "target": "Stage",
         "type": "call_method"
        }
       ],
       "_ngl_original_stage_parameters": {
        "ambientColor": 14540253,
        "ambientIntensity": 0.2,
        "backgroundColor": "white",
        "cameraEyeSep": 0.3,
        "cameraFov": 40,
        "cameraType": "perspective",
        "clipDist": 10,
        "clipFar": 100,
        "clipNear": 0,
        "fogFar": 100,
        "fogNear": 50,
        "hoverTimeout": 0,
        "impostor": true,
        "lightColor": 14540253,
        "lightIntensity": 1,
        "mousePreset": "default",
        "panSpeed": 1,
        "quality": "medium",
        "rotateSpeed": 2,
        "sampleLevel": 0,
        "tooltip": true,
        "workerDefault": true,
        "zoomSpeed": 1.2
       },
       "_ngl_repr_dict": {
        "0": {
         "0": {
          "params": {
           "aspectRatio": 1.5,
           "assembly": "default",
           "bondScale": 0.3,
           "bondSpacing": 0.75,
           "clipCenter": {
            "x": 0,
            "y": 0,
            "z": 0
           },
           "clipNear": 0,
           "clipRadius": 0,
           "colorMode": "hcl",
           "colorReverse": false,
           "colorScale": "",
           "colorScheme": "element",
           "colorValue": 9474192,
           "cylinderOnly": false,
           "defaultAssembly": "",
           "depthWrite": true,
           "diffuse": 16777215,
           "diffuseInterior": false,
           "disableImpostor": false,
           "disablePicking": false,
           "flatShaded": false,
           "interiorColor": 2236962,
           "interiorDarkening": 0,
           "lazy": false,
           "lineOnly": false,
           "linewidth": 2,
           "matrix": {
            "elements": [
             1,
             0,
             0,
             0,
             0,
             1,
             0,
             0,
             0,
             0,
             1,
             0,
             0,
             0,
             0,
             1
            ]
           },
           "metalness": 0,
           "multipleBond": "off",
           "opacity": 1,
           "openEnded": true,
           "quality": "high",
           "radialSegments": 20,
           "radiusData": {},
           "radiusScale": 2,
           "radiusSize": 0.15,
           "radiusType": "size",
           "roughness": 0.4,
           "sele": "",
           "side": "double",
           "sphereDetail": 2,
           "useInteriorColor": true,
           "visible": true,
           "wireframe": false
          },
          "type": "ball+stick"
         }
        }
       },
       "_ngl_serialize": false,
       "_ngl_version": "2.0.0-dev.36",
       "_ngl_view_id": [
        "D2A18CB4-7496-4A8D-A373-DEFDA6121102"
       ],
       "_player_dict": {},
       "_scene_position": {},
       "_scene_rotation": {},
       "_synced_model_ids": [],
       "_synced_repr_model_ids": [],
       "_view_height": "",
       "_view_width": "",
       "background": "white",
       "frame": 0,
       "gui_style": null,
       "layout": "IPY_MODEL_31f77add9a624a08808c805a6dc6fff5",
       "max_frame": 0,
       "n_components": 1,
       "picked": {}
      }
     },
     "5253afd9527d4290802eae41cccba3bd": {
      "model_module": "@jupyter-widgets/base",
      "model_module_version": "1.2.0",
      "model_name": "LayoutModel",
      "state": {}
     },
     "52e917cf695444a48de638cac737c699": {
      "model_module": "@jupyter-widgets/controls",
      "model_module_version": "1.5.0",
      "model_name": "ButtonModel",
      "state": {
       "icon": "compress",
       "layout": "IPY_MODEL_2750c434305d43bfa4dee1f7332b5545",
       "style": "IPY_MODEL_e204fdcb856b47eb8f1318aff7108cdd"
      }
     },
     "5341278e072f47c487d6b519a273f171": {
      "model_module": "@jupyter-widgets/base",
      "model_module_version": "1.2.0",
      "model_name": "LayoutModel",
      "state": {}
     },
     "5452f4a3007a40e1b42447be5e7019af": {
      "model_module": "@jupyter-widgets/controls",
      "model_module_version": "1.5.0",
      "model_name": "ButtonModel",
      "state": {
       "icon": "compress",
       "layout": "IPY_MODEL_163b75b79e394439bf35dcbd9d01cebb",
       "style": "IPY_MODEL_f86dd3c9cfd24c36af159e59ce9c54fd"
      }
     },
     "558895b2b57644ae92e500cc167ebf53": {
      "model_module": "@jupyter-widgets/controls",
      "model_module_version": "1.5.0",
      "model_name": "HBoxModel",
      "state": {
       "children": [
        "IPY_MODEL_e720a46f98074924a72009320f4dd901",
        "IPY_MODEL_c6fd40ac39f9474e80a7a8d9411f3131"
       ],
       "layout": "IPY_MODEL_714031bf7c4a486f8bea61fabb30d29b"
      }
     },
     "561a23301cb1496e8759a9465e1378fe": {
      "model_module": "@jupyter-widgets/base",
      "model_module_version": "1.2.0",
      "model_name": "LayoutModel",
      "state": {}
     },
     "56a428064efd4a49ae4449d344177102": {
      "model_module": "@jupyter-widgets/controls",
      "model_module_version": "1.5.0",
      "model_name": "HBoxModel",
      "state": {
       "children": [
        "IPY_MODEL_0593f816aeae483e8ca13439260fb6b7",
        "IPY_MODEL_a5f10e1ab35e4b42b8fc7eb73492df4c"
       ],
       "layout": "IPY_MODEL_314de7f7ed6141fd9c70621443fa0535"
      }
     },
     "5761b749d00943bbb829ba2541884b28": {
      "model_module": "@jupyter-widgets/controls",
      "model_module_version": "1.5.0",
      "model_name": "IntSliderModel",
      "state": {
       "layout": "IPY_MODEL_a3d4851778fe4d2a9b2dfdc3a9b0bc9e",
       "max": 0,
       "style": "IPY_MODEL_1341e56cda3d4c87b111d504da539484"
      }
     },
     "585d006768eb4fa596ca6715940e6fe8": {
      "model_module": "@jupyter-widgets/controls",
      "model_module_version": "1.5.0",
      "model_name": "IntSliderModel",
      "state": {
       "layout": "IPY_MODEL_f8d72e32c1fb44279be5925a8c1a9960",
       "max": 0,
       "style": "IPY_MODEL_95756d0557ef4581b8680787b92f7387"
      }
     },
     "5ce0729568334fa5935e8090106b378b": {
      "model_module": "@jupyter-widgets/base",
      "model_module_version": "1.2.0",
      "model_name": "LayoutModel",
      "state": {}
     },
     "5d264479e8d44274834f88fd6c20e4ae": {
      "model_module": "@jupyter-widgets/controls",
      "model_module_version": "1.5.0",
      "model_name": "LinkModel",
      "state": {
       "source": [
        "IPY_MODEL_a5f10e1ab35e4b42b8fc7eb73492df4c",
        "max"
       ],
       "target": [
        "IPY_MODEL_d8b1c98b3f214f80abf5c60065bacdd2",
        "max_frame"
       ]
      }
     },
     "5f8f534bec4648bcadbb482d98bf97e8": {
      "model_module": "@jupyter-widgets/controls",
      "model_module_version": "1.5.0",
      "model_name": "LinkModel",
      "state": {
       "source": [
        "IPY_MODEL_105438553f3a4839ad495d6ec75dfcc4",
        "value"
       ],
       "target": [
        "IPY_MODEL_91dfe90627f242baa4f0181ba9cb05ea",
        "frame"
       ]
      }
     },
     "5faf98f9a0544a33b8f53f917782263e": {
      "model_module": "@jupyter-widgets/base",
      "model_module_version": "1.2.0",
      "model_name": "LayoutModel",
      "state": {}
     },
     "61562a9e1d7144ac86d0249c66e1c041": {
      "model_module": "@jupyter-widgets/controls",
      "model_module_version": "1.5.0",
      "model_name": "LinkModel",
      "state": {
       "source": [
        "IPY_MODEL_105438553f3a4839ad495d6ec75dfcc4",
        "max"
       ],
       "target": [
        "IPY_MODEL_91dfe90627f242baa4f0181ba9cb05ea",
        "max_frame"
       ]
      }
     },
     "61813e930a414e71b0e43333fcf50396": {
      "model_module": "@jupyter-widgets/controls",
      "model_module_version": "1.5.0",
      "model_name": "DescriptionStyleModel",
      "state": {
       "description_width": ""
      }
     },
     "64af9d39a3fb4da1951842031c1e4510": {
      "model_module": "@jupyter-widgets/base",
      "model_module_version": "1.2.0",
      "model_name": "LayoutModel",
      "state": {}
     },
     "65beb52c00384174913ccfadbd3c7632": {
      "model_module": "@jupyter-widgets/controls",
      "model_module_version": "1.5.0",
      "model_name": "ButtonModel",
      "state": {
       "icon": "compress",
       "layout": "IPY_MODEL_2a92ee71f93b4aa0ad0ceb6fd33c7b99",
       "style": "IPY_MODEL_fa582518984541c5ac36b0ec76d34c41"
      }
     },
     "671d48deb76f4d2a85fca97bb46e4762": {
      "model_module": "nglview-js-widgets",
      "model_module_version": "3.0.1",
      "model_name": "ColormakerRegistryModel",
      "state": {
       "_msg_ar": [],
       "_msg_q": [],
       "_ready": true,
       "layout": "IPY_MODEL_0e336ea60cf947a3890a401970e94a13"
      }
     },
     "68e3d0e93f144b26b0a028bc83043173": {
      "model_module": "@jupyter-widgets/controls",
      "model_module_version": "1.5.0",
      "model_name": "PlayModel",
      "state": {
       "layout": "IPY_MODEL_9584aae5283f48f6afbd974d497d5bd5",
       "max": 0,
       "style": "IPY_MODEL_327fbadf853343e9a23afcef9496fab0"
      }
     },
     "692b2ed437314a68a32e2adf86fa4eeb": {
      "model_module": "@jupyter-widgets/controls",
      "model_module_version": "1.5.0",
      "model_name": "PlayModel",
      "state": {
       "layout": "IPY_MODEL_4972a6274f7e47b0aa01e291a5726c21",
       "max": 0,
       "style": "IPY_MODEL_062050859ba649f080f75a305acf70da"
      }
     },
     "6d17d38f0a8e45e69b910d5b0521fa3d": {
      "model_module": "@jupyter-widgets/controls",
      "model_module_version": "1.5.0",
      "model_name": "HBoxModel",
      "state": {
       "children": [
        "IPY_MODEL_68e3d0e93f144b26b0a028bc83043173",
        "IPY_MODEL_bfd665279a284bbab157769d2677909e"
       ],
       "layout": "IPY_MODEL_2eaccf13358940cf9bef640fc53858ae"
      }
     },
     "6f06b412f0af40cab5640bf21e3fab23": {
      "model_module": "@jupyter-widgets/controls",
      "model_module_version": "1.5.0",
      "model_name": "ButtonModel",
      "state": {
       "icon": "compress",
       "layout": "IPY_MODEL_f77ccc452b69401b837f8dadca027be2",
       "style": "IPY_MODEL_4b38dfba3dc6468385f242a8c46ca204"
      }
     },
     "6fd6f59981094aecb6f923ffc6f75e9d": {
      "model_module": "@jupyter-widgets/base",
      "model_module_version": "1.2.0",
      "model_name": "LayoutModel",
      "state": {}
     },
     "703a429f8f0d4574a88d65a873fdad78": {
      "model_module": "nglview-js-widgets",
      "model_module_version": "3.0.1",
      "model_name": "NGLModel",
      "state": {
       "_camera_orientation": [
        18.435485762718002,
        0,
        0,
        0,
        0,
        18.435485762718002,
        0,
        0,
        0,
        0,
        18.435485762718002,
        0,
        -0.2803500294685364,
        -0.9233499765396118,
        -1.6167999431490898,
        1
       ],
       "_camera_str": "orthographic",
       "_gui_theme": null,
       "_ibtn_fullscreen": "IPY_MODEL_8bd50da9d23141528b5dad8ab2b2b062",
       "_igui": null,
       "_iplayer": "IPY_MODEL_6d17d38f0a8e45e69b910d5b0521fa3d",
       "_ngl_color_dict": {},
       "_ngl_coordinate_resource": {},
       "_ngl_full_stage_parameters": {
        "ambientColor": 14540253,
        "ambientIntensity": 0.2,
        "backgroundColor": "white",
        "cameraEyeSep": 0.3,
        "cameraFov": 40,
        "cameraType": "perspective",
        "clipDist": 10,
        "clipFar": 100,
        "clipNear": 0,
        "fogFar": 100,
        "fogNear": 50,
        "hoverTimeout": 0,
        "impostor": true,
        "lightColor": 14540253,
        "lightIntensity": 1,
        "mousePreset": "default",
        "panSpeed": 1,
        "quality": "medium",
        "rotateSpeed": 2,
        "sampleLevel": 0,
        "tooltip": true,
        "workerDefault": true,
        "zoomSpeed": 1.2
       },
       "_ngl_msg_archive": [
        {
         "args": [
          {
           "binary": false,
           "data": "\nQCElemental\n\n 10  9  0  0  0  0  0  0  0  0  0\n   -0.4899    1.7877    0.9210  C  0  0     0  0  0  0  0  0\n    0.8697    1.1810    1.9128  S  0  0     0  0  0  0  0  0\n    0.6876    1.5886    3.3621  O  0  0     0  0  0  0  0  0\n    1.0190   -0.6024    1.7322  C  0  0     0  0  0  0  0  0\n   -0.5376    2.8864    0.9644  H  0  0     0  0  0  0  0  0\n   -0.3234    1.5047   -0.1285  H  0  0     0  0  0  0  0  0\n   -1.4181    1.2954    1.2491  H  0  0     0  0  0  0  0  0\n    0.1487   -1.0397    1.1829  H  0  0     0  0  0  0  0  0\n    1.9788   -0.8261    1.2081  H  0  0     0  0  0  0  0  0\n    1.0525   -1.0377    2.7612  H  0  0     0  0  0  0  0  0\n  1  2  1  0  0  0  0\n  1  5  1  0  0  0  0\n  1  6  1  0  0  0  0\n  1  7  1  0  0  0  0\n  2  3  2  0  0  0  0\n  2  4  1  0  0  0  0\n  4  8  1  0  0  0  0\n  4  9  1  0  0  0  0\n  4 10  1  0  0  0  0\n",
           "type": "blob"
          }
         ],
         "kwargs": {
          "defaultRepresentation": true,
          "ext": "sdf"
         },
         "methodName": "loadFile",
         "reconstruc_color_scheme": false,
         "target": "Stage",
         "type": "call_method"
        }
       ],
       "_ngl_original_stage_parameters": {
        "ambientColor": 14540253,
        "ambientIntensity": 0.2,
        "backgroundColor": "white",
        "cameraEyeSep": 0.3,
        "cameraFov": 40,
        "cameraType": "perspective",
        "clipDist": 10,
        "clipFar": 100,
        "clipNear": 0,
        "fogFar": 100,
        "fogNear": 50,
        "hoverTimeout": 0,
        "impostor": true,
        "lightColor": 14540253,
        "lightIntensity": 1,
        "mousePreset": "default",
        "panSpeed": 1,
        "quality": "medium",
        "rotateSpeed": 2,
        "sampleLevel": 0,
        "tooltip": true,
        "workerDefault": true,
        "zoomSpeed": 1.2
       },
       "_ngl_repr_dict": {
        "0": {
         "0": {
          "params": {
           "aspectRatio": 1.5,
           "assembly": "default",
           "bondScale": 0.3,
           "bondSpacing": 0.75,
           "clipCenter": {
            "x": 0,
            "y": 0,
            "z": 0
           },
           "clipNear": 0,
           "clipRadius": 0,
           "colorMode": "hcl",
           "colorReverse": false,
           "colorScale": "",
           "colorScheme": "element",
           "colorValue": 9474192,
           "cylinderOnly": false,
           "defaultAssembly": "",
           "depthWrite": true,
           "diffuse": 16777215,
           "diffuseInterior": false,
           "disableImpostor": false,
           "disablePicking": false,
           "flatShaded": false,
           "interiorColor": 2236962,
           "interiorDarkening": 0,
           "lazy": false,
           "lineOnly": false,
           "linewidth": 2,
           "matrix": {
            "elements": [
             1,
             0,
             0,
             0,
             0,
             1,
             0,
             0,
             0,
             0,
             1,
             0,
             0,
             0,
             0,
             1
            ]
           },
           "metalness": 0,
           "multipleBond": "off",
           "opacity": 1,
           "openEnded": true,
           "quality": "high",
           "radialSegments": 20,
           "radiusData": {},
           "radiusScale": 2,
           "radiusSize": 0.15,
           "radiusType": "size",
           "roughness": 0.4,
           "sele": "",
           "side": "double",
           "sphereDetail": 2,
           "useInteriorColor": true,
           "visible": true,
           "wireframe": false
          },
          "type": "ball+stick"
         }
        }
       },
       "_ngl_serialize": false,
       "_ngl_version": "2.0.0-dev.36",
       "_ngl_view_id": [
        "0081D813-15DE-4899-A2A5-2429565B63E0"
       ],
       "_player_dict": {},
       "_scene_position": {},
       "_scene_rotation": {},
       "_synced_model_ids": [],
       "_synced_repr_model_ids": [],
       "_view_height": "",
       "_view_width": "",
       "background": "white",
       "frame": 0,
       "gui_style": null,
       "layout": "IPY_MODEL_40c29e0fc60847afbc5fe1b56cfd0748",
       "max_frame": 0,
       "n_components": 1,
       "picked": {}
      }
     },
     "70d01c4660de47f2865f82bec2850140": {
      "model_module": "@jupyter-widgets/controls",
      "model_module_version": "1.5.0",
      "model_name": "LinkModel",
      "state": {
       "source": [
        "IPY_MODEL_9b2bcc44939e4f82957c07030409b3b3",
        "max"
       ],
       "target": [
        "IPY_MODEL_f593b1511ab4430f9d272bbc11f4307d",
        "max_frame"
       ]
      }
     },
     "714031bf7c4a486f8bea61fabb30d29b": {
      "model_module": "@jupyter-widgets/base",
      "model_module_version": "1.2.0",
      "model_name": "LayoutModel",
      "state": {}
     },
     "720091d5892649dbb9120ea87a10f662": {
      "model_module": "@jupyter-widgets/controls",
      "model_module_version": "1.5.0",
      "model_name": "LinkModel",
      "state": {
       "source": [
        "IPY_MODEL_b50af02486484926bc436a7bf2114238",
        "value"
       ],
       "target": [
        "IPY_MODEL_585d006768eb4fa596ca6715940e6fe8",
        "value"
       ]
      }
     },
     "7233ea0e09ed48338e62db56fb3fd2e0": {
      "model_module": "@jupyter-widgets/controls",
      "model_module_version": "1.5.0",
      "model_name": "LinkModel",
      "state": {
       "source": [
        "IPY_MODEL_692b2ed437314a68a32e2adf86fa4eeb",
        "value"
       ],
       "target": [
        "IPY_MODEL_51396080bac949a19d71c8c6b90d24cf",
        "frame"
       ]
      }
     },
     "73de773a281f41a4b18d38a1b48c8a74": {
      "model_module": "@jupyter-widgets/controls",
      "model_module_version": "1.5.0",
      "model_name": "ImageModel",
      "state": {
       "layout": "IPY_MODEL_b3ed279913d3476490722084534ade68",
       "width": "900.0"
      }
     },
     "74a92a81bea7455d9f736568af2d5e17": {
      "model_module": "@jupyter-widgets/controls",
      "model_module_version": "1.5.0",
      "model_name": "ButtonStyleModel",
      "state": {}
     },
     "75a4a6461d0b4ac8966bd593eaa0a3d7": {
      "model_module": "@jupyter-widgets/base",
      "model_module_version": "1.2.0",
      "model_name": "LayoutModel",
      "state": {}
     },
     "76f5f67689e34e3fb8bdc58c216cc8b6": {
      "model_module": "@jupyter-widgets/controls",
      "model_module_version": "1.5.0",
      "model_name": "HBoxModel",
      "state": {
       "children": [
        "IPY_MODEL_b4236f1c902441e6a5899a7b1eabae31",
        "IPY_MODEL_4a2122d9417f4e8facf5d803cff8bfbf"
       ],
       "layout": "IPY_MODEL_850af51bf91c4966b2b51dbecc59e82e"
      }
     },
     "773d96bcd5e44d048f2cd22f2d721696": {
      "model_module": "@jupyter-widgets/base",
      "model_module_version": "1.2.0",
      "model_name": "LayoutModel",
      "state": {}
     },
     "78cfcf1584cd498f9abd88c46b0356c1": {
      "model_module": "@jupyter-widgets/base",
      "model_module_version": "1.2.0",
      "model_name": "LayoutModel",
      "state": {}
     },
     "78d64a3c0e7d4278a94bb4c8d1a6c046": {
      "model_module": "nglview-js-widgets",
      "model_module_version": "3.0.1",
      "model_name": "NGLModel",
      "state": {
       "_camera_orientation": [
        -3.1982490509264654,
        3.5500402015306283,
        -12.307319413829166,
        0,
        -12.056800176857866,
        3.448913248314663,
        4.127985038632191,
        0,
        4.325097233799452,
        12.239440573464435,
        2.406516558236059,
        0,
        -0.2803500294685364,
        -0.9233499765396118,
        -1.6167999431490898,
        1
       ],
       "_camera_str": "orthographic",
       "_gui_theme": null,
       "_ibtn_fullscreen": "IPY_MODEL_1604bf9e849147439d647456ad64100b",
       "_igui": null,
       "_iplayer": "IPY_MODEL_d5f4ffea646646b08ea78caaa1f67432",
       "_ngl_color_dict": {},
       "_ngl_coordinate_resource": {},
       "_ngl_full_stage_parameters": {
        "ambientColor": 14540253,
        "ambientIntensity": 0.2,
        "backgroundColor": "white",
        "cameraEyeSep": 0.3,
        "cameraFov": 40,
        "cameraType": "perspective",
        "clipDist": 10,
        "clipFar": 100,
        "clipNear": 0,
        "fogFar": 100,
        "fogNear": 50,
        "hoverTimeout": 0,
        "impostor": true,
        "lightColor": 14540253,
        "lightIntensity": 1,
        "mousePreset": "default",
        "panSpeed": 1,
        "quality": "medium",
        "rotateSpeed": 2,
        "sampleLevel": 0,
        "tooltip": true,
        "workerDefault": true,
        "zoomSpeed": 1.2
       },
       "_ngl_msg_archive": [
        {
         "args": [
          {
           "binary": false,
           "data": "\nQCElemental\n\n 10  9  0  0  0  0  0  0  0  0  0\n   -0.4899    1.7877    0.9210  C  0  0     0  0  0  0  0  0\n    0.8697    1.1810    1.9128  S  0  0     0  0  0  0  0  0\n    0.6876    1.5886    3.3621  O  0  0     0  0  0  0  0  0\n    1.0190   -0.6024    1.7322  C  0  0     0  0  0  0  0  0\n   -0.5376    2.8864    0.9644  H  0  0     0  0  0  0  0  0\n   -0.3234    1.5047   -0.1285  H  0  0     0  0  0  0  0  0\n   -1.4181    1.2954    1.2491  H  0  0     0  0  0  0  0  0\n    0.1487   -1.0397    1.1829  H  0  0     0  0  0  0  0  0\n    1.9788   -0.8261    1.2081  H  0  0     0  0  0  0  0  0\n    1.0525   -1.0377    2.7612  H  0  0     0  0  0  0  0  0\n  1  2  1  0  0  0  0\n  1  5  1  0  0  0  0\n  1  6  1  0  0  0  0\n  1  7  1  0  0  0  0\n  2  3  2  0  0  0  0\n  2  4  1  0  0  0  0\n  4  8  1  0  0  0  0\n  4  9  1  0  0  0  0\n  4 10  1  0  0  0  0\n",
           "type": "blob"
          }
         ],
         "kwargs": {
          "defaultRepresentation": true,
          "ext": "sdf"
         },
         "methodName": "loadFile",
         "reconstruc_color_scheme": false,
         "target": "Stage",
         "type": "call_method"
        }
       ],
       "_ngl_original_stage_parameters": {
        "ambientColor": 14540253,
        "ambientIntensity": 0.2,
        "backgroundColor": "white",
        "cameraEyeSep": 0.3,
        "cameraFov": 40,
        "cameraType": "perspective",
        "clipDist": 10,
        "clipFar": 100,
        "clipNear": 0,
        "fogFar": 100,
        "fogNear": 50,
        "hoverTimeout": 0,
        "impostor": true,
        "lightColor": 14540253,
        "lightIntensity": 1,
        "mousePreset": "default",
        "panSpeed": 1,
        "quality": "medium",
        "rotateSpeed": 2,
        "sampleLevel": 0,
        "tooltip": true,
        "workerDefault": true,
        "zoomSpeed": 1.2
       },
       "_ngl_repr_dict": {
        "0": {
         "0": {
          "params": {
           "aspectRatio": 1.5,
           "assembly": "default",
           "bondScale": 0.3,
           "bondSpacing": 0.75,
           "clipCenter": {
            "x": 0,
            "y": 0,
            "z": 0
           },
           "clipNear": 0,
           "clipRadius": 0,
           "colorMode": "hcl",
           "colorReverse": false,
           "colorScale": "",
           "colorScheme": "element",
           "colorValue": 9474192,
           "cylinderOnly": false,
           "defaultAssembly": "",
           "depthWrite": true,
           "diffuse": 16777215,
           "diffuseInterior": false,
           "disableImpostor": false,
           "disablePicking": false,
           "flatShaded": false,
           "interiorColor": 2236962,
           "interiorDarkening": 0,
           "lazy": false,
           "lineOnly": false,
           "linewidth": 2,
           "matrix": {
            "elements": [
             1,
             0,
             0,
             0,
             0,
             1,
             0,
             0,
             0,
             0,
             1,
             0,
             0,
             0,
             0,
             1
            ]
           },
           "metalness": 0,
           "multipleBond": "off",
           "opacity": 1,
           "openEnded": true,
           "quality": "high",
           "radialSegments": 20,
           "radiusData": {},
           "radiusScale": 2,
           "radiusSize": 0.15,
           "radiusType": "size",
           "roughness": 0.4,
           "sele": "",
           "side": "double",
           "sphereDetail": 2,
           "useInteriorColor": true,
           "visible": true,
           "wireframe": false
          },
          "type": "ball+stick"
         }
        }
       },
       "_ngl_serialize": false,
       "_ngl_version": "2.0.0-dev.36",
       "_ngl_view_id": [
        "08DB5EDF-4235-4AA1-9ED8-BD65036E860A"
       ],
       "_player_dict": {},
       "_scene_position": {},
       "_scene_rotation": {},
       "_synced_model_ids": [],
       "_synced_repr_model_ids": [],
       "_view_height": "",
       "_view_width": "",
       "background": "white",
       "frame": 0,
       "gui_style": null,
       "layout": "IPY_MODEL_335658c9a6db4e54b5fc29be9709ab35",
       "max_frame": 0,
       "n_components": 1,
       "picked": {}
      }
     },
     "791d09663489458db158dd75741427f1": {
      "model_module": "@jupyter-widgets/controls",
      "model_module_version": "1.5.0",
      "model_name": "SliderStyleModel",
      "state": {
       "description_width": ""
      }
     },
     "79b09dc4a5d44d8fa49b75db71fd1e0c": {
      "model_module": "@jupyter-widgets/controls",
      "model_module_version": "1.5.0",
      "model_name": "LinkModel",
      "state": {
       "source": [
        "IPY_MODEL_cce2e4454d2a41fca4aeb03515c504e4",
        "value"
       ],
       "target": [
        "IPY_MODEL_adc606bd524748e8b19c33dbde458fc1",
        "value"
       ]
      }
     },
     "79dad1adabd24e198f97c340f1dc18fc": {
      "model_module": "@jupyter-widgets/base",
      "model_module_version": "1.2.0",
      "model_name": "LayoutModel",
      "state": {}
     },
     "79f0dd51e3024a0eabe0020b70952f88": {
      "model_module": "@jupyter-widgets/controls",
      "model_module_version": "1.5.0",
      "model_name": "ButtonModel",
      "state": {
       "icon": "compress",
       "layout": "IPY_MODEL_4abef43ae0e34082a27c76e8cd982335",
       "style": "IPY_MODEL_109e1e197e134996a155968d015a8442"
      }
     },
     "7ac07e9b5d30466babb728aac3886242": {
      "model_module": "@jupyter-widgets/controls",
      "model_module_version": "1.5.0",
      "model_name": "HBoxModel",
      "state": {
       "children": [
        "IPY_MODEL_4e7ed2b6c98a4575a0e2fa90410e815b",
        "IPY_MODEL_9df1c8bff6a84afd899197179863f1d8"
       ],
       "layout": "IPY_MODEL_75a4a6461d0b4ac8966bd593eaa0a3d7"
      }
     },
     "7b0d01923f144ce1b8b988e18867b75b": {
      "model_module": "@jupyter-widgets/controls",
      "model_module_version": "1.5.0",
      "model_name": "LinkModel",
      "state": {
       "source": [
        "IPY_MODEL_4e7ed2b6c98a4575a0e2fa90410e815b",
        "value"
       ],
       "target": [
        "IPY_MODEL_9df1c8bff6a84afd899197179863f1d8",
        "value"
       ]
      }
     },
     "7c0a87240465404f8ad4593b5cbb4182": {
      "model_module": "@jupyter-widgets/base",
      "model_module_version": "1.2.0",
      "model_name": "LayoutModel",
      "state": {}
     },
     "7c275b1a2cec4406a7bf4000d4b6c781": {
      "model_module": "@jupyter-widgets/controls",
      "model_module_version": "1.5.0",
      "model_name": "ButtonStyleModel",
      "state": {}
     },
     "7d858d8562dc483f89b1aedccd024218": {
      "model_module": "nglview-js-widgets",
      "model_module_version": "3.0.1",
      "model_name": "ColormakerRegistryModel",
      "state": {
       "_msg_ar": [],
       "_msg_q": [],
       "_ready": true,
       "layout": "IPY_MODEL_b656d0f08314402598cfc6ed00526e66"
      }
     },
     "7d9808929adc4c23b98c238a8fa1059b": {
      "model_module": "@jupyter-widgets/controls",
      "model_module_version": "1.5.0",
      "model_name": "LinkModel",
      "state": {
       "source": [
        "IPY_MODEL_11e225f6faae434db5c4a2ff84670217",
        "value"
       ],
       "target": [
        "IPY_MODEL_30b6635b760549f9b82bf74a346a7f94",
        "frame"
       ]
      }
     },
     "80c6f17cce444b00b390f592efb242e3": {
      "model_module": "nglview-js-widgets",
      "model_module_version": "3.0.1",
      "model_name": "NGLModel",
      "state": {
       "_camera_orientation": [
        23.367401165300294,
        0,
        0,
        0,
        0,
        23.367401165300294,
        0,
        0,
        0,
        0,
        23.367401165300294,
        0,
        -0.2803500294685364,
        -0.9233499765396118,
        -1.6167999431490898,
        1
       ],
       "_camera_str": "orthographic",
       "_gui_theme": null,
       "_ibtn_fullscreen": "IPY_MODEL_65beb52c00384174913ccfadbd3c7632",
       "_igui": null,
       "_iplayer": "IPY_MODEL_f70ca9a0f32c4759962c4032bd4f1a31",
       "_ngl_color_dict": {},
       "_ngl_coordinate_resource": {},
       "_ngl_full_stage_parameters": {
        "ambientColor": 14540253,
        "ambientIntensity": 0.2,
        "backgroundColor": "white",
        "cameraEyeSep": 0.3,
        "cameraFov": 40,
        "cameraType": "perspective",
        "clipDist": 10,
        "clipFar": 100,
        "clipNear": 0,
        "fogFar": 100,
        "fogNear": 50,
        "hoverTimeout": 0,
        "impostor": true,
        "lightColor": 14540253,
        "lightIntensity": 1,
        "mousePreset": "default",
        "panSpeed": 1,
        "quality": "medium",
        "rotateSpeed": 2,
        "sampleLevel": 0,
        "tooltip": true,
        "workerDefault": true,
        "zoomSpeed": 1.2
       },
       "_ngl_msg_archive": [
        {
         "args": [
          {
           "binary": false,
           "data": "\nQCElemental\n\n 10  9  0  0  0  0  0  0  0  0  0\n   -0.4899    1.7877    0.9210  C  0  0     0  0  0  0  0  0\n    0.8697    1.1810    1.9128  S  0  0     0  0  0  0  0  0\n    0.6876    1.5886    3.3621  O  0  0     0  0  0  0  0  0\n    1.0190   -0.6024    1.7322  C  0  0     0  0  0  0  0  0\n   -0.5376    2.8864    0.9644  H  0  0     0  0  0  0  0  0\n   -0.3234    1.5047   -0.1285  H  0  0     0  0  0  0  0  0\n   -1.4181    1.2954    1.2491  H  0  0     0  0  0  0  0  0\n    0.1487   -1.0397    1.1829  H  0  0     0  0  0  0  0  0\n    1.9788   -0.8261    1.2081  H  0  0     0  0  0  0  0  0\n    1.0525   -1.0377    2.7612  H  0  0     0  0  0  0  0  0\n  1  2  1  0  0  0  0\n  1  5  1  0  0  0  0\n  1  6  1  0  0  0  0\n  1  7  1  0  0  0  0\n  2  3  2  0  0  0  0\n  2  4  1  0  0  0  0\n  4  8  1  0  0  0  0\n  4  9  1  0  0  0  0\n  4 10  1  0  0  0  0\n",
           "type": "blob"
          }
         ],
         "kwargs": {
          "defaultRepresentation": true,
          "ext": "sdf"
         },
         "methodName": "loadFile",
         "reconstruc_color_scheme": false,
         "target": "Stage",
         "type": "call_method"
        }
       ],
       "_ngl_original_stage_parameters": {
        "ambientColor": 14540253,
        "ambientIntensity": 0.2,
        "backgroundColor": "white",
        "cameraEyeSep": 0.3,
        "cameraFov": 40,
        "cameraType": "perspective",
        "clipDist": 10,
        "clipFar": 100,
        "clipNear": 0,
        "fogFar": 100,
        "fogNear": 50,
        "hoverTimeout": 0,
        "impostor": true,
        "lightColor": 14540253,
        "lightIntensity": 1,
        "mousePreset": "default",
        "panSpeed": 1,
        "quality": "medium",
        "rotateSpeed": 2,
        "sampleLevel": 0,
        "tooltip": true,
        "workerDefault": true,
        "zoomSpeed": 1.2
       },
       "_ngl_repr_dict": {
        "0": {
         "0": {
          "params": {
           "aspectRatio": 1.5,
           "assembly": "default",
           "bondScale": 0.3,
           "bondSpacing": 0.75,
           "clipCenter": {
            "x": 0,
            "y": 0,
            "z": 0
           },
           "clipNear": 0,
           "clipRadius": 0,
           "colorMode": "hcl",
           "colorReverse": false,
           "colorScale": "",
           "colorScheme": "element",
           "colorValue": 9474192,
           "cylinderOnly": false,
           "defaultAssembly": "",
           "depthWrite": true,
           "diffuse": 16777215,
           "diffuseInterior": false,
           "disableImpostor": false,
           "disablePicking": false,
           "flatShaded": false,
           "interiorColor": 2236962,
           "interiorDarkening": 0,
           "lazy": false,
           "lineOnly": false,
           "linewidth": 2,
           "matrix": {
            "elements": [
             1,
             0,
             0,
             0,
             0,
             1,
             0,
             0,
             0,
             0,
             1,
             0,
             0,
             0,
             0,
             1
            ]
           },
           "metalness": 0,
           "multipleBond": "off",
           "opacity": 1,
           "openEnded": true,
           "quality": "high",
           "radialSegments": 20,
           "radiusData": {},
           "radiusScale": 2,
           "radiusSize": 0.15,
           "radiusType": "size",
           "roughness": 0.4,
           "sele": "",
           "side": "double",
           "sphereDetail": 2,
           "useInteriorColor": true,
           "visible": true,
           "wireframe": false
          },
          "type": "ball+stick"
         }
        }
       },
       "_ngl_serialize": false,
       "_ngl_version": "2.0.0-dev.36",
       "_ngl_view_id": [
        "B32ECAA9-191C-4FFE-B1EF-B758F8A0F0A4"
       ],
       "_player_dict": {},
       "_scene_position": {},
       "_scene_rotation": {},
       "_synced_model_ids": [],
       "_synced_repr_model_ids": [],
       "_view_height": "",
       "_view_width": "",
       "background": "white",
       "frame": 0,
       "gui_style": null,
       "layout": "IPY_MODEL_33c09b0b353f4852b935c1598357778e",
       "max_frame": 0,
       "n_components": 1,
       "picked": {}
      }
     },
     "814fd1a114a849c3bbde8e380909faea": {
      "model_module": "@jupyter-widgets/controls",
      "model_module_version": "1.5.0",
      "model_name": "SliderStyleModel",
      "state": {
       "description_width": ""
      }
     },
     "820cc3bfc168470e99d1ed98bc078b65": {
      "model_module": "@jupyter-widgets/controls",
      "model_module_version": "1.5.0",
      "model_name": "LinkModel",
      "state": {
       "source": [
        "IPY_MODEL_459e7494ee104be7ace23b2faab8ea22",
        "max"
       ],
       "target": [
        "IPY_MODEL_f593b1511ab4430f9d272bbc11f4307d",
        "max_frame"
       ]
      }
     },
     "82803d82c78041e299feaac782591e9e": {
      "model_module": "nglview-js-widgets",
      "model_module_version": "3.0.1",
      "model_name": "NGLModel",
      "state": {
       "_camera_orientation": [
        15.996985732757338,
        0,
        0,
        0,
        0,
        15.996985732757338,
        0,
        0,
        0,
        0,
        15.996985732757338,
        0,
        0.7430999279022217,
        0.7586499750614166,
        0.08079999685287476,
        1
       ],
       "_camera_str": "orthographic",
       "_gui_theme": null,
       "_ibtn_fullscreen": "IPY_MODEL_ead1b2ef54e24276a92fe1042b550f2f",
       "_igui": null,
       "_iplayer": "IPY_MODEL_09736c3d2355407d837f7e50b00e48d7",
       "_ngl_color_dict": {},
       "_ngl_coordinate_resource": {},
       "_ngl_full_stage_parameters": {
        "ambientColor": 14540253,
        "ambientIntensity": 0.2,
        "backgroundColor": "white",
        "cameraEyeSep": 0.3,
        "cameraFov": 40,
        "cameraType": "perspective",
        "clipDist": 10,
        "clipFar": 100,
        "clipNear": 0,
        "fogFar": 100,
        "fogNear": 50,
        "hoverTimeout": 0,
        "impostor": true,
        "lightColor": 14540253,
        "lightIntensity": 1,
        "mousePreset": "default",
        "panSpeed": 1,
        "quality": "medium",
        "rotateSpeed": 2,
        "sampleLevel": 0,
        "tooltip": true,
        "workerDefault": true,
        "zoomSpeed": 1.2
       },
       "_ngl_msg_archive": [
        {
         "args": [
          {
           "binary": false,
           "data": "\nQCElemental\n\n  8  7  0  0  0  0  0  0  0  0  0\n   -1.1137   -1.3390    0.1491  C  0  0     0  0  0  0  0  0\n   -0.1742   -0.2602   -0.0358  N  0  0     0  0  0  0  0  0\n   -2.0582   -0.9653    0.6141  H  0  0     0  0  0  0  0  0\n   -0.7397   -2.1471    0.7964  H  0  0     0  0  0  0  0  0\n   -1.4261   -1.8077   -0.8147  H  0  0     0  0  0  0  0  0\n    0.3152   -0.3594   -0.9580  H  0  0     0  0  0  0  0  0\n   -0.7300    0.6298   -0.0259  H  0  0     0  0  0  0  0  0\n    0.5720   -0.2300    0.6865  H  0  0     0  0  0  0  0  0\n  1  2  1  0  0  0  0\n  1  3  1  0  0  0  0\n  1  4  1  0  0  0  0\n  1  5  1  0  0  0  0\n  2  6  1  0  0  0  0\n  2  7  1  0  0  0  0\n  2  8  1  0  0  0  0\n",
           "type": "blob"
          }
         ],
         "kwargs": {
          "defaultRepresentation": true,
          "ext": "sdf"
         },
         "methodName": "loadFile",
         "reconstruc_color_scheme": false,
         "target": "Stage",
         "type": "call_method"
        }
       ],
       "_ngl_original_stage_parameters": {
        "ambientColor": 14540253,
        "ambientIntensity": 0.2,
        "backgroundColor": "white",
        "cameraEyeSep": 0.3,
        "cameraFov": 40,
        "cameraType": "perspective",
        "clipDist": 10,
        "clipFar": 100,
        "clipNear": 0,
        "fogFar": 100,
        "fogNear": 50,
        "hoverTimeout": 0,
        "impostor": true,
        "lightColor": 14540253,
        "lightIntensity": 1,
        "mousePreset": "default",
        "panSpeed": 1,
        "quality": "medium",
        "rotateSpeed": 2,
        "sampleLevel": 0,
        "tooltip": true,
        "workerDefault": true,
        "zoomSpeed": 1.2
       },
       "_ngl_repr_dict": {
        "0": {
         "0": {
          "params": {
           "aspectRatio": 1.5,
           "assembly": "default",
           "bondScale": 0.3,
           "bondSpacing": 0.75,
           "clipCenter": {
            "x": 0,
            "y": 0,
            "z": 0
           },
           "clipNear": 0,
           "clipRadius": 0,
           "colorMode": "hcl",
           "colorReverse": false,
           "colorScale": "",
           "colorScheme": "element",
           "colorValue": 9474192,
           "cylinderOnly": false,
           "defaultAssembly": "",
           "depthWrite": true,
           "diffuse": 16777215,
           "diffuseInterior": false,
           "disableImpostor": false,
           "disablePicking": false,
           "flatShaded": false,
           "interiorColor": 2236962,
           "interiorDarkening": 0,
           "lazy": false,
           "lineOnly": false,
           "linewidth": 2,
           "matrix": {
            "elements": [
             1,
             0,
             0,
             0,
             0,
             1,
             0,
             0,
             0,
             0,
             1,
             0,
             0,
             0,
             0,
             1
            ]
           },
           "metalness": 0,
           "multipleBond": "off",
           "opacity": 1,
           "openEnded": true,
           "quality": "high",
           "radialSegments": 20,
           "radiusData": {},
           "radiusScale": 2,
           "radiusSize": 0.15,
           "radiusType": "size",
           "roughness": 0.4,
           "sele": "",
           "side": "double",
           "sphereDetail": 2,
           "useInteriorColor": true,
           "visible": true,
           "wireframe": false
          },
          "type": "ball+stick"
         }
        }
       },
       "_ngl_serialize": false,
       "_ngl_version": "2.0.0-dev.36",
       "_ngl_view_id": [
        "8F566C42-8D26-4A38-A585-4A77BD5578B2"
       ],
       "_player_dict": {},
       "_scene_position": {},
       "_scene_rotation": {},
       "_synced_model_ids": [],
       "_synced_repr_model_ids": [],
       "_view_height": "",
       "_view_width": "",
       "background": "white",
       "frame": 0,
       "gui_style": null,
       "layout": "IPY_MODEL_98bd74f1e9c74997b612ebe9f0c98169",
       "max_frame": 0,
       "n_components": 1,
       "picked": {}
      }
     },
     "8294dfae5bf0468fb57430ea3ad7d0a3": {
      "model_module": "@jupyter-widgets/base",
      "model_module_version": "1.2.0",
      "model_name": "LayoutModel",
      "state": {}
     },
     "8357575a975945bebea2581af0f2b6f0": {
      "model_module": "@jupyter-widgets/controls",
      "model_module_version": "1.5.0",
      "model_name": "ButtonStyleModel",
      "state": {}
     },
     "83b602f60f294efa9f3e2f3a95d5caa8": {
      "model_module": "@jupyter-widgets/controls",
      "model_module_version": "1.5.0",
      "model_name": "IntSliderModel",
      "state": {
       "layout": "IPY_MODEL_01b07e73e4434318be368f99f59b7dfc",
       "max": 0,
       "style": "IPY_MODEL_791d09663489458db158dd75741427f1"
      }
     },
     "84f07f86f4f648869a8feb37dcd7ef4b": {
      "model_module": "@jupyter-widgets/controls",
      "model_module_version": "1.5.0",
      "model_name": "ButtonModel",
      "state": {
       "icon": "compress",
       "layout": "IPY_MODEL_8fef3415e08d4104aca838cdab116f20",
       "style": "IPY_MODEL_9d8dcec14a574eeaae29533eb210e0de"
      }
     },
     "84ff19bd5ea24a3ca37758ee0ead507f": {
      "model_module": "@jupyter-widgets/controls",
      "model_module_version": "1.5.0",
      "model_name": "DescriptionStyleModel",
      "state": {
       "description_width": ""
      }
     },
     "850af51bf91c4966b2b51dbecc59e82e": {
      "model_module": "@jupyter-widgets/base",
      "model_module_version": "1.2.0",
      "model_name": "LayoutModel",
      "state": {}
     },
     "85fd3ea23a014ee09ebedd886bd49dc9": {
      "model_module": "@jupyter-widgets/controls",
      "model_module_version": "1.5.0",
      "model_name": "LinkModel",
      "state": {
       "source": [
        "IPY_MODEL_87f052b2db134f62aabc8f68536e5b16",
        "value"
       ],
       "target": [
        "IPY_MODEL_fa89328f2c5548939dbd9cfed4c65d00",
        "value"
       ]
      }
     },
     "878163b24a7243d5bc2b23167f742149": {
      "model_module": "@jupyter-widgets/base",
      "model_module_version": "1.2.0",
      "model_name": "LayoutModel",
      "state": {
       "width": "34px"
      }
     },
     "87f052b2db134f62aabc8f68536e5b16": {
      "model_module": "@jupyter-widgets/controls",
      "model_module_version": "1.5.0",
      "model_name": "PlayModel",
      "state": {
       "layout": "IPY_MODEL_d99b1eb743fb4333b6ca2af80ecbc35d",
       "max": 0,
       "style": "IPY_MODEL_d7e85de77c2c4cf48a4cfeafe9ca1bdd"
      }
     },
     "8973a21c05704ebebc1cfecc73d87f82": {
      "model_module": "@jupyter-widgets/base",
      "model_module_version": "1.2.0",
      "model_name": "LayoutModel",
      "state": {}
     },
     "8bd50da9d23141528b5dad8ab2b2b062": {
      "model_module": "@jupyter-widgets/controls",
      "model_module_version": "1.5.0",
      "model_name": "ButtonModel",
      "state": {
       "icon": "compress",
       "layout": "IPY_MODEL_fd7c82ae7d2e47139638a76b02c5b72f",
       "style": "IPY_MODEL_e8f4b951f8da4da880fc4c21fde3539a"
      }
     },
     "8ce72a245c16470483626e2a4a5ae094": {
      "model_module": "@jupyter-widgets/controls",
      "model_module_version": "1.5.0",
      "model_name": "LinkModel",
      "state": {
       "source": [
        "IPY_MODEL_0593f816aeae483e8ca13439260fb6b7",
        "value"
       ],
       "target": [
        "IPY_MODEL_a5f10e1ab35e4b42b8fc7eb73492df4c",
        "value"
       ]
      }
     },
     "8d989d263944461e9bfc26e10b2e9e4a": {
      "model_module": "@jupyter-widgets/controls",
      "model_module_version": "1.5.0",
      "model_name": "ButtonModel",
      "state": {
       "icon": "compress",
       "layout": "IPY_MODEL_878163b24a7243d5bc2b23167f742149",
       "style": "IPY_MODEL_3b69b2a2a4594246a9457ef8da561fe6"
      }
     },
     "8dc521a345a74b228e4e4d228ff7bc09": {
      "model_module": "@jupyter-widgets/controls",
      "model_module_version": "1.5.0",
      "model_name": "ButtonModel",
      "state": {
       "icon": "compress",
       "layout": "IPY_MODEL_48d2ae31d3c94ad485369a7b9a3417e9",
       "style": "IPY_MODEL_7c275b1a2cec4406a7bf4000d4b6c781"
      }
     },
     "8ea146848fd24a7795940c0af61d44f2": {
      "model_module": "@jupyter-widgets/controls",
      "model_module_version": "1.5.0",
      "model_name": "LinkModel",
      "state": {
       "source": [
        "IPY_MODEL_b50af02486484926bc436a7bf2114238",
        "max"
       ],
       "target": [
        "IPY_MODEL_78d64a3c0e7d4278a94bb4c8d1a6c046",
        "max_frame"
       ]
      }
     },
     "8edc7eda88fe45b2a4db920f3e60347f": {
      "model_module": "@jupyter-widgets/controls",
      "model_module_version": "1.5.0",
      "model_name": "LinkModel",
      "state": {
       "source": [
        "IPY_MODEL_2796716f23934e6cb519df39e0101c58",
        "max"
       ],
       "target": [
        "IPY_MODEL_82803d82c78041e299feaac782591e9e",
        "max_frame"
       ]
      }
     },
     "8f9bb14abe8b4b3daab967e51fdf9179": {
      "model_module": "@jupyter-widgets/controls",
      "model_module_version": "1.5.0",
      "model_name": "DescriptionStyleModel",
      "state": {
       "description_width": ""
      }
     },
     "8fef3415e08d4104aca838cdab116f20": {
      "model_module": "@jupyter-widgets/base",
      "model_module_version": "1.2.0",
      "model_name": "LayoutModel",
      "state": {
       "width": "34px"
      }
     },
     "90aefa5f01f04fbe9e254a2591b180c2": {
      "model_module": "@jupyter-widgets/controls",
      "model_module_version": "1.5.0",
      "model_name": "LinkModel",
      "state": {
       "source": [
        "IPY_MODEL_459e7494ee104be7ace23b2faab8ea22",
        "value"
       ],
       "target": [
        "IPY_MODEL_f593b1511ab4430f9d272bbc11f4307d",
        "frame"
       ]
      }
     },
     "90f1df20fc774d0dba2442a97d55d725": {
      "model_module": "@jupyter-widgets/base",
      "model_module_version": "1.2.0",
      "model_name": "LayoutModel",
      "state": {}
     },
     "91dfe90627f242baa4f0181ba9cb05ea": {
      "model_module": "nglview-js-widgets",
      "model_module_version": "3.0.1",
      "model_name": "NGLModel",
      "state": {
       "_camera_orientation": [
        18.435485762718002,
        0,
        0,
        0,
        0,
        18.435485762718002,
        0,
        0,
        0,
        0,
        18.435485762718002,
        0,
        -0.2803500294685364,
        -0.9233499765396118,
        -1.6167999431490898,
        1
       ],
       "_camera_str": "orthographic",
       "_gui_theme": null,
       "_ibtn_fullscreen": "IPY_MODEL_6f06b412f0af40cab5640bf21e3fab23",
       "_igui": null,
       "_iplayer": "IPY_MODEL_c0ff7bf66f5c49bd9ee1cb815770116c",
       "_ngl_color_dict": {},
       "_ngl_coordinate_resource": {},
       "_ngl_full_stage_parameters": {
        "ambientColor": 14540253,
        "ambientIntensity": 0.2,
        "backgroundColor": "white",
        "cameraEyeSep": 0.3,
        "cameraFov": 40,
        "cameraType": "perspective",
        "clipDist": 10,
        "clipFar": 100,
        "clipNear": 0,
        "fogFar": 100,
        "fogNear": 50,
        "hoverTimeout": 0,
        "impostor": true,
        "lightColor": 14540253,
        "lightIntensity": 1,
        "mousePreset": "default",
        "panSpeed": 1,
        "quality": "medium",
        "rotateSpeed": 2,
        "sampleLevel": 0,
        "tooltip": true,
        "workerDefault": true,
        "zoomSpeed": 1.2
       },
       "_ngl_msg_archive": [
        {
         "args": [
          {
           "binary": false,
           "data": "\nQCElemental\n\n 10  9  0  0  0  0  0  0  0  0  0\n   -0.4899    1.7877    0.9210  C  0  0     0  0  0  0  0  0\n    0.8697    1.1810    1.9128  S  0  0     0  0  0  0  0  0\n    0.6876    1.5886    3.3621  O  0  0     0  0  0  0  0  0\n    1.0190   -0.6024    1.7322  C  0  0     0  0  0  0  0  0\n   -0.5376    2.8864    0.9644  H  0  0     0  0  0  0  0  0\n   -0.3234    1.5047   -0.1285  H  0  0     0  0  0  0  0  0\n   -1.4181    1.2954    1.2491  H  0  0     0  0  0  0  0  0\n    0.1487   -1.0397    1.1829  H  0  0     0  0  0  0  0  0\n    1.9788   -0.8261    1.2081  H  0  0     0  0  0  0  0  0\n    1.0525   -1.0377    2.7612  H  0  0     0  0  0  0  0  0\n  1  2  1  0  0  0  0\n  1  5  1  0  0  0  0\n  1  6  1  0  0  0  0\n  1  7  1  0  0  0  0\n  2  3  2  0  0  0  0\n  2  4  1  0  0  0  0\n  4  8  1  0  0  0  0\n  4  9  1  0  0  0  0\n  4 10  1  0  0  0  0\n",
           "type": "blob"
          }
         ],
         "kwargs": {
          "defaultRepresentation": true,
          "ext": "sdf"
         },
         "methodName": "loadFile",
         "reconstruc_color_scheme": false,
         "target": "Stage",
         "type": "call_method"
        }
       ],
       "_ngl_original_stage_parameters": {
        "ambientColor": 14540253,
        "ambientIntensity": 0.2,
        "backgroundColor": "white",
        "cameraEyeSep": 0.3,
        "cameraFov": 40,
        "cameraType": "perspective",
        "clipDist": 10,
        "clipFar": 100,
        "clipNear": 0,
        "fogFar": 100,
        "fogNear": 50,
        "hoverTimeout": 0,
        "impostor": true,
        "lightColor": 14540253,
        "lightIntensity": 1,
        "mousePreset": "default",
        "panSpeed": 1,
        "quality": "medium",
        "rotateSpeed": 2,
        "sampleLevel": 0,
        "tooltip": true,
        "workerDefault": true,
        "zoomSpeed": 1.2
       },
       "_ngl_repr_dict": {
        "0": {
         "0": {
          "params": {
           "aspectRatio": 1.5,
           "assembly": "default",
           "bondScale": 0.3,
           "bondSpacing": 0.75,
           "clipCenter": {
            "x": 0,
            "y": 0,
            "z": 0
           },
           "clipNear": 0,
           "clipRadius": 0,
           "colorMode": "hcl",
           "colorReverse": false,
           "colorScale": "",
           "colorScheme": "element",
           "colorValue": 9474192,
           "cylinderOnly": false,
           "defaultAssembly": "",
           "depthWrite": true,
           "diffuse": 16777215,
           "diffuseInterior": false,
           "disableImpostor": false,
           "disablePicking": false,
           "flatShaded": false,
           "interiorColor": 2236962,
           "interiorDarkening": 0,
           "lazy": false,
           "lineOnly": false,
           "linewidth": 2,
           "matrix": {
            "elements": [
             1,
             0,
             0,
             0,
             0,
             1,
             0,
             0,
             0,
             0,
             1,
             0,
             0,
             0,
             0,
             1
            ]
           },
           "metalness": 0,
           "multipleBond": "off",
           "opacity": 1,
           "openEnded": true,
           "quality": "high",
           "radialSegments": 20,
           "radiusData": {},
           "radiusScale": 2,
           "radiusSize": 0.15,
           "radiusType": "size",
           "roughness": 0.4,
           "sele": "",
           "side": "double",
           "sphereDetail": 2,
           "useInteriorColor": true,
           "visible": true,
           "wireframe": false
          },
          "type": "ball+stick"
         }
        }
       },
       "_ngl_serialize": false,
       "_ngl_version": "2.0.0-dev.36",
       "_ngl_view_id": [
        "BF63451F-F172-47CD-8B60-47C0BB43FE09"
       ],
       "_player_dict": {},
       "_scene_position": {},
       "_scene_rotation": {},
       "_synced_model_ids": [],
       "_synced_repr_model_ids": [],
       "_view_height": "",
       "_view_width": "",
       "background": "white",
       "frame": 0,
       "gui_style": null,
       "layout": "IPY_MODEL_39002f4273c743e6aa7482754bbbf48c",
       "max_frame": 0,
       "n_components": 1,
       "picked": {}
      }
     },
     "9427a1137eae4883bcd9f6f7a95c30f7": {
      "model_module": "@jupyter-widgets/controls",
      "model_module_version": "1.5.0",
      "model_name": "HBoxModel",
      "state": {
       "children": [
        "IPY_MODEL_04c7629fd60a44ab80a5c1926537ed3f",
        "IPY_MODEL_e940bc48be674a218d878af7ee74a380"
       ],
       "layout": "IPY_MODEL_bb7610ade9c1405eb7f61c1a1470b3ce"
      }
     },
     "948ba1442bfb46bf8d3e45384a7421c7": {
      "model_module": "@jupyter-widgets/base",
      "model_module_version": "1.2.0",
      "model_name": "LayoutModel",
      "state": {
       "width": "34px"
      }
     },
     "9510c1afde5a4f5f885f95ad31550f02": {
      "model_module": "@jupyter-widgets/controls",
      "model_module_version": "1.5.0",
      "model_name": "SliderStyleModel",
      "state": {
       "description_width": ""
      }
     },
     "95756d0557ef4581b8680787b92f7387": {
      "model_module": "@jupyter-widgets/controls",
      "model_module_version": "1.5.0",
      "model_name": "SliderStyleModel",
      "state": {
       "description_width": ""
      }
     },
     "9584aae5283f48f6afbd974d497d5bd5": {
      "model_module": "@jupyter-widgets/base",
      "model_module_version": "1.2.0",
      "model_name": "LayoutModel",
      "state": {}
     },
     "95df7e4bc4c14fcea9eb60f6b4e62815": {
      "model_module": "@jupyter-widgets/base",
      "model_module_version": "1.2.0",
      "model_name": "LayoutModel",
      "state": {}
     },
     "95efde23e94545d0b5d616f0ff3eb22a": {
      "model_module": "@jupyter-widgets/base",
      "model_module_version": "1.2.0",
      "model_name": "LayoutModel",
      "state": {}
     },
     "96590fdf1c604f7b851f10977bde4800": {
      "model_module": "@jupyter-widgets/base",
      "model_module_version": "1.2.0",
      "model_name": "LayoutModel",
      "state": {}
     },
     "97e8f3f59a8a49ecb6adc8ff7508c8af": {
      "model_module": "@jupyter-widgets/controls",
      "model_module_version": "1.5.0",
      "model_name": "HBoxModel",
      "state": {
       "children": [
        "IPY_MODEL_11e225f6faae434db5c4a2ff84670217",
        "IPY_MODEL_83b602f60f294efa9f3e2f3a95d5caa8"
       ],
       "layout": "IPY_MODEL_e9dade74e4c14e2e862921f85196b4e5"
      }
     },
     "98bd74f1e9c74997b612ebe9f0c98169": {
      "model_module": "@jupyter-widgets/base",
      "model_module_version": "1.2.0",
      "model_name": "LayoutModel",
      "state": {}
     },
     "99a7baadbf80450eb5f1c9db05c39205": {
      "model_module": "@jupyter-widgets/base",
      "model_module_version": "1.2.0",
      "model_name": "LayoutModel",
      "state": {}
     },
     "9a4b1d8f124740189e22b48e1e8eb5d3": {
      "model_module": "@jupyter-widgets/base",
      "model_module_version": "1.2.0",
      "model_name": "LayoutModel",
      "state": {}
     },
     "9b0c595c36844f7780f270c36bcf43b4": {
      "model_module": "@jupyter-widgets/controls",
      "model_module_version": "1.5.0",
      "model_name": "LinkModel",
      "state": {
       "source": [
        "IPY_MODEL_0593f816aeae483e8ca13439260fb6b7",
        "max"
       ],
       "target": [
        "IPY_MODEL_d8b1c98b3f214f80abf5c60065bacdd2",
        "max_frame"
       ]
      }
     },
     "9b2bcc44939e4f82957c07030409b3b3": {
      "model_module": "@jupyter-widgets/controls",
      "model_module_version": "1.5.0",
      "model_name": "IntSliderModel",
      "state": {
       "layout": "IPY_MODEL_c1b5468d4df54bdeb9ccfade5219d7cc",
       "max": 0,
       "style": "IPY_MODEL_4222e1c4cb50455db6358934dcda2c18"
      }
     },
     "9d8dcec14a574eeaae29533eb210e0de": {
      "model_module": "@jupyter-widgets/controls",
      "model_module_version": "1.5.0",
      "model_name": "ButtonStyleModel",
      "state": {}
     },
     "9df1c8bff6a84afd899197179863f1d8": {
      "model_module": "@jupyter-widgets/controls",
      "model_module_version": "1.5.0",
      "model_name": "IntSliderModel",
      "state": {
       "layout": "IPY_MODEL_0e9313b910144c9b8926b3155a9ef2d4",
       "max": 0,
       "style": "IPY_MODEL_814fd1a114a849c3bbde8e380909faea"
      }
     },
     "9e7bc42b81784ccb97206bdee2e87189": {
      "model_module": "@jupyter-widgets/base",
      "model_module_version": "1.2.0",
      "model_name": "LayoutModel",
      "state": {}
     },
     "9edbe01531a1468f8f4060ea09466c97": {
      "model_module": "@jupyter-widgets/controls",
      "model_module_version": "1.5.0",
      "model_name": "LinkModel",
      "state": {
       "source": [
        "IPY_MODEL_fff97dd0655d4719b3a2c2321a596580",
        "max"
       ],
       "target": [
        "IPY_MODEL_171ce05cca5a4075b17948165192edfd",
        "max_frame"
       ]
      }
     },
     "9ee405ad050149ad9c7bd3ef37923465": {
      "model_module": "@jupyter-widgets/controls",
      "model_module_version": "1.5.0",
      "model_name": "ImageModel",
      "state": {
       "layout": "IPY_MODEL_561a23301cb1496e8759a9465e1378fe",
       "width": "900.0"
      }
     },
     "a065ee218e8d48d083e25e2e3feb83b6": {
      "model_module": "@jupyter-widgets/base",
      "model_module_version": "1.2.0",
      "model_name": "LayoutModel",
      "state": {}
     },
     "a246f1bca063421b91672cfdb398f893": {
      "model_module": "@jupyter-widgets/controls",
      "model_module_version": "1.5.0",
      "model_name": "LinkModel",
      "state": {
       "source": [
        "IPY_MODEL_bfd665279a284bbab157769d2677909e",
        "max"
       ],
       "target": [
        "IPY_MODEL_703a429f8f0d4574a88d65a873fdad78",
        "max_frame"
       ]
      }
     },
     "a2ce38f2ce36466d88ff418c9389d115": {
      "model_module": "@jupyter-widgets/base",
      "model_module_version": "1.2.0",
      "model_name": "LayoutModel",
      "state": {}
     },
     "a3d4851778fe4d2a9b2dfdc3a9b0bc9e": {
      "model_module": "@jupyter-widgets/base",
      "model_module_version": "1.2.0",
      "model_name": "LayoutModel",
      "state": {}
     },
     "a43c56236c27484e9ba7a6de5c600279": {
      "model_module": "@jupyter-widgets/controls",
      "model_module_version": "1.5.0",
      "model_name": "HBoxModel",
      "state": {
       "children": [
        "IPY_MODEL_87f052b2db134f62aabc8f68536e5b16",
        "IPY_MODEL_fa89328f2c5548939dbd9cfed4c65d00"
       ],
       "layout": "IPY_MODEL_103744e51d6943d9bb9d9f501238c1c5"
      }
     },
     "a511c398ab374623bba2eb6a8f1ee8bd": {
      "model_module": "@jupyter-widgets/controls",
      "model_module_version": "1.5.0",
      "model_name": "LinkModel",
      "state": {
       "source": [
        "IPY_MODEL_aeb2f66844c945e9ad51e107160e4d47",
        "value"
       ],
       "target": [
        "IPY_MODEL_b5fe58d703b2468b855f8bddade2a87a",
        "value"
       ]
      }
     },
     "a53e7b235de2424ebbdec5aacebe1dde": {
      "model_module": "@jupyter-widgets/base",
      "model_module_version": "1.2.0",
      "model_name": "LayoutModel",
      "state": {}
     },
     "a582359e001f4fb88d27f5d1d8b9a1cc": {
      "model_module": "@jupyter-widgets/base",
      "model_module_version": "1.2.0",
      "model_name": "LayoutModel",
      "state": {}
     },
     "a5843c34b7e445358952fe6619f16b36": {
      "model_module": "@jupyter-widgets/base",
      "model_module_version": "1.2.0",
      "model_name": "LayoutModel",
      "state": {
       "width": "34px"
      }
     },
     "a5f10e1ab35e4b42b8fc7eb73492df4c": {
      "model_module": "@jupyter-widgets/controls",
      "model_module_version": "1.5.0",
      "model_name": "IntSliderModel",
      "state": {
       "layout": "IPY_MODEL_6fd6f59981094aecb6f923ffc6f75e9d",
       "max": 0,
       "style": "IPY_MODEL_2e09e852d6ee46d196612904ce80f5e0"
      }
     },
     "a676be50a4244723885d6686b848c6d9": {
      "model_module": "@jupyter-widgets/base",
      "model_module_version": "1.2.0",
      "model_name": "LayoutModel",
      "state": {}
     },
     "a67dd677eb6d4cdea64f07b38f1ea58a": {
      "model_module": "@jupyter-widgets/controls",
      "model_module_version": "1.5.0",
      "model_name": "SliderStyleModel",
      "state": {
       "description_width": ""
      }
     },
     "a6b76152903e4847bd654a8b6f2d1cfc": {
      "model_module": "@jupyter-widgets/base",
      "model_module_version": "1.2.0",
      "model_name": "LayoutModel",
      "state": {}
     },
     "a704ce5235274e74bbb9c70650091a59": {
      "model_module": "@jupyter-widgets/base",
      "model_module_version": "1.2.0",
      "model_name": "LayoutModel",
      "state": {}
     },
     "a834b6998ee64b248903c8922bacc2b1": {
      "model_module": "@jupyter-widgets/controls",
      "model_module_version": "1.5.0",
      "model_name": "LinkModel",
      "state": {
       "source": [
        "IPY_MODEL_b4236f1c902441e6a5899a7b1eabae31",
        "max"
       ],
       "target": [
        "IPY_MODEL_cb4a611799b4417ab713f1ac818203a7",
        "max_frame"
       ]
      }
     },
     "a8bd54da0b9a4c82bcdee8f1734abdc7": {
      "model_module": "@jupyter-widgets/base",
      "model_module_version": "1.2.0",
      "model_name": "LayoutModel",
      "state": {}
     },
     "a9d96c6d6c674ce9a064589f0c4c02db": {
      "model_module": "@jupyter-widgets/base",
      "model_module_version": "1.2.0",
      "model_name": "LayoutModel",
      "state": {}
     },
     "aa8d284b5b474e1fa1c0530190a3545c": {
      "model_module": "@jupyter-widgets/controls",
      "model_module_version": "1.5.0",
      "model_name": "LinkModel",
      "state": {
       "source": [
        "IPY_MODEL_e940bc48be674a218d878af7ee74a380",
        "max"
       ],
       "target": [
        "IPY_MODEL_d2b7fdc93ee9403b8e8505a5c74f4185",
        "max_frame"
       ]
      }
     },
     "ac865a5a8a2948259fc383aa297532d5": {
      "model_module": "@jupyter-widgets/controls",
      "model_module_version": "1.5.0",
      "model_name": "DescriptionStyleModel",
      "state": {
       "description_width": ""
      }
     },
     "ac8b826b66344338bd79b3ff56fa31c0": {
      "model_module": "@jupyter-widgets/base",
      "model_module_version": "1.2.0",
      "model_name": "LayoutModel",
      "state": {}
     },
     "adc606bd524748e8b19c33dbde458fc1": {
      "model_module": "@jupyter-widgets/controls",
      "model_module_version": "1.5.0",
      "model_name": "IntSliderModel",
      "state": {
       "layout": "IPY_MODEL_fa4d7dad969d40bab88c2c4bdd7b8c93",
       "max": 0,
       "style": "IPY_MODEL_12e3fef2f1304f7394c53adf3baf7f1d"
      }
     },
     "ae2d21981af0459d99a702ba8182545d": {
      "model_module": "@jupyter-widgets/controls",
      "model_module_version": "1.5.0",
      "model_name": "ButtonModel",
      "state": {
       "icon": "compress",
       "layout": "IPY_MODEL_948ba1442bfb46bf8d3e45384a7421c7",
       "style": "IPY_MODEL_fba7c4d0821b49bea565143f44243912"
      }
     },
     "aeb2f66844c945e9ad51e107160e4d47": {
      "model_module": "@jupyter-widgets/controls",
      "model_module_version": "1.5.0",
      "model_name": "PlayModel",
      "state": {
       "layout": "IPY_MODEL_9a4b1d8f124740189e22b48e1e8eb5d3",
       "max": 0,
       "style": "IPY_MODEL_8f9bb14abe8b4b3daab967e51fdf9179"
      }
     },
     "afa9ffe79abf48a4a88fc917ceb4d84c": {
      "model_module": "@jupyter-widgets/controls",
      "model_module_version": "1.5.0",
      "model_name": "LinkModel",
      "state": {
       "source": [
        "IPY_MODEL_83b602f60f294efa9f3e2f3a95d5caa8",
        "max"
       ],
       "target": [
        "IPY_MODEL_30b6635b760549f9b82bf74a346a7f94",
        "max_frame"
       ]
      }
     },
     "b11a40319fec4de38b00452e90be2d7e": {
      "model_module": "@jupyter-widgets/controls",
      "model_module_version": "1.5.0",
      "model_name": "LinkModel",
      "state": {
       "source": [
        "IPY_MODEL_e720a46f98074924a72009320f4dd901",
        "value"
       ],
       "target": [
        "IPY_MODEL_c6fd40ac39f9474e80a7a8d9411f3131",
        "value"
       ]
      }
     },
     "b3ed279913d3476490722084534ade68": {
      "model_module": "@jupyter-widgets/base",
      "model_module_version": "1.2.0",
      "model_name": "LayoutModel",
      "state": {}
     },
     "b4236f1c902441e6a5899a7b1eabae31": {
      "model_module": "@jupyter-widgets/controls",
      "model_module_version": "1.5.0",
      "model_name": "PlayModel",
      "state": {
       "layout": "IPY_MODEL_a2ce38f2ce36466d88ff418c9389d115",
       "max": 0,
       "style": "IPY_MODEL_d69461cda5e645cfafe8c0dc78abc959"
      }
     },
     "b45f7a4b487d49adad0a93e78a9acb4e": {
      "model_module": "@jupyter-widgets/controls",
      "model_module_version": "1.5.0",
      "model_name": "LinkModel",
      "state": {
       "source": [
        "IPY_MODEL_bba0a467cdf94282a74845bb86b8334c",
        "max"
       ],
       "target": [
        "IPY_MODEL_51396080bac949a19d71c8c6b90d24cf",
        "max_frame"
       ]
      }
     },
     "b50af02486484926bc436a7bf2114238": {
      "model_module": "@jupyter-widgets/controls",
      "model_module_version": "1.5.0",
      "model_name": "PlayModel",
      "state": {
       "layout": "IPY_MODEL_5faf98f9a0544a33b8f53f917782263e",
       "max": 0,
       "style": "IPY_MODEL_efc9f8aa79924a389900562f949a0350"
      }
     },
     "b5f3206817b944b5b2e3217208ace3c6": {
      "model_module": "@jupyter-widgets/base",
      "model_module_version": "1.2.0",
      "model_name": "LayoutModel",
      "state": {}
     },
     "b5fe58d703b2468b855f8bddade2a87a": {
      "model_module": "@jupyter-widgets/controls",
      "model_module_version": "1.5.0",
      "model_name": "IntSliderModel",
      "state": {
       "layout": "IPY_MODEL_373f40b141294eb5bde2fef2d8674548",
       "max": 0,
       "style": "IPY_MODEL_dec29a40677d421586dd62c01e8fed83"
      }
     },
     "b656d0f08314402598cfc6ed00526e66": {
      "model_module": "@jupyter-widgets/base",
      "model_module_version": "1.2.0",
      "model_name": "LayoutModel",
      "state": {}
     },
     "b67a578197fd41988106f804f376829e": {
      "model_module": "@jupyter-widgets/base",
      "model_module_version": "1.2.0",
      "model_name": "LayoutModel",
      "state": {}
     },
     "b9f91752dcd745fdad21a46c1e0a4442": {
      "model_module": "@jupyter-widgets/controls",
      "model_module_version": "1.5.0",
      "model_name": "ButtonModel",
      "state": {
       "icon": "compress",
       "layout": "IPY_MODEL_29dd73fd69d34eb5aa980fe8eea6c9ef",
       "style": "IPY_MODEL_f4e8aa523db44c4998061c5204323d80"
      }
     },
     "bb2067aa3cbf4d48b9728b59c9f814eb": {
      "model_module": "@jupyter-widgets/controls",
      "model_module_version": "1.5.0",
      "model_name": "SliderStyleModel",
      "state": {
       "description_width": ""
      }
     },
     "bb7610ade9c1405eb7f61c1a1470b3ce": {
      "model_module": "@jupyter-widgets/base",
      "model_module_version": "1.2.0",
      "model_name": "LayoutModel",
      "state": {}
     },
     "bba0a467cdf94282a74845bb86b8334c": {
      "model_module": "@jupyter-widgets/controls",
      "model_module_version": "1.5.0",
      "model_name": "IntSliderModel",
      "state": {
       "layout": "IPY_MODEL_4d8a4eb3b32d4fb59be346b999931d5f",
       "max": 0,
       "style": "IPY_MODEL_4c40e8cf0a454ac48eda7a11bc1333fe"
      }
     },
     "bda6fd99eb914c48bbbe1feb54d004f3": {
      "model_module": "@jupyter-widgets/controls",
      "model_module_version": "1.5.0",
      "model_name": "LinkModel",
      "state": {
       "source": [
        "IPY_MODEL_1357c2563061432ab36b0e04cfa9456e",
        "max"
       ],
       "target": [
        "IPY_MODEL_82803d82c78041e299feaac782591e9e",
        "max_frame"
       ]
      }
     },
     "be382fa8fc4344579f3bf6dbeeec0945": {
      "model_module": "@jupyter-widgets/controls",
      "model_module_version": "1.5.0",
      "model_name": "LinkModel",
      "state": {
       "source": [
        "IPY_MODEL_b5fe58d703b2468b855f8bddade2a87a",
        "max"
       ],
       "target": [
        "IPY_MODEL_80c6f17cce444b00b390f592efb242e3",
        "max_frame"
       ]
      }
     },
     "be5de0fe416545e99c90a8d6b02b72ce": {
      "model_module": "@jupyter-widgets/base",
      "model_module_version": "1.2.0",
      "model_name": "LayoutModel",
      "state": {}
     },
     "bf7c279c451c48e1920e04e43a2531a8": {
      "model_module": "@jupyter-widgets/controls",
      "model_module_version": "1.5.0",
      "model_name": "LinkModel",
      "state": {
       "source": [
        "IPY_MODEL_aeb2f66844c945e9ad51e107160e4d47",
        "max"
       ],
       "target": [
        "IPY_MODEL_80c6f17cce444b00b390f592efb242e3",
        "max_frame"
       ]
      }
     },
     "bfd665279a284bbab157769d2677909e": {
      "model_module": "@jupyter-widgets/controls",
      "model_module_version": "1.5.0",
      "model_name": "IntSliderModel",
      "state": {
       "layout": "IPY_MODEL_78cfcf1584cd498f9abd88c46b0356c1",
       "max": 0,
       "style": "IPY_MODEL_a67dd677eb6d4cdea64f07b38f1ea58a"
      }
     },
     "c0ff7bf66f5c49bd9ee1cb815770116c": {
      "model_module": "@jupyter-widgets/controls",
      "model_module_version": "1.5.0",
      "model_name": "HBoxModel",
      "state": {
       "children": [
        "IPY_MODEL_105438553f3a4839ad495d6ec75dfcc4",
        "IPY_MODEL_5761b749d00943bbb829ba2541884b28"
       ],
       "layout": "IPY_MODEL_5253afd9527d4290802eae41cccba3bd"
      }
     },
     "c1b5468d4df54bdeb9ccfade5219d7cc": {
      "model_module": "@jupyter-widgets/base",
      "model_module_version": "1.2.0",
      "model_name": "LayoutModel",
      "state": {}
     },
     "c226006f215246118bbd8e505d120c0b": {
      "model_module": "@jupyter-widgets/controls",
      "model_module_version": "1.5.0",
      "model_name": "LinkModel",
      "state": {
       "source": [
        "IPY_MODEL_11e225f6faae434db5c4a2ff84670217",
        "value"
       ],
       "target": [
        "IPY_MODEL_83b602f60f294efa9f3e2f3a95d5caa8",
        "value"
       ]
      }
     },
     "c4f9e69e6ec84c2d9be211846cdfde1d": {
      "model_module": "@jupyter-widgets/base",
      "model_module_version": "1.2.0",
      "model_name": "LayoutModel",
      "state": {}
     },
     "c5208967f46e494eb275024beffc6a51": {
      "model_module": "nglview-js-widgets",
      "model_module_version": "3.0.1",
      "model_name": "NGLModel",
      "state": {
       "_camera_orientation": [
        1,
        0,
        0,
        0,
        0,
        1,
        0,
        0,
        0,
        0,
        1,
        0,
        -0.2803500294685364,
        -0.9233499765396118,
        -1.6167999431490898,
        1
       ],
       "_camera_str": "orthographic",
       "_gui_theme": null,
       "_ibtn_fullscreen": "IPY_MODEL_5452f4a3007a40e1b42447be5e7019af",
       "_igui": null,
       "_iplayer": "IPY_MODEL_a43c56236c27484e9ba7a6de5c600279",
       "_ngl_color_dict": {},
       "_ngl_coordinate_resource": {},
       "_ngl_full_stage_parameters": {
        "ambientColor": 14540253,
        "ambientIntensity": 0.2,
        "backgroundColor": "white",
        "cameraEyeSep": 0.3,
        "cameraFov": 40,
        "cameraType": "perspective",
        "clipDist": 10,
        "clipFar": 100,
        "clipNear": 0,
        "fogFar": 100,
        "fogNear": 50,
        "hoverTimeout": 0,
        "impostor": true,
        "lightColor": 14540253,
        "lightIntensity": 1,
        "mousePreset": "default",
        "panSpeed": 1,
        "quality": "medium",
        "rotateSpeed": 2,
        "sampleLevel": 0,
        "tooltip": true,
        "workerDefault": true,
        "zoomSpeed": 1.2
       },
       "_ngl_msg_archive": [
        {
         "args": [
          {
           "binary": false,
           "data": "\nQCElemental\n\n 10  9  0  0  0  0  0  0  0  0  0\n   -0.4899    1.7877    0.9210  C  0  0     0  0  0  0  0  0\n    0.8697    1.1810    1.9128  S  0  0     0  0  0  0  0  0\n    0.6876    1.5886    3.3621  O  0  0     0  0  0  0  0  0\n    1.0190   -0.6024    1.7322  C  0  0     0  0  0  0  0  0\n   -0.5376    2.8864    0.9644  H  0  0     0  0  0  0  0  0\n   -0.3234    1.5047   -0.1285  H  0  0     0  0  0  0  0  0\n   -1.4181    1.2954    1.2491  H  0  0     0  0  0  0  0  0\n    0.1487   -1.0397    1.1829  H  0  0     0  0  0  0  0  0\n    1.9788   -0.8261    1.2081  H  0  0     0  0  0  0  0  0\n    1.0525   -1.0377    2.7612  H  0  0     0  0  0  0  0  0\n  1  2  1  0  0  0  0\n  1  5  1  0  0  0  0\n  1  6  1  0  0  0  0\n  1  7  1  0  0  0  0\n  2  3  2  0  0  0  0\n  2  4  1  0  0  0  0\n  4  8  1  0  0  0  0\n  4  9  1  0  0  0  0\n  4 10  1  0  0  0  0\n",
           "type": "blob"
          }
         ],
         "kwargs": {
          "defaultRepresentation": true,
          "ext": "sdf"
         },
         "methodName": "loadFile",
         "reconstruc_color_scheme": false,
         "target": "Stage",
         "type": "call_method"
        }
       ],
       "_ngl_original_stage_parameters": {
        "ambientColor": 14540253,
        "ambientIntensity": 0.2,
        "backgroundColor": "white",
        "cameraEyeSep": 0.3,
        "cameraFov": 40,
        "cameraType": "perspective",
        "clipDist": 10,
        "clipFar": 100,
        "clipNear": 0,
        "fogFar": 100,
        "fogNear": 50,
        "hoverTimeout": 0,
        "impostor": true,
        "lightColor": 14540253,
        "lightIntensity": 1,
        "mousePreset": "default",
        "panSpeed": 1,
        "quality": "medium",
        "rotateSpeed": 2,
        "sampleLevel": 0,
        "tooltip": true,
        "workerDefault": true,
        "zoomSpeed": 1.2
       },
       "_ngl_repr_dict": {
        "0": {
         "0": {
          "params": {
           "aspectRatio": 1.5,
           "assembly": "default",
           "bondScale": 0.3,
           "bondSpacing": 0.75,
           "clipCenter": {
            "x": 0,
            "y": 0,
            "z": 0
           },
           "clipNear": 0,
           "clipRadius": 0,
           "colorMode": "hcl",
           "colorReverse": false,
           "colorScale": "",
           "colorScheme": "element",
           "colorValue": 9474192,
           "cylinderOnly": false,
           "defaultAssembly": "",
           "depthWrite": true,
           "diffuse": 16777215,
           "diffuseInterior": false,
           "disableImpostor": false,
           "disablePicking": false,
           "flatShaded": false,
           "interiorColor": 2236962,
           "interiorDarkening": 0,
           "lazy": false,
           "lineOnly": false,
           "linewidth": 2,
           "matrix": {
            "elements": [
             1,
             0,
             0,
             0,
             0,
             1,
             0,
             0,
             0,
             0,
             1,
             0,
             0,
             0,
             0,
             1
            ]
           },
           "metalness": 0,
           "multipleBond": "off",
           "opacity": 1,
           "openEnded": true,
           "quality": "high",
           "radialSegments": 20,
           "radiusData": {},
           "radiusScale": 2,
           "radiusSize": 0.15,
           "radiusType": "size",
           "roughness": 0.4,
           "sele": "",
           "side": "double",
           "sphereDetail": 2,
           "useInteriorColor": true,
           "visible": true,
           "wireframe": false
          },
          "type": "ball+stick"
         }
        }
       },
       "_ngl_serialize": false,
       "_ngl_version": "2.0.0-dev.36",
       "_ngl_view_id": [
        "79F795AD-4BAF-4048-A882-AD662152A6F7"
       ],
       "_player_dict": {},
       "_scene_position": {},
       "_scene_rotation": {},
       "_synced_model_ids": [],
       "_synced_repr_model_ids": [],
       "_view_height": "",
       "_view_width": "",
       "background": "white",
       "frame": 0,
       "gui_style": null,
       "layout": "IPY_MODEL_a6b76152903e4847bd654a8b6f2d1cfc",
       "max_frame": 0,
       "n_components": 1,
       "picked": {}
      }
     },
     "c6fd40ac39f9474e80a7a8d9411f3131": {
      "model_module": "@jupyter-widgets/controls",
      "model_module_version": "1.5.0",
      "model_name": "IntSliderModel",
      "state": {
       "layout": "IPY_MODEL_90f1df20fc774d0dba2442a97d55d725",
       "max": 0,
       "style": "IPY_MODEL_5012c516733b443fa10b8822adcc0611"
      }
     },
     "c8df4eb45b6147e69bcd00123a236aa7": {
      "model_module": "@jupyter-widgets/base",
      "model_module_version": "1.2.0",
      "model_name": "LayoutModel",
      "state": {}
     },
     "c96967451e454b658fc8c87465ad0a6e": {
      "model_module": "@jupyter-widgets/controls",
      "model_module_version": "1.5.0",
      "model_name": "HBoxModel",
      "state": {
       "children": [
        "IPY_MODEL_fff97dd0655d4719b3a2c2321a596580",
        "IPY_MODEL_4a4fe232988c485daf2a31924f68fd19"
       ],
       "layout": "IPY_MODEL_e2c790e0fd0744a0bc9b2639f6e3485d"
      }
     },
     "cac32793e02946968b09915e519f3cbd": {
      "model_module": "@jupyter-widgets/controls",
      "model_module_version": "1.5.0",
      "model_name": "DescriptionStyleModel",
      "state": {
       "description_width": ""
      }
     },
     "cacec08dad7d4d5a8fd5de028ccdfce6": {
      "model_module": "@jupyter-widgets/controls",
      "model_module_version": "1.5.0",
      "model_name": "SliderStyleModel",
      "state": {
       "description_width": ""
      }
     },
     "cb4a611799b4417ab713f1ac818203a7": {
      "model_module": "nglview-js-widgets",
      "model_module_version": "3.0.1",
      "model_name": "NGLModel",
      "state": {
       "_camera_orientation": [
        18.435485762718002,
        0,
        0,
        0,
        0,
        18.435485762718002,
        0,
        0,
        0,
        0,
        18.435485762718002,
        0,
        -0.2803500294685364,
        -0.9233499765396118,
        -1.6167999431490898,
        1
       ],
       "_camera_str": "orthographic",
       "_gui_theme": null,
       "_ibtn_fullscreen": "IPY_MODEL_52e917cf695444a48de638cac737c699",
       "_igui": null,
       "_iplayer": "IPY_MODEL_76f5f67689e34e3fb8bdc58c216cc8b6",
       "_ngl_color_dict": {},
       "_ngl_coordinate_resource": {},
       "_ngl_full_stage_parameters": {
        "ambientColor": 14540253,
        "ambientIntensity": 0.2,
        "backgroundColor": "white",
        "cameraEyeSep": 0.3,
        "cameraFov": 40,
        "cameraType": "perspective",
        "clipDist": 10,
        "clipFar": 100,
        "clipNear": 0,
        "fogFar": 100,
        "fogNear": 50,
        "hoverTimeout": 0,
        "impostor": true,
        "lightColor": 14540253,
        "lightIntensity": 1,
        "mousePreset": "default",
        "panSpeed": 1,
        "quality": "medium",
        "rotateSpeed": 2,
        "sampleLevel": 0,
        "tooltip": true,
        "workerDefault": true,
        "zoomSpeed": 1.2
       },
       "_ngl_msg_archive": [
        {
         "args": [
          {
           "binary": false,
           "data": "\nQCElemental\n\n 10  9  0  0  0  0  0  0  0  0  0\n   -0.4899    1.7877    0.9210  C  0  0     0  0  0  0  0  0\n    0.8697    1.1810    1.9128  S  0  0     0  0  0  0  0  0\n    0.6876    1.5886    3.3621  O  0  0     0  0  0  0  0  0\n    1.0190   -0.6024    1.7322  C  0  0     0  0  0  0  0  0\n   -0.5376    2.8864    0.9644  H  0  0     0  0  0  0  0  0\n   -0.3234    1.5047   -0.1285  H  0  0     0  0  0  0  0  0\n   -1.4181    1.2954    1.2491  H  0  0     0  0  0  0  0  0\n    0.1487   -1.0397    1.1829  H  0  0     0  0  0  0  0  0\n    1.9788   -0.8261    1.2081  H  0  0     0  0  0  0  0  0\n    1.0525   -1.0377    2.7612  H  0  0     0  0  0  0  0  0\n  1  2  1  0  0  0  0\n  1  5  1  0  0  0  0\n  1  6  1  0  0  0  0\n  1  7  1  0  0  0  0\n  2  3  2  0  0  0  0\n  2  4  1  0  0  0  0\n  4  8  1  0  0  0  0\n  4  9  1  0  0  0  0\n  4 10  1  0  0  0  0\n",
           "type": "blob"
          }
         ],
         "kwargs": {
          "defaultRepresentation": true,
          "ext": "sdf"
         },
         "methodName": "loadFile",
         "reconstruc_color_scheme": false,
         "target": "Stage",
         "type": "call_method"
        }
       ],
       "_ngl_original_stage_parameters": {
        "ambientColor": 14540253,
        "ambientIntensity": 0.2,
        "backgroundColor": "white",
        "cameraEyeSep": 0.3,
        "cameraFov": 40,
        "cameraType": "perspective",
        "clipDist": 10,
        "clipFar": 100,
        "clipNear": 0,
        "fogFar": 100,
        "fogNear": 50,
        "hoverTimeout": 0,
        "impostor": true,
        "lightColor": 14540253,
        "lightIntensity": 1,
        "mousePreset": "default",
        "panSpeed": 1,
        "quality": "medium",
        "rotateSpeed": 2,
        "sampleLevel": 0,
        "tooltip": true,
        "workerDefault": true,
        "zoomSpeed": 1.2
       },
       "_ngl_repr_dict": {
        "0": {
         "0": {
          "params": {
           "aspectRatio": 1.5,
           "assembly": "default",
           "bondScale": 0.3,
           "bondSpacing": 0.75,
           "clipCenter": {
            "x": 0,
            "y": 0,
            "z": 0
           },
           "clipNear": 0,
           "clipRadius": 0,
           "colorMode": "hcl",
           "colorReverse": false,
           "colorScale": "",
           "colorScheme": "element",
           "colorValue": 9474192,
           "cylinderOnly": false,
           "defaultAssembly": "",
           "depthWrite": true,
           "diffuse": 16777215,
           "diffuseInterior": false,
           "disableImpostor": false,
           "disablePicking": false,
           "flatShaded": false,
           "interiorColor": 2236962,
           "interiorDarkening": 0,
           "lazy": false,
           "lineOnly": false,
           "linewidth": 2,
           "matrix": {
            "elements": [
             1,
             0,
             0,
             0,
             0,
             1,
             0,
             0,
             0,
             0,
             1,
             0,
             0,
             0,
             0,
             1
            ]
           },
           "metalness": 0,
           "multipleBond": "off",
           "opacity": 1,
           "openEnded": true,
           "quality": "high",
           "radialSegments": 20,
           "radiusData": {},
           "radiusScale": 2,
           "radiusSize": 0.15,
           "radiusType": "size",
           "roughness": 0.4,
           "sele": "",
           "side": "double",
           "sphereDetail": 2,
           "useInteriorColor": true,
           "visible": true,
           "wireframe": false
          },
          "type": "ball+stick"
         }
        }
       },
       "_ngl_serialize": false,
       "_ngl_version": "2.0.0-dev.36",
       "_ngl_view_id": [
        "9712628E-8297-4251-96EB-0F9761DAE491"
       ],
       "_player_dict": {},
       "_scene_position": {},
       "_scene_rotation": {},
       "_synced_model_ids": [],
       "_synced_repr_model_ids": [],
       "_view_height": "",
       "_view_width": "",
       "background": "white",
       "frame": 0,
       "gui_style": null,
       "layout": "IPY_MODEL_c8df4eb45b6147e69bcd00123a236aa7",
       "max_frame": 0,
       "n_components": 1,
       "picked": {}
      }
     },
     "cb9d4452392d4fdda551f8c4e60719a8": {
      "model_module": "@jupyter-widgets/base",
      "model_module_version": "1.2.0",
      "model_name": "LayoutModel",
      "state": {}
     },
     "cc44b528cae043daaea19cbab48a6e33": {
      "model_module": "@jupyter-widgets/controls",
      "model_module_version": "1.5.0",
      "model_name": "ImageModel",
      "state": {
       "layout": "IPY_MODEL_5341278e072f47c487d6b519a273f171",
       "width": "900.0"
      }
     },
     "cce2e4454d2a41fca4aeb03515c504e4": {
      "model_module": "@jupyter-widgets/controls",
      "model_module_version": "1.5.0",
      "model_name": "PlayModel",
      "state": {
       "layout": "IPY_MODEL_a8bd54da0b9a4c82bcdee8f1734abdc7",
       "max": 0,
       "style": "IPY_MODEL_40fd866e0df1451b8d3279915ed07cad"
      }
     },
     "ccea775bc01444cea41508f9e7863f07": {
      "model_module": "@jupyter-widgets/controls",
      "model_module_version": "1.5.0",
      "model_name": "LinkModel",
      "state": {
       "source": [
        "IPY_MODEL_adc606bd524748e8b19c33dbde458fc1",
        "max"
       ],
       "target": [
        "IPY_MODEL_e8a38454e1d44b439bd83cbde13ce899",
        "max_frame"
       ]
      }
     },
     "ce91bb3c456e44bd84176327bc26caa5": {
      "model_module": "@jupyter-widgets/controls",
      "model_module_version": "1.5.0",
      "model_name": "LinkModel",
      "state": {
       "source": [
        "IPY_MODEL_e720a46f98074924a72009320f4dd901",
        "max"
       ],
       "target": [
        "IPY_MODEL_deeb9082771a4e02a8a9903e86db2a01",
        "max_frame"
       ]
      }
     },
     "cf470bc011114a9f9037366a455bac2d": {
      "model_module": "@jupyter-widgets/controls",
      "model_module_version": "1.5.0",
      "model_name": "LinkModel",
      "state": {
       "source": [
        "IPY_MODEL_4a2122d9417f4e8facf5d803cff8bfbf",
        "max"
       ],
       "target": [
        "IPY_MODEL_cb4a611799b4417ab713f1ac818203a7",
        "max_frame"
       ]
      }
     },
     "cf8ec5d7859f4871af5c73655dad26e7": {
      "model_module": "@jupyter-widgets/controls",
      "model_module_version": "1.5.0",
      "model_name": "ImageModel",
      "state": {
       "layout": "IPY_MODEL_d2b8d678681e41f0b5adb029e94cbf6a",
       "width": "900.0"
      }
     },
     "cfc15184f0204e9fa5a320b2da14b796": {
      "model_module": "@jupyter-widgets/controls",
      "model_module_version": "1.5.0",
      "model_name": "LinkModel",
      "state": {
       "source": [
        "IPY_MODEL_692b2ed437314a68a32e2adf86fa4eeb",
        "max"
       ],
       "target": [
        "IPY_MODEL_51396080bac949a19d71c8c6b90d24cf",
        "max_frame"
       ]
      }
     },
     "d2b7fdc93ee9403b8e8505a5c74f4185": {
      "model_module": "nglview-js-widgets",
      "model_module_version": "3.0.1",
      "model_name": "NGLModel",
      "state": {
       "_camera_orientation": [
        25.365924190270157,
        0,
        0,
        0,
        0,
        25.365924190270157,
        0,
        0,
        0,
        0,
        25.365924190270157,
        0,
        -0.09125018119812012,
        -0.08335000276565552,
        0.526699960231781,
        1
       ],
       "_camera_str": "orthographic",
       "_gui_theme": null,
       "_ibtn_fullscreen": "IPY_MODEL_84f07f86f4f648869a8feb37dcd7ef4b",
       "_igui": null,
       "_iplayer": "IPY_MODEL_9427a1137eae4883bcd9f6f7a95c30f7",
       "_ngl_color_dict": {},
       "_ngl_coordinate_resource": {},
       "_ngl_full_stage_parameters": {
        "ambientColor": 14540253,
        "ambientIntensity": 0.2,
        "backgroundColor": "white",
        "cameraEyeSep": 0.3,
        "cameraFov": 40,
        "cameraType": "perspective",
        "clipDist": 10,
        "clipFar": 100,
        "clipNear": 0,
        "fogFar": 100,
        "fogNear": 50,
        "hoverTimeout": 0,
        "impostor": true,
        "lightColor": 14540253,
        "lightIntensity": 1,
        "mousePreset": "default",
        "panSpeed": 1,
        "quality": "medium",
        "rotateSpeed": 2,
        "sampleLevel": 0,
        "tooltip": true,
        "workerDefault": true,
        "zoomSpeed": 1.2
       },
       "_ngl_msg_archive": [
        {
         "args": [
          {
           "binary": false,
           "data": "\nQCElemental\n\n 25 24  0  0  0  0  0  0  0  0  0\n   -3.1262   -0.3645   -2.3242  C  0  0     0  0  0  0  0  0\n   -2.2633   -0.1115   -1.1441  C  0  0     0  0  0  0  0  0\n   -2.7669    0.3471   -0.1060  O  0  0     0  0  0  0  0  0\n   -0.8677   -0.3675   -1.1302  N  0  0     0  0  0  0  0  0\n   -0.0784   -0.1102    0.0233  C  0  0     0  0  0  0  0  0\n   -0.0983    1.3383    0.4594  C  0  0     0  0  0  0  0  0\n   -0.6062   -0.9189    1.1865  C  0  0     0  0  0  0  0  0\n    1.3359   -0.4351   -0.2792  C  0  0     0  0  0  0  0  0\n    2.3768   -0.2817    0.6811  N  0  0     0  0  0  0  0  0\n    3.7206   -0.6321    0.2680  C  0  0     0  0  0  0  0  0\n    1.6130   -0.8606   -1.4290  O  0  0     0  0  0  0  0  0\n   -4.1740   -0.5557   -2.0311  H  0  0     0  0  0  0  0  0\n   -3.0622    0.5193   -2.9975  H  0  0     0  0  0  0  0  0\n   -2.7917   -1.2329   -2.9234  H  0  0     0  0  0  0  0  0\n   -0.4361   -0.7491   -1.9875  H  0  0     0  0  0  0  0  0\n    0.6829    1.4408    1.2414  H  0  0     0  0  0  0  0  0\n   -1.0677    1.5647    0.9661  H  0  0     0  0  0  0  0  0\n    0.1521    2.0406   -0.3417  H  0  0     0  0  0  0  0  0\n    0.2125   -1.0189    1.9441  H  0  0     0  0  0  0  0  0\n   -1.3940   -0.3072    1.6677  H  0  0     0  0  0  0  0  0\n   -1.0463   -1.8739    0.8952  H  0  0     0  0  0  0  0  0\n    2.1536    0.0661    1.6224  H  0  0     0  0  0  0  0  0\n    3.7095   -1.5129   -0.3874  H  0  0     0  0  0  0  0  0\n    4.1233    0.2161   -0.3497  H  0  0     0  0  0  0  0  0\n    4.3565   -0.7589    1.1630  H  0  0     0  0  0  0  0  0\n  1  2  1  0  0  0  0\n  1 12  1  0  0  0  0\n  1 13  1  0  0  0  0\n  1 14  1  0  0  0  0\n  2  3  2  0  0  0  0\n  2  4  1  0  0  0  0\n  4  5  1  0  0  0  0\n  4 15  1  0  0  0  0\n  5  6  1  0  0  0  0\n  5  7  1  0  0  0  0\n  5  8  1  0  0  0  0\n  6 16  1  0  0  0  0\n  6 17  1  0  0  0  0\n  6 18  1  0  0  0  0\n  7 19  1  0  0  0  0\n  7 20  1  0  0  0  0\n  7 21  1  0  0  0  0\n  8  9  1  0  0  0  0\n  8 11  2  0  0  0  0\n  9 10  1  0  0  0  0\n  9 22  1  0  0  0  0\n 10 23  1  0  0  0  0\n 10 24  1  0  0  0  0\n 10 25  1  0  0  0  0\n",
           "type": "blob"
          }
         ],
         "kwargs": {
          "defaultRepresentation": true,
          "ext": "sdf"
         },
         "methodName": "loadFile",
         "reconstruc_color_scheme": false,
         "target": "Stage",
         "type": "call_method"
        }
       ],
       "_ngl_original_stage_parameters": {
        "ambientColor": 14540253,
        "ambientIntensity": 0.2,
        "backgroundColor": "white",
        "cameraEyeSep": 0.3,
        "cameraFov": 40,
        "cameraType": "perspective",
        "clipDist": 10,
        "clipFar": 100,
        "clipNear": 0,
        "fogFar": 100,
        "fogNear": 50,
        "hoverTimeout": 0,
        "impostor": true,
        "lightColor": 14540253,
        "lightIntensity": 1,
        "mousePreset": "default",
        "panSpeed": 1,
        "quality": "medium",
        "rotateSpeed": 2,
        "sampleLevel": 0,
        "tooltip": true,
        "workerDefault": true,
        "zoomSpeed": 1.2
       },
       "_ngl_repr_dict": {
        "0": {
         "0": {
          "params": {
           "aspectRatio": 1.5,
           "assembly": "default",
           "bondScale": 0.3,
           "bondSpacing": 0.75,
           "clipCenter": {
            "x": 0,
            "y": 0,
            "z": 0
           },
           "clipNear": 0,
           "clipRadius": 0,
           "colorMode": "hcl",
           "colorReverse": false,
           "colorScale": "",
           "colorScheme": "element",
           "colorValue": 9474192,
           "cylinderOnly": false,
           "defaultAssembly": "",
           "depthWrite": true,
           "diffuse": 16777215,
           "diffuseInterior": false,
           "disableImpostor": false,
           "disablePicking": false,
           "flatShaded": false,
           "interiorColor": 2236962,
           "interiorDarkening": 0,
           "lazy": false,
           "lineOnly": false,
           "linewidth": 2,
           "matrix": {
            "elements": [
             1,
             0,
             0,
             0,
             0,
             1,
             0,
             0,
             0,
             0,
             1,
             0,
             0,
             0,
             0,
             1
            ]
           },
           "metalness": 0,
           "multipleBond": "off",
           "opacity": 1,
           "openEnded": true,
           "quality": "high",
           "radialSegments": 20,
           "radiusData": {},
           "radiusScale": 2,
           "radiusSize": 0.15,
           "radiusType": "size",
           "roughness": 0.4,
           "sele": "",
           "side": "double",
           "sphereDetail": 2,
           "useInteriorColor": true,
           "visible": true,
           "wireframe": false
          },
          "type": "ball+stick"
         }
        }
       },
       "_ngl_serialize": false,
       "_ngl_version": "2.0.0-dev.36",
       "_ngl_view_id": [
        "8CA0ECE0-5777-498A-9273-D76564C0020C"
       ],
       "_player_dict": {},
       "_scene_position": {},
       "_scene_rotation": {},
       "_synced_model_ids": [],
       "_synced_repr_model_ids": [],
       "_view_height": "",
       "_view_width": "",
       "background": "white",
       "frame": 0,
       "gui_style": null,
       "layout": "IPY_MODEL_a9d96c6d6c674ce9a064589f0c4c02db",
       "max_frame": 0,
       "n_components": 1,
       "picked": {}
      }
     },
     "d2b8d678681e41f0b5adb029e94cbf6a": {
      "model_module": "@jupyter-widgets/base",
      "model_module_version": "1.2.0",
      "model_name": "LayoutModel",
      "state": {}
     },
     "d3948aed4ecf412eb21130291ecdcfee": {
      "model_module": "@jupyter-widgets/controls",
      "model_module_version": "1.5.0",
      "model_name": "SliderStyleModel",
      "state": {
       "description_width": ""
      }
     },
     "d3f20dae3a44474d9c6765416d78dfdf": {
      "model_module": "@jupyter-widgets/controls",
      "model_module_version": "1.5.0",
      "model_name": "LinkModel",
      "state": {
       "source": [
        "IPY_MODEL_c6fd40ac39f9474e80a7a8d9411f3131",
        "max"
       ],
       "target": [
        "IPY_MODEL_deeb9082771a4e02a8a9903e86db2a01",
        "max_frame"
       ]
      }
     },
     "d5221d2b8aff4ae4b5bf3c6e0b8c2cf5": {
      "model_module": "@jupyter-widgets/base",
      "model_module_version": "1.2.0",
      "model_name": "LayoutModel",
      "state": {}
     },
     "d5f4ffea646646b08ea78caaa1f67432": {
      "model_module": "@jupyter-widgets/controls",
      "model_module_version": "1.5.0",
      "model_name": "HBoxModel",
      "state": {
       "children": [
        "IPY_MODEL_b50af02486484926bc436a7bf2114238",
        "IPY_MODEL_585d006768eb4fa596ca6715940e6fe8"
       ],
       "layout": "IPY_MODEL_a582359e001f4fb88d27f5d1d8b9a1cc"
      }
     },
     "d60118b958e34d22ad25ef522762c36b": {
      "model_module": "@jupyter-widgets/controls",
      "model_module_version": "1.5.0",
      "model_name": "LinkModel",
      "state": {
       "source": [
        "IPY_MODEL_cce2e4454d2a41fca4aeb03515c504e4",
        "max"
       ],
       "target": [
        "IPY_MODEL_e8a38454e1d44b439bd83cbde13ce899",
        "max_frame"
       ]
      }
     },
     "d69461cda5e645cfafe8c0dc78abc959": {
      "model_module": "@jupyter-widgets/controls",
      "model_module_version": "1.5.0",
      "model_name": "DescriptionStyleModel",
      "state": {
       "description_width": ""
      }
     },
     "d7ae5972234b41908e5d7f39af0fb647": {
      "model_module": "@jupyter-widgets/controls",
      "model_module_version": "1.5.0",
      "model_name": "LinkModel",
      "state": {
       "source": [
        "IPY_MODEL_b50af02486484926bc436a7bf2114238",
        "value"
       ],
       "target": [
        "IPY_MODEL_78d64a3c0e7d4278a94bb4c8d1a6c046",
        "frame"
       ]
      }
     },
     "d7e85de77c2c4cf48a4cfeafe9ca1bdd": {
      "model_module": "@jupyter-widgets/controls",
      "model_module_version": "1.5.0",
      "model_name": "DescriptionStyleModel",
      "state": {
       "description_width": ""
      }
     },
     "d8b1c98b3f214f80abf5c60065bacdd2": {
      "model_module": "nglview-js-widgets",
      "model_module_version": "3.0.1",
      "model_name": "NGLModel",
      "state": {
       "_camera_orientation": [
        15.996985732757338,
        0,
        0,
        0,
        0,
        15.996985732757338,
        0,
        0,
        0,
        0,
        15.996985732757338,
        0,
        0.7430999279022217,
        0.7586499750614166,
        0.08079999685287476,
        1
       ],
       "_camera_str": "orthographic",
       "_gui_theme": null,
       "_ibtn_fullscreen": "IPY_MODEL_8d989d263944461e9bfc26e10b2e9e4a",
       "_igui": null,
       "_iplayer": "IPY_MODEL_56a428064efd4a49ae4449d344177102",
       "_ngl_color_dict": {},
       "_ngl_coordinate_resource": {},
       "_ngl_full_stage_parameters": {
        "ambientColor": 14540253,
        "ambientIntensity": 0.2,
        "backgroundColor": "white",
        "cameraEyeSep": 0.3,
        "cameraFov": 40,
        "cameraType": "perspective",
        "clipDist": 10,
        "clipFar": 100,
        "clipNear": 0,
        "fogFar": 100,
        "fogNear": 50,
        "hoverTimeout": 0,
        "impostor": true,
        "lightColor": 14540253,
        "lightIntensity": 1,
        "mousePreset": "default",
        "panSpeed": 1,
        "quality": "medium",
        "rotateSpeed": 2,
        "sampleLevel": 0,
        "tooltip": true,
        "workerDefault": true,
        "zoomSpeed": 1.2
       },
       "_ngl_msg_archive": [
        {
         "args": [
          {
           "binary": false,
           "data": "\nQCElemental\n\n  8  7  0  0  0  0  0  0  0  0  0\n   -1.1137   -1.3390    0.1491  C  0  0     0  0  0  0  0  0\n   -0.1742   -0.2602   -0.0358  N  0  0     0  0  0  0  0  0\n   -2.0582   -0.9653    0.6141  H  0  0     0  0  0  0  0  0\n   -0.7397   -2.1471    0.7964  H  0  0     0  0  0  0  0  0\n   -1.4261   -1.8077   -0.8147  H  0  0     0  0  0  0  0  0\n    0.3152   -0.3594   -0.9580  H  0  0     0  0  0  0  0  0\n   -0.7300    0.6298   -0.0259  H  0  0     0  0  0  0  0  0\n    0.5720   -0.2300    0.6865  H  0  0     0  0  0  0  0  0\n  1  2  1  0  0  0  0\n  1  3  1  0  0  0  0\n  1  4  1  0  0  0  0\n  1  5  1  0  0  0  0\n  2  6  1  0  0  0  0\n  2  7  1  0  0  0  0\n  2  8  1  0  0  0  0\n",
           "type": "blob"
          }
         ],
         "kwargs": {
          "defaultRepresentation": true,
          "ext": "sdf"
         },
         "methodName": "loadFile",
         "reconstruc_color_scheme": false,
         "target": "Stage",
         "type": "call_method"
        }
       ],
       "_ngl_original_stage_parameters": {
        "ambientColor": 14540253,
        "ambientIntensity": 0.2,
        "backgroundColor": "white",
        "cameraEyeSep": 0.3,
        "cameraFov": 40,
        "cameraType": "perspective",
        "clipDist": 10,
        "clipFar": 100,
        "clipNear": 0,
        "fogFar": 100,
        "fogNear": 50,
        "hoverTimeout": 0,
        "impostor": true,
        "lightColor": 14540253,
        "lightIntensity": 1,
        "mousePreset": "default",
        "panSpeed": 1,
        "quality": "medium",
        "rotateSpeed": 2,
        "sampleLevel": 0,
        "tooltip": true,
        "workerDefault": true,
        "zoomSpeed": 1.2
       },
       "_ngl_repr_dict": {
        "0": {
         "0": {
          "params": {
           "aspectRatio": 1.5,
           "assembly": "default",
           "bondScale": 0.3,
           "bondSpacing": 0.75,
           "clipCenter": {
            "x": 0,
            "y": 0,
            "z": 0
           },
           "clipNear": 0,
           "clipRadius": 0,
           "colorMode": "hcl",
           "colorReverse": false,
           "colorScale": "",
           "colorScheme": "element",
           "colorValue": 9474192,
           "cylinderOnly": false,
           "defaultAssembly": "",
           "depthWrite": true,
           "diffuse": 16777215,
           "diffuseInterior": false,
           "disableImpostor": false,
           "disablePicking": false,
           "flatShaded": false,
           "interiorColor": 2236962,
           "interiorDarkening": 0,
           "lazy": false,
           "lineOnly": false,
           "linewidth": 2,
           "matrix": {
            "elements": [
             1,
             0,
             0,
             0,
             0,
             1,
             0,
             0,
             0,
             0,
             1,
             0,
             0,
             0,
             0,
             1
            ]
           },
           "metalness": 0,
           "multipleBond": "off",
           "opacity": 1,
           "openEnded": true,
           "quality": "high",
           "radialSegments": 20,
           "radiusData": {},
           "radiusScale": 2,
           "radiusSize": 0.15,
           "radiusType": "size",
           "roughness": 0.4,
           "sele": "",
           "side": "double",
           "sphereDetail": 2,
           "useInteriorColor": true,
           "visible": true,
           "wireframe": false
          },
          "type": "ball+stick"
         }
        }
       },
       "_ngl_serialize": false,
       "_ngl_version": "2.0.0-dev.36",
       "_ngl_view_id": [
        "E2DE3FD6-9A16-459B-819B-589F63FD1E42"
       ],
       "_player_dict": {},
       "_scene_position": {},
       "_scene_rotation": {},
       "_synced_model_ids": [],
       "_synced_repr_model_ids": [],
       "_view_height": "",
       "_view_width": "",
       "background": "white",
       "frame": 0,
       "gui_style": null,
       "layout": "IPY_MODEL_f6162dfbeafb4228a3cefff98c22f9d2",
       "max_frame": 0,
       "n_components": 1,
       "picked": {}
      }
     },
     "d8ef8685a7b843b0979e005cb4b68bbd": {
      "model_module": "@jupyter-widgets/base",
      "model_module_version": "1.2.0",
      "model_name": "LayoutModel",
      "state": {}
     },
     "d99b1eb743fb4333b6ca2af80ecbc35d": {
      "model_module": "@jupyter-widgets/base",
      "model_module_version": "1.2.0",
      "model_name": "LayoutModel",
      "state": {}
     },
     "da94aaae2ce447f08298cc12934715d9": {
      "model_module": "@jupyter-widgets/base",
      "model_module_version": "1.2.0",
      "model_name": "LayoutModel",
      "state": {}
     },
     "dac5f14b5ac041159e3607d7c9dae977": {
      "model_module": "@jupyter-widgets/controls",
      "model_module_version": "1.5.0",
      "model_name": "LinkModel",
      "state": {
       "source": [
        "IPY_MODEL_fff97dd0655d4719b3a2c2321a596580",
        "value"
       ],
       "target": [
        "IPY_MODEL_171ce05cca5a4075b17948165192edfd",
        "frame"
       ]
      }
     },
     "dca6f90839aa4233935ad0ec900524b9": {
      "model_module": "@jupyter-widgets/controls",
      "model_module_version": "1.5.0",
      "model_name": "LinkModel",
      "state": {
       "source": [
        "IPY_MODEL_e720a46f98074924a72009320f4dd901",
        "value"
       ],
       "target": [
        "IPY_MODEL_deeb9082771a4e02a8a9903e86db2a01",
        "frame"
       ]
      }
     },
     "dcfbf859b4ac45b0a5e746293fd12b82": {
      "model_module": "@jupyter-widgets/controls",
      "model_module_version": "1.5.0",
      "model_name": "LinkModel",
      "state": {
       "source": [
        "IPY_MODEL_fff97dd0655d4719b3a2c2321a596580",
        "value"
       ],
       "target": [
        "IPY_MODEL_4a4fe232988c485daf2a31924f68fd19",
        "value"
       ]
      }
     },
     "de4bb0a42f7743feb784f7e50ddd3fd2": {
      "model_module": "@jupyter-widgets/controls",
      "model_module_version": "1.5.0",
      "model_name": "ImageModel",
      "state": {
       "layout": "IPY_MODEL_3d8076383bbf4ce4add8137f717f7d0d",
       "width": "900.0"
      }
     },
     "dec29a40677d421586dd62c01e8fed83": {
      "model_module": "@jupyter-widgets/controls",
      "model_module_version": "1.5.0",
      "model_name": "SliderStyleModel",
      "state": {
       "description_width": ""
      }
     },
     "deeb9082771a4e02a8a9903e86db2a01": {
      "model_module": "nglview-js-widgets",
      "model_module_version": "3.0.1",
      "model_name": "NGLModel",
      "state": {
       "_camera_orientation": [
        15.996985732757338,
        0,
        0,
        0,
        0,
        15.996985732757338,
        0,
        0,
        0,
        0,
        15.996985732757338,
        0,
        0.7430999279022217,
        0.7586499750614166,
        0.08079999685287476,
        1
       ],
       "_camera_str": "orthographic",
       "_gui_theme": null,
       "_ibtn_fullscreen": "IPY_MODEL_ec65ab1c189f489a8a0b689396e512e8",
       "_igui": null,
       "_iplayer": "IPY_MODEL_558895b2b57644ae92e500cc167ebf53",
       "_ngl_color_dict": {},
       "_ngl_coordinate_resource": {},
       "_ngl_full_stage_parameters": {
        "ambientColor": 14540253,
        "ambientIntensity": 0.2,
        "backgroundColor": "white",
        "cameraEyeSep": 0.3,
        "cameraFov": 40,
        "cameraType": "perspective",
        "clipDist": 10,
        "clipFar": 100,
        "clipNear": 0,
        "fogFar": 100,
        "fogNear": 50,
        "hoverTimeout": 0,
        "impostor": true,
        "lightColor": 14540253,
        "lightIntensity": 1,
        "mousePreset": "default",
        "panSpeed": 1,
        "quality": "medium",
        "rotateSpeed": 2,
        "sampleLevel": 0,
        "tooltip": true,
        "workerDefault": true,
        "zoomSpeed": 1.2
       },
       "_ngl_msg_archive": [
        {
         "args": [
          {
           "binary": false,
           "data": "\nQCElemental\n\n  8  7  0  0  0  0  0  0  0  0  0\n   -1.1137   -1.3390    0.1491  C  0  0     0  0  0  0  0  0\n   -0.1742   -0.2602   -0.0358  N  0  0     0  0  0  0  0  0\n   -2.0582   -0.9653    0.6141  H  0  0     0  0  0  0  0  0\n   -0.7397   -2.1471    0.7964  H  0  0     0  0  0  0  0  0\n   -1.4261   -1.8077   -0.8147  H  0  0     0  0  0  0  0  0\n    0.3152   -0.3594   -0.9580  H  0  0     0  0  0  0  0  0\n   -0.7300    0.6298   -0.0259  H  0  0     0  0  0  0  0  0\n    0.5720   -0.2300    0.6865  H  0  0     0  0  0  0  0  0\n  1  2  1  0  0  0  0\n  1  3  1  0  0  0  0\n  1  4  1  0  0  0  0\n  1  5  1  0  0  0  0\n  2  6  1  0  0  0  0\n  2  7  1  0  0  0  0\n  2  8  1  0  0  0  0\n",
           "type": "blob"
          }
         ],
         "kwargs": {
          "defaultRepresentation": true,
          "ext": "sdf"
         },
         "methodName": "loadFile",
         "reconstruc_color_scheme": false,
         "target": "Stage",
         "type": "call_method"
        }
       ],
       "_ngl_original_stage_parameters": {
        "ambientColor": 14540253,
        "ambientIntensity": 0.2,
        "backgroundColor": "white",
        "cameraEyeSep": 0.3,
        "cameraFov": 40,
        "cameraType": "perspective",
        "clipDist": 10,
        "clipFar": 100,
        "clipNear": 0,
        "fogFar": 100,
        "fogNear": 50,
        "hoverTimeout": 0,
        "impostor": true,
        "lightColor": 14540253,
        "lightIntensity": 1,
        "mousePreset": "default",
        "panSpeed": 1,
        "quality": "medium",
        "rotateSpeed": 2,
        "sampleLevel": 0,
        "tooltip": true,
        "workerDefault": true,
        "zoomSpeed": 1.2
       },
       "_ngl_repr_dict": {
        "0": {
         "0": {
          "params": {
           "aspectRatio": 1.5,
           "assembly": "default",
           "bondScale": 0.3,
           "bondSpacing": 0.75,
           "clipCenter": {
            "x": 0,
            "y": 0,
            "z": 0
           },
           "clipNear": 0,
           "clipRadius": 0,
           "colorMode": "hcl",
           "colorReverse": false,
           "colorScale": "",
           "colorScheme": "element",
           "colorValue": 9474192,
           "cylinderOnly": false,
           "defaultAssembly": "",
           "depthWrite": true,
           "diffuse": 16777215,
           "diffuseInterior": false,
           "disableImpostor": false,
           "disablePicking": false,
           "flatShaded": false,
           "interiorColor": 2236962,
           "interiorDarkening": 0,
           "lazy": false,
           "lineOnly": false,
           "linewidth": 2,
           "matrix": {
            "elements": [
             1,
             0,
             0,
             0,
             0,
             1,
             0,
             0,
             0,
             0,
             1,
             0,
             0,
             0,
             0,
             1
            ]
           },
           "metalness": 0,
           "multipleBond": "off",
           "opacity": 1,
           "openEnded": true,
           "quality": "high",
           "radialSegments": 20,
           "radiusData": {},
           "radiusScale": 2,
           "radiusSize": 0.15,
           "radiusType": "size",
           "roughness": 0.4,
           "sele": "",
           "side": "double",
           "sphereDetail": 2,
           "useInteriorColor": true,
           "visible": true,
           "wireframe": false
          },
          "type": "ball+stick"
         }
        }
       },
       "_ngl_serialize": false,
       "_ngl_version": "2.0.0-dev.36",
       "_ngl_view_id": [
        "50B3C123-C480-477E-A40B-19E6E59931B7"
       ],
       "_player_dict": {},
       "_scene_position": {},
       "_scene_rotation": {},
       "_synced_model_ids": [],
       "_synced_repr_model_ids": [],
       "_view_height": "",
       "_view_width": "",
       "background": "white",
       "frame": 0,
       "gui_style": null,
       "layout": "IPY_MODEL_d5221d2b8aff4ae4b5bf3c6e0b8c2cf5",
       "max_frame": 0,
       "n_components": 1,
       "picked": {}
      }
     },
     "e07b9df2a22c470795541d6755c84edf": {
      "model_module": "@jupyter-widgets/base",
      "model_module_version": "1.2.0",
      "model_name": "LayoutModel",
      "state": {}
     },
     "e1daf9e4bbc749f18ed2f23d75c0df3e": {
      "model_module": "nglview-js-widgets",
      "model_module_version": "3.0.1",
      "model_name": "ColormakerRegistryModel",
      "state": {
       "_msg_ar": [],
       "_msg_q": [],
       "_ready": true,
       "layout": "IPY_MODEL_ac8b826b66344338bd79b3ff56fa31c0"
      }
     },
     "e204fdcb856b47eb8f1318aff7108cdd": {
      "model_module": "@jupyter-widgets/controls",
      "model_module_version": "1.5.0",
      "model_name": "ButtonStyleModel",
      "state": {}
     },
     "e2b2d575e733420ba296a911cf96d11d": {
      "model_module": "@jupyter-widgets/base",
      "model_module_version": "1.2.0",
      "model_name": "LayoutModel",
      "state": {}
     },
     "e2c790e0fd0744a0bc9b2639f6e3485d": {
      "model_module": "@jupyter-widgets/base",
      "model_module_version": "1.2.0",
      "model_name": "LayoutModel",
      "state": {}
     },
     "e36a78d5b9104857b6502a296f8a6603": {
      "model_module": "@jupyter-widgets/base",
      "model_module_version": "1.2.0",
      "model_name": "LayoutModel",
      "state": {}
     },
     "e3c9c4bc309844ad83085fda35d49d63": {
      "model_module": "@jupyter-widgets/base",
      "model_module_version": "1.2.0",
      "model_name": "LayoutModel",
      "state": {}
     },
     "e52fe5ec66904aa591d88bbc7bf3ba83": {
      "model_module": "@jupyter-widgets/controls",
      "model_module_version": "1.5.0",
      "model_name": "LinkModel",
      "state": {
       "source": [
        "IPY_MODEL_cce2e4454d2a41fca4aeb03515c504e4",
        "value"
       ],
       "target": [
        "IPY_MODEL_e8a38454e1d44b439bd83cbde13ce899",
        "frame"
       ]
      }
     },
     "e6659315b3844a16834247fa9beec3c8": {
      "model_module": "@jupyter-widgets/controls",
      "model_module_version": "1.5.0",
      "model_name": "DescriptionStyleModel",
      "state": {
       "description_width": ""
      }
     },
     "e720a46f98074924a72009320f4dd901": {
      "model_module": "@jupyter-widgets/controls",
      "model_module_version": "1.5.0",
      "model_name": "PlayModel",
      "state": {
       "layout": "IPY_MODEL_7c0a87240465404f8ad4593b5cbb4182",
       "max": 0,
       "style": "IPY_MODEL_cac32793e02946968b09915e519f3cbd"
      }
     },
     "e775079fd2464214a25b87034eaa5106": {
      "model_module": "@jupyter-widgets/controls",
      "model_module_version": "1.5.0",
      "model_name": "ImageModel",
      "state": {
       "layout": "IPY_MODEL_b5f3206817b944b5b2e3217208ace3c6",
       "width": "900.0"
      }
     },
     "e799c80089884fb3bb75fa59bfab6bb2": {
      "model_module": "@jupyter-widgets/controls",
      "model_module_version": "1.5.0",
      "model_name": "LinkModel",
      "state": {
       "source": [
        "IPY_MODEL_b4236f1c902441e6a5899a7b1eabae31",
        "value"
       ],
       "target": [
        "IPY_MODEL_cb4a611799b4417ab713f1ac818203a7",
        "frame"
       ]
      }
     },
     "e8a38454e1d44b439bd83cbde13ce899": {
      "model_module": "nglview-js-widgets",
      "model_module_version": "3.0.1",
      "model_name": "NGLModel",
      "state": {
       "_camera_orientation": [
        25.365924190270157,
        0,
        0,
        0,
        0,
        25.365924190270157,
        0,
        0,
        0,
        0,
        25.365924190270157,
        0,
        -0.09125018119812012,
        -0.08335000276565552,
        0.526699960231781,
        1
       ],
       "_camera_str": "orthographic",
       "_gui_theme": null,
       "_ibtn_fullscreen": "IPY_MODEL_8dc521a345a74b228e4e4d228ff7bc09",
       "_igui": null,
       "_iplayer": "IPY_MODEL_208cdf538a5846e7a11fa3aae647a813",
       "_ngl_color_dict": {},
       "_ngl_coordinate_resource": {},
       "_ngl_full_stage_parameters": {
        "ambientColor": 14540253,
        "ambientIntensity": 0.2,
        "backgroundColor": "white",
        "cameraEyeSep": 0.3,
        "cameraFov": 40,
        "cameraType": "perspective",
        "clipDist": 10,
        "clipFar": 100,
        "clipNear": 0,
        "fogFar": 100,
        "fogNear": 50,
        "hoverTimeout": 0,
        "impostor": true,
        "lightColor": 14540253,
        "lightIntensity": 1,
        "mousePreset": "default",
        "panSpeed": 1,
        "quality": "medium",
        "rotateSpeed": 2,
        "sampleLevel": 0,
        "tooltip": true,
        "workerDefault": true,
        "zoomSpeed": 1.2
       },
       "_ngl_msg_archive": [
        {
         "args": [
          {
           "binary": false,
           "data": "\nQCElemental\n\n 25 24  0  0  0  0  0  0  0  0  0\n   -3.1262   -0.3645   -2.3242  C  0  0     0  0  0  0  0  0\n   -2.2633   -0.1115   -1.1441  C  0  0     0  0  0  0  0  0\n   -2.7669    0.3471   -0.1060  O  0  0     0  0  0  0  0  0\n   -0.8677   -0.3675   -1.1302  N  0  0     0  0  0  0  0  0\n   -0.0784   -0.1102    0.0233  C  0  0     0  0  0  0  0  0\n   -0.0983    1.3383    0.4594  C  0  0     0  0  0  0  0  0\n   -0.6062   -0.9189    1.1865  C  0  0     0  0  0  0  0  0\n    1.3359   -0.4351   -0.2792  C  0  0     0  0  0  0  0  0\n    2.3768   -0.2817    0.6811  N  0  0     0  0  0  0  0  0\n    3.7206   -0.6321    0.2680  C  0  0     0  0  0  0  0  0\n    1.6130   -0.8606   -1.4290  O  0  0     0  0  0  0  0  0\n   -4.1740   -0.5557   -2.0311  H  0  0     0  0  0  0  0  0\n   -3.0622    0.5193   -2.9975  H  0  0     0  0  0  0  0  0\n   -2.7917   -1.2329   -2.9234  H  0  0     0  0  0  0  0  0\n   -0.4361   -0.7491   -1.9875  H  0  0     0  0  0  0  0  0\n    0.6829    1.4408    1.2414  H  0  0     0  0  0  0  0  0\n   -1.0677    1.5647    0.9661  H  0  0     0  0  0  0  0  0\n    0.1521    2.0406   -0.3417  H  0  0     0  0  0  0  0  0\n    0.2125   -1.0189    1.9441  H  0  0     0  0  0  0  0  0\n   -1.3940   -0.3072    1.6677  H  0  0     0  0  0  0  0  0\n   -1.0463   -1.8739    0.8952  H  0  0     0  0  0  0  0  0\n    2.1536    0.0661    1.6224  H  0  0     0  0  0  0  0  0\n    3.7095   -1.5129   -0.3874  H  0  0     0  0  0  0  0  0\n    4.1233    0.2161   -0.3497  H  0  0     0  0  0  0  0  0\n    4.3565   -0.7589    1.1630  H  0  0     0  0  0  0  0  0\n  1  2  1  0  0  0  0\n  1 12  1  0  0  0  0\n  1 13  1  0  0  0  0\n  1 14  1  0  0  0  0\n  2  3  2  0  0  0  0\n  2  4  1  0  0  0  0\n  4  5  1  0  0  0  0\n  4 15  1  0  0  0  0\n  5  6  1  0  0  0  0\n  5  7  1  0  0  0  0\n  5  8  1  0  0  0  0\n  6 16  1  0  0  0  0\n  6 17  1  0  0  0  0\n  6 18  1  0  0  0  0\n  7 19  1  0  0  0  0\n  7 20  1  0  0  0  0\n  7 21  1  0  0  0  0\n  8  9  1  0  0  0  0\n  8 11  2  0  0  0  0\n  9 10  1  0  0  0  0\n  9 22  1  0  0  0  0\n 10 23  1  0  0  0  0\n 10 24  1  0  0  0  0\n 10 25  1  0  0  0  0\n",
           "type": "blob"
          }
         ],
         "kwargs": {
          "defaultRepresentation": true,
          "ext": "sdf"
         },
         "methodName": "loadFile",
         "reconstruc_color_scheme": false,
         "target": "Stage",
         "type": "call_method"
        }
       ],
       "_ngl_original_stage_parameters": {
        "ambientColor": 14540253,
        "ambientIntensity": 0.2,
        "backgroundColor": "white",
        "cameraEyeSep": 0.3,
        "cameraFov": 40,
        "cameraType": "perspective",
        "clipDist": 10,
        "clipFar": 100,
        "clipNear": 0,
        "fogFar": 100,
        "fogNear": 50,
        "hoverTimeout": 0,
        "impostor": true,
        "lightColor": 14540253,
        "lightIntensity": 1,
        "mousePreset": "default",
        "panSpeed": 1,
        "quality": "medium",
        "rotateSpeed": 2,
        "sampleLevel": 0,
        "tooltip": true,
        "workerDefault": true,
        "zoomSpeed": 1.2
       },
       "_ngl_repr_dict": {
        "0": {
         "0": {
          "params": {
           "aspectRatio": 1.5,
           "assembly": "default",
           "bondScale": 0.3,
           "bondSpacing": 0.75,
           "clipCenter": {
            "x": 0,
            "y": 0,
            "z": 0
           },
           "clipNear": 0,
           "clipRadius": 0,
           "colorMode": "hcl",
           "colorReverse": false,
           "colorScale": "",
           "colorScheme": "element",
           "colorValue": 9474192,
           "cylinderOnly": false,
           "defaultAssembly": "",
           "depthWrite": true,
           "diffuse": 16777215,
           "diffuseInterior": false,
           "disableImpostor": false,
           "disablePicking": false,
           "flatShaded": false,
           "interiorColor": 2236962,
           "interiorDarkening": 0,
           "lazy": false,
           "lineOnly": false,
           "linewidth": 2,
           "matrix": {
            "elements": [
             1,
             0,
             0,
             0,
             0,
             1,
             0,
             0,
             0,
             0,
             1,
             0,
             0,
             0,
             0,
             1
            ]
           },
           "metalness": 0,
           "multipleBond": "off",
           "opacity": 1,
           "openEnded": true,
           "quality": "high",
           "radialSegments": 20,
           "radiusData": {},
           "radiusScale": 2,
           "radiusSize": 0.15,
           "radiusType": "size",
           "roughness": 0.4,
           "sele": "",
           "side": "double",
           "sphereDetail": 2,
           "useInteriorColor": true,
           "visible": true,
           "wireframe": false
          },
          "type": "ball+stick"
         }
        }
       },
       "_ngl_serialize": false,
       "_ngl_version": "2.0.0-dev.36",
       "_ngl_view_id": [
        "8DCCF153-EFEB-4B80-A58F-5DBDFDCA9180"
       ],
       "_player_dict": {},
       "_scene_position": {},
       "_scene_rotation": {},
       "_synced_model_ids": [],
       "_synced_repr_model_ids": [],
       "_view_height": "",
       "_view_width": "",
       "background": "white",
       "frame": 0,
       "gui_style": null,
       "layout": "IPY_MODEL_2aefafc63da54bf4b19d8e56c046224e",
       "max_frame": 0,
       "n_components": 1,
       "picked": {}
      }
     },
     "e8f4b951f8da4da880fc4c21fde3539a": {
      "model_module": "@jupyter-widgets/controls",
      "model_module_version": "1.5.0",
      "model_name": "ButtonStyleModel",
      "state": {}
     },
     "e940bc48be674a218d878af7ee74a380": {
      "model_module": "@jupyter-widgets/controls",
      "model_module_version": "1.5.0",
      "model_name": "IntSliderModel",
      "state": {
       "layout": "IPY_MODEL_5ce0729568334fa5935e8090106b378b",
       "max": 0,
       "style": "IPY_MODEL_1950d01c13a7493c800d6ddef2efa53f"
      }
     },
     "e9dade74e4c14e2e862921f85196b4e5": {
      "model_module": "@jupyter-widgets/base",
      "model_module_version": "1.2.0",
      "model_name": "LayoutModel",
      "state": {}
     },
     "ea2657d84de64c609329b902a43ef72e": {
      "model_module": "@jupyter-widgets/base",
      "model_module_version": "1.2.0",
      "model_name": "LayoutModel",
      "state": {}
     },
     "ea3e672a76a84de3aba9909b8510cf12": {
      "model_module": "@jupyter-widgets/base",
      "model_module_version": "1.2.0",
      "model_name": "LayoutModel",
      "state": {}
     },
     "ead1b2ef54e24276a92fe1042b550f2f": {
      "model_module": "@jupyter-widgets/controls",
      "model_module_version": "1.5.0",
      "model_name": "ButtonModel",
      "state": {
       "icon": "compress",
       "layout": "IPY_MODEL_3ba955f57c6e418dbd6266c1fdcaca0b",
       "style": "IPY_MODEL_8357575a975945bebea2581af0f2b6f0"
      }
     },
     "eb230faced0c4eff9ea62f3a51c429af": {
      "model_module": "@jupyter-widgets/controls",
      "model_module_version": "1.5.0",
      "model_name": "LinkModel",
      "state": {
       "source": [
        "IPY_MODEL_5761b749d00943bbb829ba2541884b28",
        "max"
       ],
       "target": [
        "IPY_MODEL_91dfe90627f242baa4f0181ba9cb05ea",
        "max_frame"
       ]
      }
     },
     "ec19188ba00249c0bab1dd8af1e8bec3": {
      "model_module": "@jupyter-widgets/controls",
      "model_module_version": "1.5.0",
      "model_name": "LinkModel",
      "state": {
       "source": [
        "IPY_MODEL_04c7629fd60a44ab80a5c1926537ed3f",
        "max"
       ],
       "target": [
        "IPY_MODEL_d2b7fdc93ee9403b8e8505a5c74f4185",
        "max_frame"
       ]
      }
     },
     "ec65ab1c189f489a8a0b689396e512e8": {
      "model_module": "@jupyter-widgets/controls",
      "model_module_version": "1.5.0",
      "model_name": "ButtonModel",
      "state": {
       "icon": "compress",
       "layout": "IPY_MODEL_06dd5b6037e141f8bc85761aa9633962",
       "style": "IPY_MODEL_2e2116ef8e6b43bdb88cc047ef5917e8"
      }
     },
     "edcec2f46b3c447da55d1b1e1cfffc4d": {
      "model_module": "@jupyter-widgets/controls",
      "model_module_version": "1.5.0",
      "model_name": "LinkModel",
      "state": {
       "source": [
        "IPY_MODEL_11e225f6faae434db5c4a2ff84670217",
        "max"
       ],
       "target": [
        "IPY_MODEL_30b6635b760549f9b82bf74a346a7f94",
        "max_frame"
       ]
      }
     },
     "ef87c459d52349cdb11850c96ac2e062": {
      "model_module": "@jupyter-widgets/controls",
      "model_module_version": "1.5.0",
      "model_name": "LinkModel",
      "state": {
       "source": [
        "IPY_MODEL_04c7629fd60a44ab80a5c1926537ed3f",
        "value"
       ],
       "target": [
        "IPY_MODEL_d2b7fdc93ee9403b8e8505a5c74f4185",
        "frame"
       ]
      }
     },
     "efc9f8aa79924a389900562f949a0350": {
      "model_module": "@jupyter-widgets/controls",
      "model_module_version": "1.5.0",
      "model_name": "DescriptionStyleModel",
      "state": {
       "description_width": ""
      }
     },
     "f4e8aa523db44c4998061c5204323d80": {
      "model_module": "@jupyter-widgets/controls",
      "model_module_version": "1.5.0",
      "model_name": "ButtonStyleModel",
      "state": {}
     },
     "f593b1511ab4430f9d272bbc11f4307d": {
      "model_module": "nglview-js-widgets",
      "model_module_version": "3.0.1",
      "model_name": "NGLModel",
      "state": {
       "_camera_orientation": [
        18.435485762718002,
        0,
        0,
        0,
        0,
        18.435485762718002,
        0,
        0,
        0,
        0,
        18.435485762718002,
        0,
        -0.2803500294685364,
        -0.9233499765396118,
        -1.6167999431490898,
        1
       ],
       "_camera_str": "orthographic",
       "_gui_theme": null,
       "_ibtn_fullscreen": "IPY_MODEL_ae2d21981af0459d99a702ba8182545d",
       "_igui": null,
       "_iplayer": "IPY_MODEL_0f3596820f5141e4ae85a2ac2f22f35f",
       "_ngl_color_dict": {},
       "_ngl_coordinate_resource": {},
       "_ngl_full_stage_parameters": {
        "ambientColor": 14540253,
        "ambientIntensity": 0.2,
        "backgroundColor": "white",
        "cameraEyeSep": 0.3,
        "cameraFov": 40,
        "cameraType": "perspective",
        "clipDist": 10,
        "clipFar": 100,
        "clipNear": 0,
        "fogFar": 100,
        "fogNear": 50,
        "hoverTimeout": 0,
        "impostor": true,
        "lightColor": 14540253,
        "lightIntensity": 1,
        "mousePreset": "default",
        "panSpeed": 1,
        "quality": "medium",
        "rotateSpeed": 2,
        "sampleLevel": 0,
        "tooltip": true,
        "workerDefault": true,
        "zoomSpeed": 1.2
       },
       "_ngl_msg_archive": [
        {
         "args": [
          {
           "binary": false,
           "data": "\nQCElemental\n\n 10  9  0  0  0  0  0  0  0  0  0\n   -0.4899    1.7877    0.9210  C  0  0     0  0  0  0  0  0\n    0.8697    1.1810    1.9128  S  0  0     0  0  0  0  0  0\n    0.6876    1.5886    3.3621  O  0  0     0  0  0  0  0  0\n    1.0190   -0.6024    1.7322  C  0  0     0  0  0  0  0  0\n   -0.5376    2.8864    0.9644  H  0  0     0  0  0  0  0  0\n   -0.3234    1.5047   -0.1285  H  0  0     0  0  0  0  0  0\n   -1.4181    1.2954    1.2491  H  0  0     0  0  0  0  0  0\n    0.1487   -1.0397    1.1829  H  0  0     0  0  0  0  0  0\n    1.9788   -0.8261    1.2081  H  0  0     0  0  0  0  0  0\n    1.0525   -1.0377    2.7612  H  0  0     0  0  0  0  0  0\n  1  2  1  0  0  0  0\n  1  5  1  0  0  0  0\n  1  6  1  0  0  0  0\n  1  7  1  0  0  0  0\n  2  3  2  0  0  0  0\n  2  4  1  0  0  0  0\n  4  8  1  0  0  0  0\n  4  9  1  0  0  0  0\n  4 10  1  0  0  0  0\n",
           "type": "blob"
          }
         ],
         "kwargs": {
          "defaultRepresentation": true,
          "ext": "sdf"
         },
         "methodName": "loadFile",
         "reconstruc_color_scheme": false,
         "target": "Stage",
         "type": "call_method"
        }
       ],
       "_ngl_original_stage_parameters": {
        "ambientColor": 14540253,
        "ambientIntensity": 0.2,
        "backgroundColor": "white",
        "cameraEyeSep": 0.3,
        "cameraFov": 40,
        "cameraType": "perspective",
        "clipDist": 10,
        "clipFar": 100,
        "clipNear": 0,
        "fogFar": 100,
        "fogNear": 50,
        "hoverTimeout": 0,
        "impostor": true,
        "lightColor": 14540253,
        "lightIntensity": 1,
        "mousePreset": "default",
        "panSpeed": 1,
        "quality": "medium",
        "rotateSpeed": 2,
        "sampleLevel": 0,
        "tooltip": true,
        "workerDefault": true,
        "zoomSpeed": 1.2
       },
       "_ngl_repr_dict": {
        "0": {
         "0": {
          "params": {
           "aspectRatio": 1.5,
           "assembly": "default",
           "bondScale": 0.3,
           "bondSpacing": 0.75,
           "clipCenter": {
            "x": 0,
            "y": 0,
            "z": 0
           },
           "clipNear": 0,
           "clipRadius": 0,
           "colorMode": "hcl",
           "colorReverse": false,
           "colorScale": "",
           "colorScheme": "element",
           "colorValue": 9474192,
           "cylinderOnly": false,
           "defaultAssembly": "",
           "depthWrite": true,
           "diffuse": 16777215,
           "diffuseInterior": false,
           "disableImpostor": false,
           "disablePicking": false,
           "flatShaded": false,
           "interiorColor": 2236962,
           "interiorDarkening": 0,
           "lazy": false,
           "lineOnly": false,
           "linewidth": 2,
           "matrix": {
            "elements": [
             1,
             0,
             0,
             0,
             0,
             1,
             0,
             0,
             0,
             0,
             1,
             0,
             0,
             0,
             0,
             1
            ]
           },
           "metalness": 0,
           "multipleBond": "off",
           "opacity": 1,
           "openEnded": true,
           "quality": "high",
           "radialSegments": 20,
           "radiusData": {},
           "radiusScale": 2,
           "radiusSize": 0.15,
           "radiusType": "size",
           "roughness": 0.4,
           "sele": "",
           "side": "double",
           "sphereDetail": 2,
           "useInteriorColor": true,
           "visible": true,
           "wireframe": false
          },
          "type": "ball+stick"
         }
        }
       },
       "_ngl_serialize": false,
       "_ngl_version": "2.0.0-dev.36",
       "_ngl_view_id": [
        "4BAC2608-F313-47E3-AFDE-5D1BBB944B77"
       ],
       "_player_dict": {},
       "_scene_position": {},
       "_scene_rotation": {},
       "_synced_model_ids": [],
       "_synced_repr_model_ids": [],
       "_view_height": "",
       "_view_width": "",
       "background": "white",
       "frame": 0,
       "gui_style": null,
       "layout": "IPY_MODEL_b67a578197fd41988106f804f376829e",
       "max_frame": 0,
       "n_components": 1,
       "picked": {}
      }
     },
     "f5d2bef4afc34e28860dd2eb44d17338": {
      "model_module": "@jupyter-widgets/controls",
      "model_module_version": "1.5.0",
      "model_name": "ImageModel",
      "state": {
       "layout": "IPY_MODEL_ea2657d84de64c609329b902a43ef72e",
       "width": "900.0"
      }
     },
     "f5d5584c39204688a182b22b958e9e10": {
      "model_module": "@jupyter-widgets/controls",
      "model_module_version": "1.5.0",
      "model_name": "ButtonModel",
      "state": {
       "icon": "compress",
       "layout": "IPY_MODEL_a5843c34b7e445358952fe6619f16b36",
       "style": "IPY_MODEL_fc13a47a0cde44c1bebc8e296012f414"
      }
     },
     "f6162dfbeafb4228a3cefff98c22f9d2": {
      "model_module": "@jupyter-widgets/base",
      "model_module_version": "1.2.0",
      "model_name": "LayoutModel",
      "state": {}
     },
     "f63b05db68dc4234ae6ba063888fa6fb": {
      "model_module": "@jupyter-widgets/base",
      "model_module_version": "1.2.0",
      "model_name": "LayoutModel",
      "state": {}
     },
     "f70ca9a0f32c4759962c4032bd4f1a31": {
      "model_module": "@jupyter-widgets/controls",
      "model_module_version": "1.5.0",
      "model_name": "HBoxModel",
      "state": {
       "children": [
        "IPY_MODEL_aeb2f66844c945e9ad51e107160e4d47",
        "IPY_MODEL_b5fe58d703b2468b855f8bddade2a87a"
       ],
       "layout": "IPY_MODEL_0072344ec2d6452c8bcb97d7d85aad1e"
      }
     },
     "f77ccc452b69401b837f8dadca027be2": {
      "model_module": "@jupyter-widgets/base",
      "model_module_version": "1.2.0",
      "model_name": "LayoutModel",
      "state": {
       "width": "34px"
      }
     },
     "f7e96a3bc3a64915836370855665441d": {
      "model_module": "@jupyter-widgets/base",
      "model_module_version": "1.2.0",
      "model_name": "LayoutModel",
      "state": {}
     },
     "f86dd3c9cfd24c36af159e59ce9c54fd": {
      "model_module": "@jupyter-widgets/controls",
      "model_module_version": "1.5.0",
      "model_name": "ButtonStyleModel",
      "state": {}
     },
     "f8d72e32c1fb44279be5925a8c1a9960": {
      "model_module": "@jupyter-widgets/base",
      "model_module_version": "1.2.0",
      "model_name": "LayoutModel",
      "state": {}
     },
     "f9929ebb68eb42299516b52bae0976b4": {
      "model_module": "@jupyter-widgets/base",
      "model_module_version": "1.2.0",
      "model_name": "LayoutModel",
      "state": {}
     },
     "fa4d7dad969d40bab88c2c4bdd7b8c93": {
      "model_module": "@jupyter-widgets/base",
      "model_module_version": "1.2.0",
      "model_name": "LayoutModel",
      "state": {}
     },
     "fa582518984541c5ac36b0ec76d34c41": {
      "model_module": "@jupyter-widgets/controls",
      "model_module_version": "1.5.0",
      "model_name": "ButtonStyleModel",
      "state": {}
     },
     "fa89328f2c5548939dbd9cfed4c65d00": {
      "model_module": "@jupyter-widgets/controls",
      "model_module_version": "1.5.0",
      "model_name": "IntSliderModel",
      "state": {
       "layout": "IPY_MODEL_a704ce5235274e74bbb9c70650091a59",
       "max": 0,
       "style": "IPY_MODEL_d3948aed4ecf412eb21130291ecdcfee"
      }
     },
     "fba7c4d0821b49bea565143f44243912": {
      "model_module": "@jupyter-widgets/controls",
      "model_module_version": "1.5.0",
      "model_name": "ButtonStyleModel",
      "state": {}
     },
     "fc0df0a83d8b4134b4a34affc26dd823": {
      "model_module": "@jupyter-widgets/controls",
      "model_module_version": "1.5.0",
      "model_name": "LinkModel",
      "state": {
       "source": [
        "IPY_MODEL_b4236f1c902441e6a5899a7b1eabae31",
        "value"
       ],
       "target": [
        "IPY_MODEL_4a2122d9417f4e8facf5d803cff8bfbf",
        "value"
       ]
      }
     },
     "fc13a47a0cde44c1bebc8e296012f414": {
      "model_module": "@jupyter-widgets/controls",
      "model_module_version": "1.5.0",
      "model_name": "ButtonStyleModel",
      "state": {}
     },
     "fd1802b909a04519aacce3112018a7c7": {
      "model_module": "@jupyter-widgets/controls",
      "model_module_version": "1.5.0",
      "model_name": "ImageModel",
      "state": {
       "layout": "IPY_MODEL_a065ee218e8d48d083e25e2e3feb83b6",
       "width": "900.0"
      }
     },
     "fd7c82ae7d2e47139638a76b02c5b72f": {
      "model_module": "@jupyter-widgets/base",
      "model_module_version": "1.2.0",
      "model_name": "LayoutModel",
      "state": {
       "width": "34px"
      }
     },
     "fff97dd0655d4719b3a2c2321a596580": {
      "model_module": "@jupyter-widgets/controls",
      "model_module_version": "1.5.0",
      "model_name": "PlayModel",
      "state": {
       "layout": "IPY_MODEL_e3c9c4bc309844ad83085fda35d49d63",
       "max": 0,
       "style": "IPY_MODEL_11c64d3bc9e942d39f433da1301df66d"
      }
     }
    },
    "version_major": 2,
    "version_minor": 0
   }
  }
 },
 "nbformat": 4,
 "nbformat_minor": 5
}
