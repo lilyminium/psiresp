{
 "cells": [
  {
   "cell_type": "code",
   "execution_count": 7,
   "id": "791d3cb7",
   "metadata": {},
   "outputs": [],
   "source": [
    "import numpy as np\n",
    "import scipy.sparse"
   ]
  },
  {
   "cell_type": "code",
   "execution_count": 3,
   "id": "e4647adf",
   "metadata": {},
   "outputs": [],
   "source": [
    "a = np.array([[13.122362232756892, 12.908730797787177, 12.969074246807999, 1., ],\n",
    "[12.908730797787177, 13.395137277140243, 12.686909980461042, 1., ],\n",
    "[12.969074246807999, 12.686909980461042, 13.4993286861243, 1., ],\n",
    "[1., 1., 1., 0., ]])"
   ]
  },
  {
   "cell_type": "code",
   "execution_count": 4,
   "id": "8b4b2353",
   "metadata": {},
   "outputs": [
    {
     "data": {
      "text/plain": [
       "array([[13.12236223, 12.9087308 , 12.96907425,  1.        ],\n",
       "       [12.9087308 , 13.39513728, 12.68690998,  1.        ],\n",
       "       [12.96907425, 12.68690998, 13.49932869,  1.        ],\n",
       "       [ 1.        ,  1.        ,  1.        ,  0.        ]])"
      ]
     },
     "execution_count": 4,
     "metadata": {},
     "output_type": "execute_result"
    }
   ],
   "source": [
    "a"
   ]
  },
  {
   "cell_type": "code",
   "execution_count": 5,
   "id": "d7da206e",
   "metadata": {},
   "outputs": [
    {
     "data": {
      "text/plain": [
       "array([-0.08870848,  0.06641752,  0.0630471 ,  0.        ])"
      ]
     },
     "execution_count": 5,
     "metadata": {},
     "output_type": "execute_result"
    }
   ],
   "source": [
    "b = np.array([-0.0887084812224098, 0.066417522785488, 0.0630470978361748, 0., ])\n",
    "b"
   ]
  },
  {
   "cell_type": "code",
   "execution_count": 8,
   "id": "cab63cb2",
   "metadata": {},
   "outputs": [],
   "source": [
    "A = scipy.sparse.csr_matrix(a)"
   ]
  },
  {
   "cell_type": "code",
   "execution_count": 9,
   "id": "36383749",
   "metadata": {},
   "outputs": [
    {
     "data": {
      "text/plain": [
       "(4, 4)"
      ]
     },
     "execution_count": 9,
     "metadata": {},
     "output_type": "execute_result"
    }
   ],
   "source": [
    "A.shape"
   ]
  },
  {
   "cell_type": "code",
   "execution_count": 11,
   "id": "7b6fc3a4",
   "metadata": {},
   "outputs": [],
   "source": [
    "import scipy.sparse.linalg"
   ]
  },
  {
   "cell_type": "code",
   "execution_count": 13,
   "id": "3ae2d3cb",
   "metadata": {},
   "outputs": [
    {
     "data": {
      "text/plain": [
       "array([-0.49239545,  0.24574349,  0.24665196,  0.00159883])"
      ]
     },
     "execution_count": 13,
     "metadata": {},
     "output_type": "execute_result"
    }
   ],
   "source": [
    "scipy.sparse.linalg.spsolve(A, b)"
   ]
  },
  {
   "cell_type": "code",
   "execution_count": null,
   "id": "86399230",
   "metadata": {},
   "outputs": [],
   "source": []
  }
 ],
 "metadata": {
  "kernelspec": {
   "display_name": "Python (psiresp-docs-3.8)",
   "language": "python",
   "name": "psiresp-docs-3.8"
  },
  "language_info": {
   "codemirror_mode": {
    "name": "ipython",
    "version": 3
   },
   "file_extension": ".py",
   "mimetype": "text/x-python",
   "name": "python",
   "nbconvert_exporter": "python",
   "pygments_lexer": "ipython3",
   "version": "3.7.0"
  }
 },
 "nbformat": 4,
 "nbformat_minor": 5
}
